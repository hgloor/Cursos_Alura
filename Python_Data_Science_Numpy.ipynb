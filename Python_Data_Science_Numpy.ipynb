{
  "cells": [
    {
      "cell_type": "markdown",
      "metadata": {
        "id": "view-in-github",
        "colab_type": "text"
      },
      "source": [
        "<a href=\"https://colab.research.google.com/github/hgloor/Cursos_Alura/blob/main/Python_Data_Science_Numpy.ipynb\" target=\"_parent\"><img src=\"https://colab.research.google.com/assets/colab-badge.svg\" alt=\"Open In Colab\"/></a>"
      ]
    },
    {
      "cell_type": "markdown",
      "metadata": {
        "id": "do3kUOLbltjE"
      },
      "source": [
        "# <font color=green> PYTHON PARA DATA SCIENCE - NUMPY\n",
        "---"
      ]
    },
    {
      "cell_type": "markdown",
      "metadata": {
        "id": "umSz9TLxltjG"
      },
      "source": [
        "# <font color=green> 1. INTRODUÇÃO AO PYTHON\n",
        "---"
      ]
    },
    {
      "cell_type": "markdown",
      "metadata": {
        "id": "gSnX12-sltjH"
      },
      "source": [
        "# 1.1 Introdução"
      ]
    },
    {
      "cell_type": "markdown",
      "metadata": {
        "id": "SRG_k55kltjI"
      },
      "source": [
        "> Python é uma linguagem de programação de alto nível com suporte a múltiplos paradigmas de programação. É um projeto *open source* e desde seu surgimento, em 1991, vem se tornando uma das linguagens de programação interpretadas mais populares. \n",
        ">\n",
        "> Nos últimos anos Python desenvolveu uma comunidade ativa de processamento científico e análise de dados e vem se destacando como uma das linguagens mais relevantes quando o assunto é ciência de dados e machine learning, tanto no ambiente acadêmico como também no mercado."
      ]
    },
    {
      "cell_type": "markdown",
      "metadata": {
        "id": "2oZuKvWkltjJ"
      },
      "source": [
        "# 1.2 Instalação e ambiente de desenvolvimento"
      ]
    },
    {
      "cell_type": "markdown",
      "metadata": {
        "id": "v4P8bMEIltjK"
      },
      "source": [
        "### Instalação Local\n",
        "\n",
        "### https://www.python.org/downloads/\n",
        "### ou\n",
        "### https://www.anaconda.com/distribution/"
      ]
    },
    {
      "cell_type": "markdown",
      "metadata": {
        "id": "FZtu5tjrltjL"
      },
      "source": [
        "### Google Colaboratory\n",
        "\n",
        "### https://colab.research.google.com"
      ]
    },
    {
      "cell_type": "markdown",
      "metadata": {
        "id": "C6vbfq8DltjM"
      },
      "source": [
        "### Verificando versão"
      ]
    },
    {
      "cell_type": "code",
      "execution_count": 1,
      "metadata": {
        "colab": {
          "base_uri": "https://localhost:8080/"
        },
        "id": "jeuAt-4NltjM",
        "outputId": "415491e5-0168-4233-de6d-7eb1ec4cca5e"
      },
      "outputs": [
        {
          "output_type": "stream",
          "name": "stdout",
          "text": [
            "import _frozen_importlib # frozen\n",
            "import _imp # builtin\n",
            "import '_thread' # <class '_frozen_importlib.BuiltinImporter'>\n",
            "import '_warnings' # <class '_frozen_importlib.BuiltinImporter'>\n",
            "import '_weakref' # <class '_frozen_importlib.BuiltinImporter'>\n",
            "import '_io' # <class '_frozen_importlib.BuiltinImporter'>\n",
            "import 'marshal' # <class '_frozen_importlib.BuiltinImporter'>\n",
            "import 'posix' # <class '_frozen_importlib.BuiltinImporter'>\n",
            "import '_frozen_importlib_external' # <class '_frozen_importlib.FrozenImporter'>\n",
            "import _thread # previously loaded ('_thread')\n",
            "import '_thread' # <class '_frozen_importlib.BuiltinImporter'>\n",
            "import _weakref # previously loaded ('_weakref')\n",
            "import '_weakref' # <class '_frozen_importlib.BuiltinImporter'>\n",
            "# installing zipimport hook\n",
            "import 'time' # <class '_frozen_importlib.BuiltinImporter'>\n",
            "import 'zipimport' # <class '_frozen_importlib.FrozenImporter'>\n",
            "# installed zipimport hook\n",
            "# /usr/lib/python3.8/encodings/__pycache__/__init__.cpython-38.pyc matches /usr/lib/python3.8/encodings/__init__.py\n",
            "# code object from '/usr/lib/python3.8/encodings/__pycache__/__init__.cpython-38.pyc'\n",
            "# /usr/lib/python3.8/__pycache__/codecs.cpython-38.pyc matches /usr/lib/python3.8/codecs.py\n",
            "# code object from '/usr/lib/python3.8/__pycache__/codecs.cpython-38.pyc'\n",
            "import '_codecs' # <class '_frozen_importlib.BuiltinImporter'>\n",
            "import 'codecs' # <_frozen_importlib_external.SourceFileLoader object at 0x7fdabc9cf970>\n",
            "# /usr/lib/python3.8/encodings/__pycache__/aliases.cpython-38.pyc matches /usr/lib/python3.8/encodings/aliases.py\n",
            "# code object from '/usr/lib/python3.8/encodings/__pycache__/aliases.cpython-38.pyc'\n",
            "import 'encodings.aliases' # <_frozen_importlib_external.SourceFileLoader object at 0x7fdabc96af40>\n",
            "import 'encodings' # <_frozen_importlib_external.SourceFileLoader object at 0x7fdabc9cf6d0>\n",
            "# /usr/lib/python3.8/encodings/__pycache__/utf_8.cpython-38.pyc matches /usr/lib/python3.8/encodings/utf_8.py\n",
            "# code object from '/usr/lib/python3.8/encodings/__pycache__/utf_8.cpython-38.pyc'\n",
            "import 'encodings.utf_8' # <_frozen_importlib_external.SourceFileLoader object at 0x7fdabc9cf7f0>\n",
            "import '_signal' # <class '_frozen_importlib.BuiltinImporter'>\n",
            "# /usr/lib/python3.8/encodings/__pycache__/latin_1.cpython-38.pyc matches /usr/lib/python3.8/encodings/latin_1.py\n",
            "# code object from '/usr/lib/python3.8/encodings/__pycache__/latin_1.cpython-38.pyc'\n",
            "import 'encodings.latin_1' # <_frozen_importlib_external.SourceFileLoader object at 0x7fdabc96af70>\n",
            "# /usr/lib/python3.8/__pycache__/io.cpython-38.pyc matches /usr/lib/python3.8/io.py\n",
            "# code object from '/usr/lib/python3.8/__pycache__/io.cpython-38.pyc'\n",
            "# /usr/lib/python3.8/__pycache__/abc.cpython-38.pyc matches /usr/lib/python3.8/abc.py\n",
            "# code object from '/usr/lib/python3.8/__pycache__/abc.cpython-38.pyc'\n",
            "import '_abc' # <class '_frozen_importlib.BuiltinImporter'>\n",
            "import 'abc' # <_frozen_importlib_external.SourceFileLoader object at 0x7fdabc982520>\n",
            "import 'io' # <_frozen_importlib_external.SourceFileLoader object at 0x7fdabc982250>\n",
            "# /usr/lib/python3.8/__pycache__/warnings.cpython-38.pyc matches /usr/lib/python3.8/warnings.py\n",
            "# code object from '/usr/lib/python3.8/__pycache__/warnings.cpython-38.pyc'\n",
            "# /usr/lib/python3.8/__pycache__/re.cpython-38.pyc matches /usr/lib/python3.8/re.py\n",
            "# code object from '/usr/lib/python3.8/__pycache__/re.cpython-38.pyc'\n",
            "# /usr/lib/python3.8/__pycache__/enum.cpython-38.pyc matches /usr/lib/python3.8/enum.py\n",
            "# code object from '/usr/lib/python3.8/__pycache__/enum.cpython-38.pyc'\n",
            "# /usr/lib/python3.8/__pycache__/types.cpython-38.pyc matches /usr/lib/python3.8/types.py\n",
            "# code object from '/usr/lib/python3.8/__pycache__/types.cpython-38.pyc'\n",
            "import 'types' # <_frozen_importlib_external.SourceFileLoader object at 0x7fdabc929730>\n",
            "import 'enum' # <_frozen_importlib_external.SourceFileLoader object at 0x7fdabc9200d0>\n",
            "# /usr/lib/python3.8/__pycache__/sre_compile.cpython-38.pyc matches /usr/lib/python3.8/sre_compile.py\n",
            "# code object from '/usr/lib/python3.8/__pycache__/sre_compile.cpython-38.pyc'\n",
            "import '_sre' # <class '_frozen_importlib.BuiltinImporter'>\n",
            "# /usr/lib/python3.8/__pycache__/sre_parse.cpython-38.pyc matches /usr/lib/python3.8/sre_parse.py\n",
            "# code object from '/usr/lib/python3.8/__pycache__/sre_parse.cpython-38.pyc'\n",
            "# /usr/lib/python3.8/__pycache__/sre_constants.cpython-38.pyc matches /usr/lib/python3.8/sre_constants.py\n",
            "# code object from '/usr/lib/python3.8/__pycache__/sre_constants.cpython-38.pyc'\n",
            "import 'sre_constants' # <_frozen_importlib_external.SourceFileLoader object at 0x7fdabc94b610>\n",
            "import 'sre_parse' # <_frozen_importlib_external.SourceFileLoader object at 0x7fdabc93bbb0>\n",
            "import 'sre_compile' # <_frozen_importlib_external.SourceFileLoader object at 0x7fdabc93b2e0>\n",
            "# /usr/lib/python3.8/__pycache__/functools.cpython-38.pyc matches /usr/lib/python3.8/functools.py\n",
            "# code object from '/usr/lib/python3.8/__pycache__/functools.cpython-38.pyc'\n",
            "# /usr/lib/python3.8/collections/__pycache__/__init__.cpython-38.pyc matches /usr/lib/python3.8/collections/__init__.py\n",
            "# code object from '/usr/lib/python3.8/collections/__pycache__/__init__.cpython-38.pyc'\n",
            "# /usr/lib/python3.8/__pycache__/_collections_abc.cpython-38.pyc matches /usr/lib/python3.8/_collections_abc.py\n",
            "# code object from '/usr/lib/python3.8/__pycache__/_collections_abc.cpython-38.pyc'\n",
            "import '_collections_abc' # <_frozen_importlib_external.SourceFileLoader object at 0x7fdabc8e6250>\n",
            "# /usr/lib/python3.8/__pycache__/operator.cpython-38.pyc matches /usr/lib/python3.8/operator.py\n",
            "# code object from '/usr/lib/python3.8/__pycache__/operator.cpython-38.pyc'\n",
            "import '_operator' # <class '_frozen_importlib.BuiltinImporter'>\n",
            "import 'operator' # <_frozen_importlib_external.SourceFileLoader object at 0x7fdabc8e6970>\n",
            "# /usr/lib/python3.8/__pycache__/keyword.cpython-38.pyc matches /usr/lib/python3.8/keyword.py\n",
            "# code object from '/usr/lib/python3.8/__pycache__/keyword.cpython-38.pyc'\n",
            "import 'keyword' # <_frozen_importlib_external.SourceFileLoader object at 0x7fdabc8e6160>\n",
            "# /usr/lib/python3.8/__pycache__/heapq.cpython-38.pyc matches /usr/lib/python3.8/heapq.py\n",
            "# code object from '/usr/lib/python3.8/__pycache__/heapq.cpython-38.pyc'\n",
            "import '_heapq' # <class '_frozen_importlib.BuiltinImporter'>\n",
            "import 'heapq' # <_frozen_importlib_external.SourceFileLoader object at 0x7fdabc875190>\n",
            "import 'itertools' # <class '_frozen_importlib.BuiltinImporter'>\n",
            "# /usr/lib/python3.8/__pycache__/reprlib.cpython-38.pyc matches /usr/lib/python3.8/reprlib.py\n",
            "# code object from '/usr/lib/python3.8/__pycache__/reprlib.cpython-38.pyc'\n",
            "import 'reprlib' # <_frozen_importlib_external.SourceFileLoader object at 0x7fdabc887730>\n",
            "import '_collections' # <class '_frozen_importlib.BuiltinImporter'>\n",
            "import 'collections' # <_frozen_importlib_external.SourceFileLoader object at 0x7fdabc8c8430>\n",
            "import '_functools' # <class '_frozen_importlib.BuiltinImporter'>\n",
            "import 'functools' # <_frozen_importlib_external.SourceFileLoader object at 0x7fdabc93b8e0>\n",
            "import '_locale' # <class '_frozen_importlib.BuiltinImporter'>\n",
            "# /usr/lib/python3.8/__pycache__/copyreg.cpython-38.pyc matches /usr/lib/python3.8/copyreg.py\n",
            "# code object from '/usr/lib/python3.8/__pycache__/copyreg.cpython-38.pyc'\n",
            "import 'copyreg' # <_frozen_importlib_external.SourceFileLoader object at 0x7fdabc883760>\n",
            "import 're' # <_frozen_importlib_external.SourceFileLoader object at 0x7fdabc992610>\n",
            "import 'warnings' # <_frozen_importlib_external.SourceFileLoader object at 0x7fdabc982e80>\n",
            "# /usr/lib/python3.8/__pycache__/site.cpython-38.pyc matches /usr/lib/python3.8/site.py\n",
            "# code object from '/usr/lib/python3.8/__pycache__/site.cpython-38.pyc'\n",
            "# /usr/lib/python3.8/__pycache__/os.cpython-38.pyc matches /usr/lib/python3.8/os.py\n",
            "# code object from '/usr/lib/python3.8/__pycache__/os.cpython-38.pyc'\n",
            "# /usr/lib/python3.8/__pycache__/stat.cpython-38.pyc matches /usr/lib/python3.8/stat.py\n",
            "# code object from '/usr/lib/python3.8/__pycache__/stat.cpython-38.pyc'\n",
            "import '_stat' # <class '_frozen_importlib.BuiltinImporter'>\n",
            "import 'stat' # <_frozen_importlib_external.SourceFileLoader object at 0x7fdabc88fca0>\n",
            "# /usr/lib/python3.8/__pycache__/posixpath.cpython-38.pyc matches /usr/lib/python3.8/posixpath.py\n",
            "# code object from '/usr/lib/python3.8/__pycache__/posixpath.cpython-38.pyc'\n",
            "# /usr/lib/python3.8/__pycache__/genericpath.cpython-38.pyc matches /usr/lib/python3.8/genericpath.py\n",
            "# code object from '/usr/lib/python3.8/__pycache__/genericpath.cpython-38.pyc'\n",
            "import 'genericpath' # <_frozen_importlib_external.SourceFileLoader object at 0x7fdabc84a790>\n",
            "import 'posixpath' # <_frozen_importlib_external.SourceFileLoader object at 0x7fdabc88fd30>\n",
            "import 'os' # <_frozen_importlib_external.SourceFileLoader object at 0x7fdabc887a60>\n",
            "# /usr/lib/python3.8/__pycache__/_sitebuiltins.cpython-38.pyc matches /usr/lib/python3.8/_sitebuiltins.py\n",
            "# code object from '/usr/lib/python3.8/__pycache__/_sitebuiltins.cpython-38.pyc'\n",
            "import '_sitebuiltins' # <_frozen_importlib_external.SourceFileLoader object at 0x7fdabc883280>\n",
            "# /usr/lib/python3.8/__pycache__/_bootlocale.cpython-38.pyc matches /usr/lib/python3.8/_bootlocale.py\n",
            "# code object from '/usr/lib/python3.8/__pycache__/_bootlocale.cpython-38.pyc'\n",
            "import '_bootlocale' # <_frozen_importlib_external.SourceFileLoader object at 0x7fdabc84abb0>\n",
            "# /usr/lib/python3.8/importlib/__pycache__/__init__.cpython-38.pyc matches /usr/lib/python3.8/importlib/__init__.py\n",
            "# code object from '/usr/lib/python3.8/importlib/__pycache__/__init__.cpython-38.pyc'\n",
            "import 'importlib' # <_frozen_importlib_external.SourceFileLoader object at 0x7fdabc84af10>\n",
            "# /usr/lib/python3.8/importlib/__pycache__/util.cpython-38.pyc matches /usr/lib/python3.8/importlib/util.py\n",
            "# code object from '/usr/lib/python3.8/importlib/__pycache__/util.cpython-38.pyc'\n",
            "# /usr/lib/python3.8/importlib/__pycache__/abc.cpython-38.pyc matches /usr/lib/python3.8/importlib/abc.py\n",
            "# code object from '/usr/lib/python3.8/importlib/__pycache__/abc.cpython-38.pyc'\n",
            "# /usr/lib/python3.8/importlib/__pycache__/machinery.cpython-38.pyc matches /usr/lib/python3.8/importlib/machinery.py\n",
            "# code object from '/usr/lib/python3.8/importlib/__pycache__/machinery.cpython-38.pyc'\n",
            "import 'importlib.machinery' # <_frozen_importlib_external.SourceFileLoader object at 0x7fdabc86f550>\n",
            "import 'importlib.abc' # <_frozen_importlib_external.SourceFileLoader object at 0x7fdabc8658b0>\n",
            "# /usr/lib/python3.8/__pycache__/contextlib.cpython-38.pyc matches /usr/lib/python3.8/contextlib.py\n",
            "# code object from '/usr/lib/python3.8/__pycache__/contextlib.cpython-38.pyc'\n",
            "import 'contextlib' # <_frozen_importlib_external.SourceFileLoader object at 0x7fdabc865790>\n",
            "import 'importlib.util' # <_frozen_importlib_external.SourceFileLoader object at 0x7fdabc84ad60>\n",
            "# possible namespace for /usr/local/lib/python3.8/dist-packages/google\n",
            "# possible namespace for /usr/local/lib/python3.8/dist-packages/google\n",
            "# destroy google\n",
            "# possible namespace for /usr/local/lib/python3.8/dist-packages/google\n",
            "# destroy google\n",
            "# possible namespace for /usr/local/lib/python3.8/dist-packages/google\n",
            "# destroy google\n",
            "# possible namespace for /usr/local/lib/python3.8/dist-packages/google/cloud\n",
            "# possible namespace for /usr/local/lib/python3.8/dist-packages/google\n",
            "# destroy google\n",
            "# possible namespace for /usr/local/lib/python3.8/dist-packages/google\n",
            "# destroy google\n",
            "# possible namespace for /usr/local/lib/python3.8/dist-packages/google/cloud\n",
            "# destroy google.cloud\n",
            "# possible namespace for /usr/local/lib/python3.8/dist-packages/google\n",
            "# destroy google\n",
            "# possible namespace for /usr/local/lib/python3.8/dist-packages/google\n",
            "# destroy google\n",
            "# possible namespace for /usr/local/lib/python3.8/dist-packages/google/cloud\n",
            "# destroy google.cloud\n",
            "# possible namespace for /usr/local/lib/python3.8/dist-packages/google\n",
            "# destroy google\n",
            "# possible namespace for /usr/local/lib/python3.8/dist-packages/google\n",
            "# destroy google\n",
            "# possible namespace for /usr/local/lib/python3.8/dist-packages/google/cloud\n",
            "# destroy google.cloud\n",
            "# possible namespace for /usr/local/lib/python3.8/dist-packages/google\n",
            "# destroy google\n",
            "# possible namespace for /usr/local/lib/python3.8/dist-packages/google\n",
            "# destroy google\n",
            "# possible namespace for /usr/local/lib/python3.8/dist-packages/google/cloud\n",
            "# destroy google.cloud\n",
            "# possible namespace for /usr/local/lib/python3.8/dist-packages/google\n",
            "# destroy google\n",
            "# possible namespace for /usr/local/lib/python3.8/dist-packages/google\n",
            "# destroy google\n",
            "# possible namespace for /usr/local/lib/python3.8/dist-packages/google/cloud\n",
            "# destroy google.cloud\n",
            "# possible namespace for /usr/local/lib/python3.8/dist-packages/google\n",
            "# destroy google\n",
            "# possible namespace for /usr/local/lib/python3.8/dist-packages/google\n",
            "# destroy google\n",
            "# possible namespace for /usr/local/lib/python3.8/dist-packages/google/cloud\n",
            "# destroy google.cloud\n",
            "# possible namespace for /usr/local/lib/python3.8/dist-packages/google\n",
            "# destroy google\n",
            "# possible namespace for /usr/local/lib/python3.8/dist-packages/google\n",
            "# destroy google\n",
            "# possible namespace for /usr/local/lib/python3.8/dist-packages/google/cloud\n",
            "# destroy google.cloud\n",
            "# possible namespace for /usr/local/lib/python3.8/dist-packages/google\n",
            "# destroy google\n",
            "# possible namespace for /usr/local/lib/python3.8/dist-packages/google\n",
            "# destroy google\n",
            "# possible namespace for /usr/local/lib/python3.8/dist-packages/google\n",
            "# destroy google\n",
            "# possible namespace for /usr/local/lib/python3.8/dist-packages/google\n",
            "# destroy google\n",
            "# possible namespace for /usr/local/lib/python3.8/dist-packages/google/logging\n",
            "# possible namespace for /usr/local/lib/python3.8/dist-packages/mpl_toolkits\n",
            "# possible namespace for /usr/local/lib/python3.8/dist-packages/google\n",
            "# destroy google\n",
            "# possible namespace for /usr/local/lib/python3.8/dist-packages/sphinxcontrib\n",
            "# possible namespace for /usr/local/lib/python3.8/dist-packages/sphinxcontrib\n",
            "# destroy sphinxcontrib\n",
            "# possible namespace for /usr/local/lib/python3.8/dist-packages/sphinxcontrib\n",
            "# destroy sphinxcontrib\n",
            "# possible namespace for /usr/local/lib/python3.8/dist-packages/sphinxcontrib\n",
            "# destroy sphinxcontrib\n",
            "# /usr/lib/python3.8/__pycache__/sitecustomize.cpython-38.pyc matches /usr/lib/python3.8/sitecustomize.py\n",
            "# code object from '/usr/lib/python3.8/__pycache__/sitecustomize.cpython-38.pyc'\n",
            "import 'sitecustomize' # <_frozen_importlib_external.SourceFileLoader object at 0x7fdabc81a6a0>\n",
            "import 'site' # <_frozen_importlib_external.SourceFileLoader object at 0x7fdabc992340>\n",
            "Python 3.8.10 (default, Nov 14 2022, 12:59:47) \n",
            "[GCC 9.4.0] on linux\n",
            "Type \"help\", \"copyright\", \"credits\" or \"license\" for more information.\n",
            "# extension module 'readline' loaded from '/usr/lib/python3.8/lib-dynload/readline.cpython-38-x86_64-linux-gnu.so'\n",
            "# extension module 'readline' executed from '/usr/lib/python3.8/lib-dynload/readline.cpython-38-x86_64-linux-gnu.so'\n",
            "import 'readline' # <_frozen_importlib_external.ExtensionFileLoader object at 0x7fdabc81a370>\n",
            "import 'atexit' # <class '_frozen_importlib.BuiltinImporter'>\n",
            "# /usr/lib/python3.8/__pycache__/rlcompleter.cpython-38.pyc matches /usr/lib/python3.8/rlcompleter.py\n",
            "# code object from '/usr/lib/python3.8/__pycache__/rlcompleter.cpython-38.pyc'\n",
            "import 'rlcompleter' # <_frozen_importlib_external.SourceFileLoader object at 0x7fdabc81a760>\n",
            ">>> credits\n",
            "    Thanks to CWI, CNRI, BeOpen.com, Zope Corporation and a cast of thousands\n",
            "    for supporting Python development.  See www.python.org for more information.\n",
            ">>> \n",
            ">>> exit\n",
            "Use exit() or Ctrl-D (i.e. EOF) to exit\n",
            ">>> exit()\n",
            "# clear builtins._\n",
            "# clear sys.path\n",
            "# clear sys.argv\n",
            "# clear sys.ps1\n",
            "# clear sys.ps2\n",
            "# clear sys.last_type\n",
            "# clear sys.last_value\n",
            "# clear sys.last_traceback\n",
            "# clear sys.path_hooks\n",
            "# clear sys.path_importer_cache\n",
            "# clear sys.meta_path\n",
            "# clear sys.__interactivehook__\n",
            "# restore sys.stdin\n",
            "# restore sys.stdout\n",
            "# restore sys.stderr\n",
            "# cleanup[2] removing sys\n",
            "# cleanup[2] removing builtins\n",
            "# cleanup[2] removing _frozen_importlib\n",
            "# cleanup[2] removing _imp\n",
            "# cleanup[2] removing _warnings\n",
            "# cleanup[2] removing _io\n",
            "# cleanup[2] removing marshal\n",
            "# cleanup[2] removing posix\n",
            "# cleanup[2] removing _frozen_importlib_external\n",
            "# cleanup[2] removing _thread\n",
            "# cleanup[2] removing _weakref\n",
            "# cleanup[2] removing time\n",
            "# cleanup[2] removing zipimport\n",
            "# destroy zipimport\n",
            "# cleanup[2] removing _codecs\n",
            "# cleanup[2] removing codecs\n",
            "# cleanup[2] removing encodings.aliases\n",
            "# cleanup[2] removing encodings\n",
            "# destroy encodings\n",
            "# cleanup[2] removing encodings.utf_8\n",
            "# cleanup[2] removing _signal\n",
            "# cleanup[2] removing __main__\n",
            "# cleanup[2] removing encodings.latin_1\n",
            "# cleanup[2] removing _abc\n",
            "# cleanup[2] removing abc\n",
            "# cleanup[2] removing io\n",
            "# cleanup[2] removing types\n",
            "# cleanup[2] removing enum\n",
            "# cleanup[2] removing _sre\n",
            "# cleanup[2] removing sre_constants\n",
            "# destroy sre_constants\n",
            "# cleanup[2] removing sre_parse\n",
            "# cleanup[2] removing sre_compile\n",
            "# cleanup[2] removing _collections_abc\n",
            "# cleanup[2] removing _operator\n",
            "# cleanup[2] removing operator\n",
            "# destroy operator\n",
            "# cleanup[2] removing keyword\n",
            "# destroy keyword\n",
            "# cleanup[2] removing _heapq\n",
            "# cleanup[2] removing heapq\n",
            "# cleanup[2] removing itertools\n",
            "# cleanup[2] removing reprlib\n",
            "# destroy reprlib\n",
            "# cleanup[2] removing _collections\n",
            "# cleanup[2] removing collections\n",
            "# destroy collections\n",
            "# cleanup[2] removing _functools\n",
            "# cleanup[2] removing functools\n",
            "# cleanup[2] removing _locale\n",
            "# cleanup[2] removing copyreg\n",
            "# cleanup[2] removing re\n",
            "# destroy re\n",
            "# cleanup[2] removing warnings\n",
            "# cleanup[2] removing _stat\n",
            "# cleanup[2] removing stat\n",
            "# cleanup[2] removing genericpath\n",
            "# cleanup[2] removing posixpath\n",
            "# cleanup[2] removing os.path\n",
            "# cleanup[2] removing os\n",
            "# cleanup[2] removing _sitebuiltins\n",
            "# cleanup[2] removing _bootlocale\n",
            "# destroy _bootlocale\n",
            "# cleanup[2] removing importlib._bootstrap\n",
            "# cleanup[2] removing importlib._bootstrap_external\n",
            "# cleanup[2] removing importlib\n",
            "# destroy importlib\n",
            "# cleanup[2] removing importlib.machinery\n",
            "# cleanup[2] removing importlib.abc\n",
            "# cleanup[2] removing contextlib\n",
            "# destroy contextlib\n",
            "# cleanup[2] removing importlib.util\n",
            "# cleanup[2] removing google\n",
            "# destroy google\n",
            "# cleanup[2] removing google.cloud\n",
            "# destroy google.cloud\n",
            "# cleanup[2] removing google.logging\n",
            "# destroy google.logging\n",
            "# cleanup[2] removing mpl_toolkits\n",
            "# destroy mpl_toolkits\n",
            "# cleanup[2] removing sphinxcontrib\n",
            "# destroy sphinxcontrib\n",
            "# cleanup[2] removing sitecustomize\n",
            "# destroy sitecustomize\n",
            "# cleanup[2] removing site\n",
            "# destroy site\n",
            "# cleanup[2] removing readline\n",
            "# cleanup[2] removing atexit\n",
            "# cleanup[2] removing rlcompleter\n",
            "# destroy rlcompleter\n",
            "# destroy time\n",
            "# destroy _signal\n",
            "# destroy enum\n",
            "# destroy sre_compile\n",
            "# destroy copyreg\n",
            "# destroy sre_parse\n",
            "# destroy _sre\n",
            "# destroy _abc\n",
            "# destroy heapq\n",
            "# destroy _operator\n",
            "# destroy _heapq\n",
            "# destroy itertools\n",
            "# destroy _collections_abc\n",
            "# destroy atexit\n",
            "# destroy __main__\n",
            "# destroy readline\n",
            "# destroy _collections\n",
            "# destroy _functools\n",
            "# destroy _sitebuiltins\n",
            "# destroy io\n",
            "# destroy posixpath\n",
            "# destroy _stat\n",
            "# destroy genericpath\n",
            "# destroy os\n",
            "# destroy stat\n",
            "# destroy _locale\n",
            "# destroy importlib.util\n",
            "# destroy importlib.abc\n",
            "# destroy functools\n",
            "# destroy types\n",
            "# destroy importlib.machinery\n",
            "# destroy abc\n",
            "# destroy warnings\n",
            "# cleanup[3] wiping importlib._bootstrap_external\n",
            "# cleanup[3] wiping importlib._bootstrap\n",
            "# destroy _frozen_importlib_external\n",
            "# cleanup[3] wiping encodings.latin_1\n",
            "# cleanup[3] wiping encodings.utf_8\n",
            "# cleanup[3] wiping encodings.aliases\n",
            "# cleanup[3] wiping codecs\n",
            "# cleanup[3] wiping _codecs\n",
            "# cleanup[3] wiping _weakref\n",
            "# destroy _weakref\n",
            "# cleanup[3] wiping _thread\n",
            "# destroy _thread\n",
            "# cleanup[3] wiping posix\n",
            "# destroy posix\n",
            "# cleanup[3] wiping marshal\n",
            "# destroy marshal\n",
            "# cleanup[3] wiping _io\n",
            "# destroy io\n",
            "# cleanup[3] wiping _warnings\n",
            "# destroy _warnings\n",
            "# cleanup[3] wiping _imp\n",
            "# destroy _imp\n",
            "# cleanup[3] wiping _frozen_importlib\n",
            "# cleanup[3] wiping sys\n",
            "# cleanup[3] wiping builtins\n",
            "# destroy _frozen_importlib\n",
            "# clear sys.audit hooks\n"
          ]
        }
      ],
      "source": [
        "!python -v"
      ]
    },
    {
      "cell_type": "markdown",
      "metadata": {
        "id": "v86aEyR2ltjR"
      },
      "source": [
        "# 1.3 Trabalhando com arrays Numpy"
      ]
    },
    {
      "cell_type": "code",
      "execution_count": 1,
      "metadata": {
        "id": "6FEhElzNltjR"
      },
      "outputs": [],
      "source": [
        "import numpy as np"
      ]
    },
    {
      "cell_type": "code",
      "execution_count": 3,
      "metadata": {
        "id": "qjL5wPLKltjU"
      },
      "outputs": [],
      "source": [
        "km = np.loadtxt('carros-km.txt')"
      ]
    },
    {
      "cell_type": "code",
      "execution_count": 4,
      "metadata": {
        "id": "OFaxgUptltjW",
        "scrolled": true,
        "colab": {
          "base_uri": "https://localhost:8080/"
        },
        "outputId": "d0c43a17-9880-4461-f171-d3ee5b16b4e3"
      },
      "outputs": [
        {
          "output_type": "execute_result",
          "data": {
            "text/plain": [
              "array([4.44100e+04, 5.71200e+03, 3.71230e+04, 0.00000e+00, 2.57570e+04,\n",
              "       1.07280e+04, 0.00000e+00, 7.75990e+04, 9.91970e+04, 3.79780e+04,\n",
              "       1.28590e+04, 8.05200e+03, 8.97730e+04, 0.00000e+00, 4.14570e+04,\n",
              "       1.15607e+05, 4.64490e+04, 0.00000e+00, 3.70860e+04, 1.51730e+04,\n",
              "       1.01193e+05, 0.00000e+00, 9.80790e+04, 1.02959e+05, 0.00000e+00,\n",
              "       0.00000e+00, 5.79500e+03, 0.00000e+00, 5.88480e+04, 9.43810e+04,\n",
              "       3.01630e+04, 5.33320e+04, 1.77200e+04, 3.38080e+04, 9.06840e+04,\n",
              "       4.39750e+04, 0.00000e+00, 0.00000e+00, 5.52600e+03, 0.00000e+00,\n",
              "       9.34150e+04, 4.07620e+04, 0.00000e+00, 8.63020e+04, 0.00000e+00,\n",
              "       9.75500e+03, 6.99450e+04, 2.39500e+03, 0.00000e+00, 8.03490e+04,\n",
              "       8.55540e+04, 5.04960e+04, 6.77160e+04, 9.39470e+04, 3.53450e+04,\n",
              "       8.10070e+04, 1.19513e+05, 0.00000e+00, 0.00000e+00, 0.00000e+00,\n",
              "       0.00000e+00, 0.00000e+00, 1.18895e+05, 4.85090e+04, 1.00912e+05,\n",
              "       9.56490e+04, 0.00000e+00, 9.04950e+04, 0.00000e+00, 2.91320e+04,\n",
              "       2.38020e+04, 8.49920e+04, 5.43950e+04, 2.67310e+04, 4.43290e+04,\n",
              "       1.18236e+05, 1.13808e+05, 6.10000e+02, 0.00000e+00, 0.00000e+00,\n",
              "       1.28870e+04, 7.96070e+04, 9.09240e+04, 4.27330e+04, 0.00000e+00,\n",
              "       0.00000e+00, 1.17714e+05, 1.13885e+05, 0.00000e+00, 3.05110e+04,\n",
              "       7.48670e+04, 1.19760e+05, 8.35600e+03, 6.42470e+04, 8.86610e+04,\n",
              "       4.53900e+03, 1.10116e+05, 3.32150e+04, 9.20010e+04, 0.00000e+00,\n",
              "       8.17080e+04, 7.06410e+04, 0.00000e+00, 9.12770e+04, 2.65440e+04,\n",
              "       5.25960e+04, 4.75030e+04, 8.90560e+04, 2.88340e+04, 1.10564e+05,\n",
              "       5.66380e+04, 1.73570e+04, 7.40150e+04, 1.51960e+04, 0.00000e+00,\n",
              "       1.08210e+04, 0.00000e+00, 0.00000e+00, 9.59500e+03, 9.90520e+04,\n",
              "       5.23890e+04, 1.19945e+05, 9.60050e+04, 3.16390e+04, 0.00000e+00,\n",
              "       8.01870e+04, 0.00000e+00, 5.82120e+04, 6.16720e+04, 3.20170e+04,\n",
              "       0.00000e+00, 5.69440e+04, 0.00000e+00, 8.65190e+04, 4.82100e+03,\n",
              "       1.01025e+05, 3.07050e+04, 0.00000e+00, 3.25550e+04, 1.03389e+05,\n",
              "       0.00000e+00, 5.52890e+04, 0.00000e+00, 0.00000e+00, 1.15930e+05,\n",
              "       6.64370e+04, 9.68000e+04, 1.42370e+04, 1.98960e+04, 1.13045e+05,\n",
              "       1.14942e+05, 3.17300e+03, 8.36110e+04, 2.53560e+04, 8.86340e+04,\n",
              "       2.31400e+03, 2.62700e+03, 5.20340e+04, 0.00000e+00, 0.00000e+00,\n",
              "       7.95770e+04, 1.08201e+05, 7.64530e+04, 5.76830e+04, 9.66100e+04,\n",
              "       1.09001e+05, 2.62120e+04, 4.59710e+04, 4.91820e+04, 4.99070e+04,\n",
              "       3.86200e+04, 6.09960e+04, 7.39140e+04, 1.07392e+05, 9.14600e+03,\n",
              "       0.00000e+00, 1.79240e+04, 0.00000e+00, 1.16949e+05, 2.04760e+04,\n",
              "       5.28040e+04, 8.84900e+03, 9.17240e+04, 3.20560e+04, 7.48860e+04,\n",
              "       0.00000e+00, 0.00000e+00, 5.21890e+04, 8.35590e+04, 0.00000e+00,\n",
              "       2.03280e+04, 0.00000e+00, 7.55770e+04, 3.36590e+04, 1.04341e+05,\n",
              "       2.55100e+04, 1.89650e+04, 8.71610e+04, 6.65200e+03, 5.57380e+04,\n",
              "       0.00000e+00, 0.00000e+00, 0.00000e+00, 6.43200e+04, 0.00000e+00,\n",
              "       6.86780e+04, 7.16970e+04, 0.00000e+00, 3.47830e+04, 3.37720e+04,\n",
              "       8.51270e+04, 1.36060e+04, 3.56470e+04, 9.51280e+04, 1.40460e+04,\n",
              "       4.11940e+04, 0.00000e+00, 9.61000e+04, 1.03900e+05, 4.38140e+04,\n",
              "       2.46380e+04, 0.00000e+00, 1.10966e+05, 1.59870e+04, 5.33690e+04,\n",
              "       1.00770e+04, 7.15440e+04, 1.07000e+02, 8.39400e+03, 4.14980e+04,\n",
              "       1.16002e+05, 1.00858e+05, 6.74750e+04, 8.49700e+03, 4.42000e+03,\n",
              "       0.00000e+00, 5.85370e+04, 0.00000e+00, 0.00000e+00, 1.12016e+05,\n",
              "       9.18400e+04, 1.12787e+05, 0.00000e+00, 0.00000e+00, 9.29300e+03,\n",
              "       0.00000e+00, 5.50830e+04, 4.87960e+04, 0.00000e+00, 8.96850e+04,\n",
              "       8.53840e+04, 9.81080e+04, 7.12800e+04, 2.75050e+04, 2.99810e+04,\n",
              "       5.26370e+04, 7.68500e+03, 5.01880e+04])"
            ]
          },
          "metadata": {},
          "execution_count": 4
        }
      ],
      "source": [
        "km"
      ]
    },
    {
      "cell_type": "code",
      "execution_count": 5,
      "metadata": {
        "id": "FXjYowRDltjZ"
      },
      "outputs": [],
      "source": [
        "anos = np.loadtxt('carros-anos.txt', dtype = int)"
      ]
    },
    {
      "cell_type": "code",
      "execution_count": 6,
      "metadata": {
        "id": "f_d2Ya-vltjb",
        "colab": {
          "base_uri": "https://localhost:8080/"
        },
        "outputId": "8e025829-1b2a-4a9c-c051-6e6e80f142d9"
      },
      "outputs": [
        {
          "output_type": "execute_result",
          "data": {
            "text/plain": [
              "array([2003, 1991, 1990, 2019, 2006, 2012, 2019, 2009, 2010, 2011, 2002,\n",
              "       2007, 2001, 2019, 2009, 2016, 2012, 2019, 2016, 2017, 2002, 2019,\n",
              "       1994, 1991, 2019, 2019, 2016, 2019, 2002, 1991, 1997, 1995, 2018,\n",
              "       1991, 2014, 1995, 2019, 2019, 2009, 2019, 2013, 2003, 2019, 2002,\n",
              "       2019, 2002, 2004, 2001, 2019, 2003, 2009, 2006, 2000, 2006, 2010,\n",
              "       1994, 2007, 2019, 2019, 2019, 2019, 2019, 2017, 2011, 2001, 1996,\n",
              "       2019, 1994, 2019, 2007, 1994, 2007, 1997, 2006, 2013, 1994, 2008,\n",
              "       2008, 2019, 2019, 1999, 2007, 1993, 1995, 2019, 2019, 2016, 2011,\n",
              "       2019, 2002, 2013, 2017, 2016, 2008, 2018, 2003, 2003, 2004, 2010,\n",
              "       2019, 2006, 2001, 2019, 2015, 2018, 2017, 1992, 2001, 1993, 1995,\n",
              "       2003, 2014, 2008, 2013, 2019, 2017, 2019, 2019, 2006, 2015, 2007,\n",
              "       2005, 2017, 1998, 2019, 1999, 2019, 2009, 2003, 1994, 2019, 1994,\n",
              "       2019, 2015, 1996, 1997, 1993, 2019, 1992, 1995, 2019, 1990, 2019,\n",
              "       2019, 1991, 1990, 2012, 2007, 2013, 2000, 2002, 1996, 1996, 2015,\n",
              "       1993, 2013, 2013, 2009, 2019, 2019, 2002, 1997, 1998, 2004, 1996,\n",
              "       2015, 2016, 2005, 1999, 1995, 1993, 2004, 2013, 1998, 2018, 2019,\n",
              "       2018, 2019, 1990, 2009, 1990, 2006, 2002, 1991, 1992, 2019, 2019,\n",
              "       2005, 2010, 2019, 2016, 2019, 2010, 1994, 2001, 2014, 1996, 1993,\n",
              "       1993, 2001, 2019, 2019, 2019, 2007, 2019, 2016, 2014, 2019, 2015,\n",
              "       2015, 1996, 2002, 2005, 1995, 1999, 2005, 2019, 1997, 1990, 2001,\n",
              "       2013, 2019, 2017, 2011, 2005, 2007, 1993, 1991, 1991, 1997, 2000,\n",
              "       2007, 2006, 2015, 2008, 2019, 1996, 2019, 2019, 2014, 2004, 2008,\n",
              "       2019, 2019, 2012, 2019, 1996, 2011, 2019, 2010, 2007, 1994, 2007,\n",
              "       2014, 1991, 2002, 1996, 1992])"
            ]
          },
          "metadata": {},
          "execution_count": 6
        }
      ],
      "source": [
        "anos"
      ]
    },
    {
      "cell_type": "code",
      "execution_count": null,
      "metadata": {
        "id": "GLsHBNakltjg"
      },
      "outputs": [],
      "source": []
    },
    {
      "cell_type": "markdown",
      "metadata": {
        "id": "wMdUsAq4ltjs"
      },
      "source": [
        "### Obtendo a quilometragem média por ano"
      ]
    },
    {
      "cell_type": "code",
      "execution_count": 7,
      "metadata": {
        "colab": {
          "base_uri": "https://localhost:8080/"
        },
        "id": "cD2M3s3Fltjt",
        "outputId": "e4584d1a-1fe2-4e7f-e247-0837658ed435"
      },
      "outputs": [
        {
          "output_type": "stream",
          "name": "stderr",
          "text": [
            "<ipython-input-7-1b3407ca7629>:1: RuntimeWarning: invalid value encountered in true_divide\n",
            "  km_media = km / (2019 - anos)\n"
          ]
        }
      ],
      "source": [
        "km_media = km / (2019 - anos)"
      ]
    },
    {
      "cell_type": "code",
      "execution_count": 8,
      "metadata": {
        "id": "65IyPzKKltjv",
        "colab": {
          "base_uri": "https://localhost:8080/"
        },
        "outputId": "700d9fb0-2cd3-4ef9-cf6b-857cb4fe0439"
      },
      "outputs": [
        {
          "output_type": "execute_result",
          "data": {
            "text/plain": [
              "array([2.77562500e+03, 2.04000000e+02, 1.28010345e+03,            nan,\n",
              "       1.98130769e+03, 1.53257143e+03,            nan, 7.75990000e+03,\n",
              "       1.10218889e+04, 4.74725000e+03, 7.56411765e+02, 6.71000000e+02,\n",
              "       4.98738889e+03,            nan, 4.14570000e+03, 3.85356667e+04,\n",
              "       6.63557143e+03,            nan, 1.23620000e+04, 7.58650000e+03,\n",
              "       5.95252941e+03,            nan, 3.92316000e+03, 3.67710714e+03,\n",
              "                  nan,            nan, 1.93166667e+03,            nan,\n",
              "       3.46164706e+03, 3.37075000e+03, 1.37104545e+03, 2.22216667e+03,\n",
              "       1.77200000e+04, 1.20742857e+03, 1.81368000e+04, 1.83229167e+03,\n",
              "                  nan,            nan, 5.52600000e+02,            nan,\n",
              "       1.55691667e+04, 2.54762500e+03,            nan, 5.07658824e+03,\n",
              "                  nan, 5.73823529e+02, 4.66300000e+03, 1.33055556e+02,\n",
              "                  nan, 5.02181250e+03, 8.55540000e+03, 3.88430769e+03,\n",
              "       3.56400000e+03, 7.22669231e+03, 3.92722222e+03, 3.24028000e+03,\n",
              "       9.95941667e+03,            nan,            nan,            nan,\n",
              "                  nan,            nan, 5.94475000e+04, 6.06362500e+03,\n",
              "       5.60622222e+03, 4.15865217e+03,            nan, 3.61980000e+03,\n",
              "                  nan, 2.42766667e+03, 9.52080000e+02, 7.08266667e+03,\n",
              "       2.47250000e+03, 2.05623077e+03, 7.38816667e+03, 4.72944000e+03,\n",
              "       1.03461818e+04, 5.54545455e+01,            nan,            nan,\n",
              "       6.44350000e+02, 6.63391667e+03, 3.49707692e+03, 1.78054167e+03,\n",
              "                  nan,            nan, 3.92380000e+04, 1.42356250e+04,\n",
              "                  nan, 1.79476471e+03, 1.24778333e+04, 5.98800000e+04,\n",
              "       2.78533333e+03, 5.84063636e+03, 8.86610000e+04, 2.83687500e+02,\n",
              "       6.88225000e+03, 2.21433333e+03, 1.02223333e+04,            nan,\n",
              "       6.28523077e+03, 3.92450000e+03,            nan, 2.28192500e+04,\n",
              "       2.65440000e+04, 2.62980000e+04, 1.75937037e+03, 4.94755556e+03,\n",
              "       1.10900000e+03, 4.60683333e+03, 3.53987500e+03, 3.47140000e+03,\n",
              "       6.72863636e+03, 2.53266667e+03,            nan, 5.41050000e+03,\n",
              "                  nan,            nan, 7.38076923e+02, 2.47630000e+04,\n",
              "       4.36575000e+03, 8.56750000e+03, 4.80025000e+04, 1.50661905e+03,\n",
              "                  nan, 4.00935000e+03,            nan, 5.82120000e+03,\n",
              "       3.85450000e+03, 1.28068000e+03,            nan, 2.27776000e+03,\n",
              "                  nan, 2.16297500e+04, 2.09608696e+02, 4.59204545e+03,\n",
              "       1.18096154e+03,            nan, 1.20574074e+03, 4.30787500e+03,\n",
              "                  nan, 1.90651724e+03,            nan,            nan,\n",
              "       4.14035714e+03, 2.29093103e+03, 1.38285714e+04, 1.18641667e+03,\n",
              "       3.31600000e+03, 5.94973684e+03, 6.76129412e+03, 1.37956522e+02,\n",
              "       3.63526087e+03, 6.33900000e+03, 3.40900000e+03, 3.85666667e+02,\n",
              "       4.37833333e+02, 5.20340000e+03,            nan,            nan,\n",
              "       4.68100000e+03, 4.91822727e+03, 3.64061905e+03, 3.84553333e+03,\n",
              "       4.20043478e+03, 2.72502500e+04, 8.73733333e+03, 3.28364286e+03,\n",
              "       2.45910000e+03, 2.07945833e+03, 1.48538462e+03, 4.06640000e+03,\n",
              "       1.23190000e+04, 5.11390476e+03, 9.14600000e+03,            nan,\n",
              "       1.79240000e+04,            nan, 4.03272414e+03, 2.04760000e+03,\n",
              "       1.82082759e+03, 6.80692308e+02, 5.39552941e+03, 1.14485714e+03,\n",
              "       2.77355556e+03,            nan,            nan, 3.72778571e+03,\n",
              "       9.28433333e+03,            nan, 6.77600000e+03,            nan,\n",
              "       8.39744444e+03, 1.34636000e+03, 5.79672222e+03, 5.10200000e+03,\n",
              "       8.24565217e+02, 3.35234615e+03, 2.55846154e+02, 3.09655556e+03,\n",
              "                  nan,            nan,            nan, 5.36000000e+03,\n",
              "                  nan, 2.28926667e+04, 1.43394000e+04,            nan,\n",
              "       8.69575000e+03, 8.44300000e+03, 3.70117391e+03, 8.00352941e+02,\n",
              "       2.54621429e+03, 3.96366667e+03, 7.02300000e+02, 2.94242857e+03,\n",
              "                  nan, 4.36818182e+03, 3.58275862e+03, 2.43411111e+03,\n",
              "       4.10633333e+03,            nan, 5.54830000e+04, 1.99837500e+03,\n",
              "       3.81207143e+03, 8.39750000e+02, 2.75169231e+03, 3.82142857e+00,\n",
              "       2.99785714e+02, 1.88627273e+03, 6.10536842e+03, 8.40483333e+03,\n",
              "       5.19038462e+03, 2.12425000e+03, 4.01818182e+02,            nan,\n",
              "       2.54508696e+03,            nan,            nan, 2.24032000e+04,\n",
              "       6.12266667e+03, 1.02533636e+04,            nan,            nan,\n",
              "       1.32757143e+03,            nan, 2.39491304e+03, 6.09950000e+03,\n",
              "                  nan, 9.96500000e+03, 7.11533333e+03, 3.92432000e+03,\n",
              "       5.94000000e+03, 5.50100000e+03, 1.07075000e+03, 3.09629412e+03,\n",
              "       3.34130435e+02, 1.85881481e+03])"
            ]
          },
          "metadata": {},
          "execution_count": 8
        }
      ],
      "source": [
        "km_media"
      ]
    },
    {
      "cell_type": "code",
      "execution_count": 9,
      "metadata": {
        "id": "Z0JCmAWvltjy",
        "colab": {
          "base_uri": "https://localhost:8080/"
        },
        "outputId": "478beeb6-b27d-48af-dc28-05493d041e6b"
      },
      "outputs": [
        {
          "output_type": "execute_result",
          "data": {
            "text/plain": [
              "numpy.ndarray"
            ]
          },
          "metadata": {},
          "execution_count": 9
        }
      ],
      "source": [
        "type(km_media)"
      ]
    },
    {
      "cell_type": "markdown",
      "metadata": {
        "id": "KdG5NmmGltj0"
      },
      "source": [
        "# <font color=green> 2. CARACTERÍSTICAS BÁSICAS DA LINGUAGEM\n",
        "---"
      ]
    },
    {
      "cell_type": "markdown",
      "metadata": {
        "id": "X1K5kisFltj1"
      },
      "source": [
        "# 2.1 Operações matemáticas\n",
        "\n",
        "### Operadores aritméticos: $+$, $-$, $*$, $/$, $**$, $\\%$, $//$"
      ]
    },
    {
      "cell_type": "markdown",
      "metadata": {
        "id": "8YCDVpbYltj1"
      },
      "source": [
        "### Adição ($+$)"
      ]
    },
    {
      "cell_type": "code",
      "execution_count": 10,
      "metadata": {
        "colab": {
          "base_uri": "https://localhost:8080/"
        },
        "id": "h6DsMqhaltj2",
        "outputId": "09d39ad3-9ce4-43cb-dd7f-77260e2c1e7f"
      },
      "outputs": [
        {
          "output_type": "execute_result",
          "data": {
            "text/plain": [
              "15"
            ]
          },
          "metadata": {},
          "execution_count": 10
        }
      ],
      "source": [
        "0 + 5"
      ]
    },
    {
      "cell_type": "markdown",
      "metadata": {
        "id": "WeJG-WJBltj8"
      },
      "source": [
        "### Subtração ($-$)"
      ]
    },
    {
      "cell_type": "code",
      "execution_count": 11,
      "metadata": {
        "colab": {
          "base_uri": "https://localhost:8080/"
        },
        "id": "zoB7_OcRltj9",
        "outputId": "fe305440-1c7d-4cdd-c5a5-91924a4ef4ec"
      },
      "outputs": [
        {
          "output_type": "execute_result",
          "data": {
            "text/plain": [
              "10"
            ]
          },
          "metadata": {},
          "execution_count": 11
        }
      ],
      "source": [
        "20 - 10"
      ]
    },
    {
      "cell_type": "markdown",
      "metadata": {
        "id": "zuv8N7fjltkC"
      },
      "source": [
        "### Multiplicação ($*$)"
      ]
    },
    {
      "cell_type": "code",
      "execution_count": 12,
      "metadata": {
        "colab": {
          "base_uri": "https://localhost:8080/"
        },
        "id": "TAWG7xSTltkD",
        "outputId": "c2c19e46-577d-4a29-9259-b5a02d3212bf"
      },
      "outputs": [
        {
          "output_type": "execute_result",
          "data": {
            "text/plain": [
              "35"
            ]
          },
          "metadata": {},
          "execution_count": 12
        }
      ],
      "source": [
        "7 * 5"
      ]
    },
    {
      "cell_type": "markdown",
      "metadata": {
        "id": "dMp7BsnwltkF"
      },
      "source": [
        "### Divisão ($/$) e ($//$)\n",
        "A operação divisão sempre retorna um número de ponto flutuante"
      ]
    },
    {
      "cell_type": "code",
      "execution_count": 13,
      "metadata": {
        "colab": {
          "base_uri": "https://localhost:8080/"
        },
        "id": "DD5kx3H3ltkF",
        "outputId": "d99cba7f-20da-482c-d002-118fc11f49cb"
      },
      "outputs": [
        {
          "output_type": "execute_result",
          "data": {
            "text/plain": [
              "3.3333333333333335"
            ]
          },
          "metadata": {},
          "execution_count": 13
        }
      ],
      "source": [
        " 10 / 3"
      ]
    },
    {
      "cell_type": "code",
      "execution_count": 14,
      "metadata": {
        "colab": {
          "base_uri": "https://localhost:8080/"
        },
        "id": "ji0CYH3UltkI",
        "outputId": "418a1db5-3242-46b7-9c9e-d14cea372cd1"
      },
      "outputs": [
        {
          "output_type": "execute_result",
          "data": {
            "text/plain": [
              "3"
            ]
          },
          "metadata": {},
          "execution_count": 14
        }
      ],
      "source": [
        "10 // 3"
      ]
    },
    {
      "cell_type": "markdown",
      "metadata": {
        "id": "3DSO7TcvltkL"
      },
      "source": [
        "### Exponenciação ($**$)"
      ]
    },
    {
      "cell_type": "code",
      "execution_count": 15,
      "metadata": {
        "colab": {
          "base_uri": "https://localhost:8080/"
        },
        "id": "tBKvl2TWltkM",
        "outputId": "3fae028f-ddb2-4c9c-ef5c-2e045ef52c26"
      },
      "outputs": [
        {
          "output_type": "execute_result",
          "data": {
            "text/plain": [
              "8"
            ]
          },
          "metadata": {},
          "execution_count": 15
        }
      ],
      "source": [
        "2 ** 3"
      ]
    },
    {
      "cell_type": "markdown",
      "metadata": {
        "id": "MhD56p-9ltkQ"
      },
      "source": [
        "### Resto da divisão ($\\%$)"
      ]
    },
    {
      "cell_type": "code",
      "execution_count": 16,
      "metadata": {
        "colab": {
          "base_uri": "https://localhost:8080/"
        },
        "id": "bfa7phO6ltkR",
        "outputId": "a96eb8ac-58ee-4b6d-e859-9a05e6eb5373"
      },
      "outputs": [
        {
          "output_type": "execute_result",
          "data": {
            "text/plain": [
              "1"
            ]
          },
          "metadata": {},
          "execution_count": 16
        }
      ],
      "source": [
        "10 % 3"
      ]
    },
    {
      "cell_type": "code",
      "execution_count": 17,
      "metadata": {
        "colab": {
          "base_uri": "https://localhost:8080/"
        },
        "id": "khIEx6olltkT",
        "outputId": "aaa75f6b-645e-4b45-a6c3-5ab87fbc84c9"
      },
      "outputs": [
        {
          "output_type": "execute_result",
          "data": {
            "text/plain": [
              "0"
            ]
          },
          "metadata": {},
          "execution_count": 17
        }
      ],
      "source": [
        "10 % 2"
      ]
    },
    {
      "cell_type": "markdown",
      "metadata": {
        "id": "8pVVp5fsltkV"
      },
      "source": [
        "### Expressões matemáticas"
      ]
    },
    {
      "cell_type": "code",
      "execution_count": 18,
      "metadata": {
        "colab": {
          "base_uri": "https://localhost:8080/"
        },
        "id": "jlQTk4gNltkW",
        "outputId": "b5a10bf6-e7a8-459b-9d75-2f6f48c24ca9"
      },
      "outputs": [
        {
          "output_type": "execute_result",
          "data": {
            "text/plain": [
              "16"
            ]
          },
          "metadata": {},
          "execution_count": 18
        }
      ],
      "source": [
        "5 * 2  + 3 * 2"
      ]
    },
    {
      "cell_type": "code",
      "execution_count": 19,
      "metadata": {
        "colab": {
          "base_uri": "https://localhost:8080/"
        },
        "id": "kkCb6Crgltka",
        "outputId": "5bccba00-8c52-4e88-b0b5-c01f956af831"
      },
      "outputs": [
        {
          "output_type": "execute_result",
          "data": {
            "text/plain": [
              "16"
            ]
          },
          "metadata": {},
          "execution_count": 19
        }
      ],
      "source": [
        "(5 * 2)  + (3 * 2)"
      ]
    },
    {
      "cell_type": "code",
      "execution_count": 20,
      "metadata": {
        "colab": {
          "base_uri": "https://localhost:8080/"
        },
        "id": "UD12tlgAltkd",
        "outputId": "7868cf78-b1eb-433d-a2d0-811cee465c55"
      },
      "outputs": [
        {
          "output_type": "execute_result",
          "data": {
            "text/plain": [
              "50"
            ]
          },
          "metadata": {},
          "execution_count": 20
        }
      ],
      "source": [
        "5 * (2  + 3) * 2"
      ]
    },
    {
      "cell_type": "markdown",
      "metadata": {
        "id": "a5tKQ5Beltkf"
      },
      "source": [
        "### A variável _\n",
        "\n",
        "No modo interativo, o último resultado impresso é atribuído à variável _"
      ]
    },
    {
      "cell_type": "code",
      "execution_count": 21,
      "metadata": {
        "colab": {
          "base_uri": "https://localhost:8080/"
        },
        "id": "VkHEx516ltkg",
        "outputId": "7542deb7-f1f9-477c-bc08-536ece60f06e"
      },
      "outputs": [
        {
          "output_type": "execute_result",
          "data": {
            "text/plain": [
              "10"
            ]
          },
          "metadata": {},
          "execution_count": 21
        }
      ],
      "source": [
        "5 * 2"
      ]
    },
    {
      "cell_type": "code",
      "execution_count": 22,
      "metadata": {
        "colab": {
          "base_uri": "https://localhost:8080/"
        },
        "id": "dFShsobXltki",
        "outputId": "a62f8739-022a-45e7-bdda-1a28cda5567a"
      },
      "outputs": [
        {
          "output_type": "execute_result",
          "data": {
            "text/plain": [
              "16"
            ]
          },
          "metadata": {},
          "execution_count": 22
        }
      ],
      "source": [
        "_ + 3 * 2"
      ]
    },
    {
      "cell_type": "code",
      "execution_count": 23,
      "metadata": {
        "colab": {
          "base_uri": "https://localhost:8080/"
        },
        "id": "hJIpR3KUltkk",
        "outputId": "9d1546b5-1e12-4666-f9f4-db6102c7b8d3"
      },
      "outputs": [
        {
          "output_type": "execute_result",
          "data": {
            "text/plain": [
              "8.0"
            ]
          },
          "metadata": {},
          "execution_count": 23
        }
      ],
      "source": [
        "_ / 2"
      ]
    },
    {
      "cell_type": "code",
      "source": [
        "5 * (2 + 3) / 2\n",
        "10 % 2 + 3 // 10"
      ],
      "metadata": {
        "colab": {
          "base_uri": "https://localhost:8080/"
        },
        "id": "4r6sHTnIJLrc",
        "outputId": "183e24f4-4ddd-43b7-d377-2a84854f639c"
      },
      "execution_count": 26,
      "outputs": [
        {
          "output_type": "execute_result",
          "data": {
            "text/plain": [
              "0"
            ]
          },
          "metadata": {},
          "execution_count": 26
        }
      ]
    },
    {
      "cell_type": "code",
      "source": [
        "10 % 2 + 3 // 10"
      ],
      "metadata": {
        "colab": {
          "base_uri": "https://localhost:8080/"
        },
        "id": "jir0OW_wJXA-",
        "outputId": "bff7e5fa-34eb-48b6-a601-164149428d1e"
      },
      "execution_count": 27,
      "outputs": [
        {
          "output_type": "execute_result",
          "data": {
            "text/plain": [
              "0"
            ]
          },
          "metadata": {},
          "execution_count": 27
        }
      ]
    },
    {
      "cell_type": "code",
      "source": [
        "5 * (2 + 3) / 2"
      ],
      "metadata": {
        "colab": {
          "base_uri": "https://localhost:8080/"
        },
        "id": "QAlRaHISJa5r",
        "outputId": "f9079fd7-66d4-4e61-df7b-0f81906ee013"
      },
      "execution_count": 28,
      "outputs": [
        {
          "output_type": "execute_result",
          "data": {
            "text/plain": [
              "12.5"
            ]
          },
          "metadata": {},
          "execution_count": 28
        }
      ]
    },
    {
      "cell_type": "markdown",
      "metadata": {
        "id": "MUrQAf6Mltkm"
      },
      "source": [
        "# 2.2 Variáveis "
      ]
    },
    {
      "cell_type": "markdown",
      "metadata": {
        "id": "qaVLKIeultkn"
      },
      "source": [
        "### Nomes de variáveis\n",
        "\n",
        "- Nomes de variáveis pode começar com letras (a - z, A - Z) ou o caractere *underscore* (_):\n",
        "\n",
        "    > Altura\n",
        "    >\n",
        "    > _peso\n",
        "    \n",
        "- O restante do nome pode conter letras, números e o caractere \"_\":\n",
        "\n",
        "    > nome_da_variavel\n",
        "    >\n",
        "    > _valor\n",
        "    >\n",
        "    > dia_28_11_\n",
        "    \n",
        "\n",
        "- O nomes são *case sensitive*:\n",
        "\n",
        "    > Nome_Da_Variável $\\ne$ nome_da_variavel $\\ne$ NOME_DA_VARIAVEL\n",
        "    \n",
        "### <font color=red>Observações:\n",
        "- Existem algumas palavras reservadas da linguagem que não podem ser utilizadas como nomes de variável:\n",
        "\n",
        "| |Lista de palavras <br>reservadas em Python| |\n",
        "|:-------------:|:------------:|:-------------:|\n",
        "| and           | as           | not           | \n",
        "| assert        | finally      | or            | \n",
        "| break         | for          | pass          | \n",
        "| class         | from         | nonlocal      | \n",
        "| continue      | global       | raise         | \n",
        "| def           | if           | return        | \n",
        "| del           | import       | try           | \n",
        "| elif          | in           | while         | \n",
        "| else          | is           | with          | \n",
        "| except        | lambda       | yield         | \n",
        "| False         | True         | None          | "
      ]
    },
    {
      "cell_type": "markdown",
      "metadata": {
        "id": "3frWjfAtltkn"
      },
      "source": [
        "### Declaração de variáveis\n",
        "\n",
        "### Operadores de atribuição: $=$, $+=$, $-=$, $*=$, $/=$, $**=$, $\\%=$, $//=$"
      ]
    },
    {
      "cell_type": "code",
      "execution_count": 29,
      "metadata": {
        "id": "7VIcrXNHltko"
      },
      "outputs": [],
      "source": [
        "ano_atual = 2019\n",
        "ano_fabricacao = 2003\n",
        "km_total = 44410.0"
      ]
    },
    {
      "cell_type": "code",
      "execution_count": 30,
      "metadata": {
        "colab": {
          "base_uri": "https://localhost:8080/"
        },
        "id": "atVoqp6bltkq",
        "outputId": "3db8647b-3ae5-4c70-d580-cd0b57d5798a"
      },
      "outputs": [
        {
          "output_type": "execute_result",
          "data": {
            "text/plain": [
              "2019"
            ]
          },
          "metadata": {},
          "execution_count": 30
        }
      ],
      "source": [
        "ano_atual"
      ]
    },
    {
      "cell_type": "code",
      "execution_count": 31,
      "metadata": {
        "colab": {
          "base_uri": "https://localhost:8080/"
        },
        "id": "_t82qXrOltkt",
        "outputId": "6d01a815-fc7d-41f3-a4fc-2b5d35dca13b"
      },
      "outputs": [
        {
          "output_type": "execute_result",
          "data": {
            "text/plain": [
              "2003"
            ]
          },
          "metadata": {},
          "execution_count": 31
        }
      ],
      "source": [
        "ano_fabricacao"
      ]
    },
    {
      "cell_type": "code",
      "source": [
        "km_total"
      ],
      "metadata": {
        "colab": {
          "base_uri": "https://localhost:8080/"
        },
        "id": "3y86cuzqQQPn",
        "outputId": "03561b09-d923-4f0d-d3ce-bd2ef21f7592"
      },
      "execution_count": 32,
      "outputs": [
        {
          "output_type": "execute_result",
          "data": {
            "text/plain": [
              "44410.0"
            ]
          },
          "metadata": {},
          "execution_count": 32
        }
      ]
    },
    {
      "cell_type": "markdown",
      "metadata": {
        "id": "gCBkfq_8ltky"
      },
      "source": [
        "# $$km_{média} = \\frac {km_{total}}{(Ano_{atual} - Ano_{fabricação})}$$"
      ]
    },
    {
      "cell_type": "markdown",
      "metadata": {
        "id": "zswWS4hNltky"
      },
      "source": [
        "### Operações com variáveis"
      ]
    },
    {
      "cell_type": "code",
      "execution_count": 33,
      "metadata": {
        "colab": {
          "base_uri": "https://localhost:8080/"
        },
        "id": "HxxU0rnfltkz",
        "outputId": "9886472c-4ada-4483-8543-36c3340e7f31"
      },
      "outputs": [
        {
          "output_type": "execute_result",
          "data": {
            "text/plain": [
              "2775.625"
            ]
          },
          "metadata": {},
          "execution_count": 33
        }
      ],
      "source": [
        "km_total / (ano_atual - ano_fabricacao)"
      ]
    },
    {
      "cell_type": "code",
      "execution_count": 34,
      "metadata": {
        "colab": {
          "base_uri": "https://localhost:8080/"
        },
        "id": "_2Qhb32jltk1",
        "outputId": "4a9f799c-eb95-47fb-e94c-cc930629cf9c"
      },
      "outputs": [
        {
          "output_type": "execute_result",
          "data": {
            "text/plain": [
              "2775.625"
            ]
          },
          "metadata": {},
          "execution_count": 34
        }
      ],
      "source": [
        "km_media = km_total / (ano_atual - ano_fabricacao)\n",
        "km_media"
      ]
    },
    {
      "cell_type": "code",
      "execution_count": 35,
      "metadata": {
        "colab": {
          "base_uri": "https://localhost:8080/"
        },
        "id": "nCJzA7dyltk3",
        "outputId": "879b7651-f0d8-4401-fee5-d3d49b4096f6"
      },
      "outputs": [
        {
          "output_type": "execute_result",
          "data": {
            "text/plain": [
              "2775.625"
            ]
          },
          "metadata": {},
          "execution_count": 35
        }
      ],
      "source": [
        "ano_atual = 2019\n",
        "ano_fabricacao = 2003\n",
        "km_total = 44410.0\n",
        "km_media = km_total / (ano_atual - ano_fabricacao)\n",
        "km_media"
      ]
    },
    {
      "cell_type": "code",
      "execution_count": 36,
      "metadata": {
        "colab": {
          "base_uri": "https://localhost:8080/"
        },
        "id": "ifRwQ0vEltk9",
        "outputId": "5deaff54-ffca-40a0-a74e-dcc608ac37ec"
      },
      "outputs": [
        {
          "output_type": "execute_result",
          "data": {
            "text/plain": [
              "47185.625"
            ]
          },
          "metadata": {},
          "execution_count": 36
        }
      ],
      "source": [
        "ano_atual = 2019\n",
        "ano_fabricacao = 2003\n",
        "km_total = 44410.0\n",
        "km_media = km_total / (ano_atual - ano_fabricacao)\n",
        "\n",
        "km_total = km_total + km_media\n",
        "km_total "
      ]
    },
    {
      "cell_type": "code",
      "source": [
        "ano_atual = 2019\n",
        "ano_fabricacao = 2003\n",
        "km_total = 44410.0\n",
        "km_media = km_total / (ano_atual - ano_fabricacao)\n",
        "\n",
        "km_total += km_media\n",
        "km_total "
      ],
      "metadata": {
        "colab": {
          "base_uri": "https://localhost:8080/"
        },
        "id": "ln420VmJRLNh",
        "outputId": "717dd219-3745-4cf2-a865-b0ab544d8871"
      },
      "execution_count": 37,
      "outputs": [
        {
          "output_type": "execute_result",
          "data": {
            "text/plain": [
              "47185.625"
            ]
          },
          "metadata": {},
          "execution_count": 37
        }
      ]
    },
    {
      "cell_type": "markdown",
      "metadata": {
        "id": "fDBrHWSBltlB"
      },
      "source": [
        "### Conclusão:\n",
        "```\n",
        "\"valor = valor + 1\" é equivalente a \"valor += 1\"\n",
        "```"
      ]
    },
    {
      "cell_type": "markdown",
      "metadata": {
        "id": "uVAyJbmAltlC"
      },
      "source": [
        "### Declaração múltipla"
      ]
    },
    {
      "cell_type": "code",
      "execution_count": 45,
      "metadata": {
        "id": "oMWEzjPOltlC"
      },
      "outputs": [],
      "source": [
        "ano_atual, ano_fabricacao, km_total = 2019, 2003, 44410.0"
      ]
    },
    {
      "cell_type": "code",
      "execution_count": 39,
      "metadata": {
        "colab": {
          "base_uri": "https://localhost:8080/"
        },
        "id": "9ZKlHkLultlE",
        "outputId": "d4efff17-04d8-4662-d225-1dcad05a9204"
      },
      "outputs": [
        {
          "output_type": "execute_result",
          "data": {
            "text/plain": [
              "2019"
            ]
          },
          "metadata": {},
          "execution_count": 39
        }
      ],
      "source": [
        "ano_atual"
      ]
    },
    {
      "cell_type": "code",
      "execution_count": 40,
      "metadata": {
        "colab": {
          "base_uri": "https://localhost:8080/"
        },
        "id": "-mcMuW9nltlG",
        "outputId": "49c4db57-b3e4-4cbf-98f7-d8a424643c53"
      },
      "outputs": [
        {
          "output_type": "execute_result",
          "data": {
            "text/plain": [
              "2003"
            ]
          },
          "metadata": {},
          "execution_count": 40
        }
      ],
      "source": [
        "ano_fabricacao"
      ]
    },
    {
      "cell_type": "code",
      "execution_count": 41,
      "metadata": {
        "colab": {
          "base_uri": "https://localhost:8080/"
        },
        "id": "WFFavLIvltlL",
        "outputId": "c90e62d9-6237-4910-a6fc-6d73cca73113"
      },
      "outputs": [
        {
          "output_type": "execute_result",
          "data": {
            "text/plain": [
              "44410.0"
            ]
          },
          "metadata": {},
          "execution_count": 41
        }
      ],
      "source": [
        "km_total"
      ]
    },
    {
      "cell_type": "code",
      "execution_count": 42,
      "metadata": {
        "colab": {
          "base_uri": "https://localhost:8080/"
        },
        "id": "iFawOJe6ltlO",
        "outputId": "5e8eb554-722e-4e31-f763-4b1dcf9a16d8"
      },
      "outputs": [
        {
          "output_type": "execute_result",
          "data": {
            "text/plain": [
              "2775.625"
            ]
          },
          "metadata": {},
          "execution_count": 42
        }
      ],
      "source": [
        "ano_atual, ano_fabricacao, km_total = 2019, 2003, 44410.0\n",
        "km_media = km_total / (ano_atual - ano_fabricacao)\n",
        "km_media"
      ]
    },
    {
      "cell_type": "code",
      "source": [
        "quadrado = 5\n",
        "quadrado **= 2\n",
        "quadrado"
      ],
      "metadata": {
        "colab": {
          "base_uri": "https://localhost:8080/"
        },
        "id": "YxKAqZ1fItIW",
        "outputId": "af367f99-0681-442f-f6f0-4de69877705a"
      },
      "execution_count": 48,
      "outputs": [
        {
          "output_type": "execute_result",
          "data": {
            "text/plain": [
              "25"
            ]
          },
          "metadata": {},
          "execution_count": 48
        }
      ]
    },
    {
      "cell_type": "markdown",
      "metadata": {
        "id": "uoRXMeRDltlQ"
      },
      "source": [
        "# 2.3 Tipos de dados"
      ]
    },
    {
      "cell_type": "markdown",
      "metadata": {
        "id": "sW_G6EjWltlQ"
      },
      "source": [
        "Os tipos de dados especificam como números e caracteres serão armazenados e manipulados dentro de um programa. Os tipos de dados básicos do Python são:\n",
        "\n",
        "1. **Números**\n",
        "    1. ***int*** - Inteiros\n",
        "    - ***float*** - Ponto flutuante\n",
        "- **Booleanos** - Assume os valores True ou False. Essencial quando começarmos a trabalhar com declarações condicionais\n",
        "- ***Strings*** - Sequência de um ou mais caracteres que pode incluir letras, números e outros tipos de caracteres. Representa um texto.\n",
        "- **None** - Representa a ausência de valor"
      ]
    },
    {
      "cell_type": "markdown",
      "metadata": {
        "id": "-HRRxQOtltlQ"
      },
      "source": [
        "### Números"
      ]
    },
    {
      "cell_type": "code",
      "execution_count": 49,
      "metadata": {
        "id": "5PKIcIuUltlR"
      },
      "outputs": [],
      "source": [
        "ano_atual = 2019"
      ]
    },
    {
      "cell_type": "code",
      "execution_count": 50,
      "metadata": {
        "colab": {
          "base_uri": "https://localhost:8080/"
        },
        "id": "G32Yd1g0ltlT",
        "outputId": "28ac4df3-a5fe-434b-f4c8-b11b8848a78e"
      },
      "outputs": [
        {
          "output_type": "execute_result",
          "data": {
            "text/plain": [
              "int"
            ]
          },
          "metadata": {},
          "execution_count": 50
        }
      ],
      "source": [
        "type(ano_atual)"
      ]
    },
    {
      "cell_type": "code",
      "execution_count": 51,
      "metadata": {
        "id": "b9_v__dEltlV"
      },
      "outputs": [],
      "source": [
        "km_total = 44410.0"
      ]
    },
    {
      "cell_type": "code",
      "execution_count": 52,
      "metadata": {
        "colab": {
          "base_uri": "https://localhost:8080/"
        },
        "id": "A0nySb3LltlZ",
        "outputId": "4471e982-2c95-4104-d2d9-1b590d01d7d1"
      },
      "outputs": [
        {
          "output_type": "execute_result",
          "data": {
            "text/plain": [
              "float"
            ]
          },
          "metadata": {},
          "execution_count": 52
        }
      ],
      "source": [
        "type(km_total)"
      ]
    },
    {
      "cell_type": "markdown",
      "metadata": {
        "id": "7X9iheAnltld"
      },
      "source": [
        "### Booleanos"
      ]
    },
    {
      "cell_type": "code",
      "execution_count": 53,
      "metadata": {
        "id": "liUYdchPltle"
      },
      "outputs": [],
      "source": [
        "zero_km = True"
      ]
    },
    {
      "cell_type": "code",
      "execution_count": 54,
      "metadata": {
        "colab": {
          "base_uri": "https://localhost:8080/"
        },
        "id": "oZIQAghaltlh",
        "outputId": "d091eb12-e86a-4e19-bddb-4cc6b6e07086"
      },
      "outputs": [
        {
          "output_type": "execute_result",
          "data": {
            "text/plain": [
              "bool"
            ]
          },
          "metadata": {},
          "execution_count": 54
        }
      ],
      "source": [
        "type(zero_km)"
      ]
    },
    {
      "cell_type": "code",
      "execution_count": null,
      "metadata": {
        "id": "mJ0nGEV7ltll"
      },
      "outputs": [],
      "source": []
    },
    {
      "cell_type": "markdown",
      "metadata": {
        "id": "Ipjq4eiSltlp"
      },
      "source": [
        "### Strings"
      ]
    },
    {
      "cell_type": "code",
      "execution_count": 55,
      "metadata": {
        "colab": {
          "base_uri": "https://localhost:8080/",
          "height": 36
        },
        "id": "OeW_GQzOltlr",
        "outputId": "fd2dca25-1b32-47fb-b4b1-567ca31b6e36"
      },
      "outputs": [
        {
          "output_type": "execute_result",
          "data": {
            "text/plain": [
              "'Jetta Variant'"
            ],
            "application/vnd.google.colaboratory.intrinsic+json": {
              "type": "string"
            }
          },
          "metadata": {},
          "execution_count": 55
        }
      ],
      "source": [
        "nome = 'Jetta Variant'\n",
        "nome"
      ]
    },
    {
      "cell_type": "code",
      "execution_count": 56,
      "metadata": {
        "colab": {
          "base_uri": "https://localhost:8080/",
          "height": 36
        },
        "id": "xF1Bi-Rkltlu",
        "outputId": "e6189345-a174-4355-e269-7ac60db2342b"
      },
      "outputs": [
        {
          "output_type": "execute_result",
          "data": {
            "text/plain": [
              "'Jetta Variant'"
            ],
            "application/vnd.google.colaboratory.intrinsic+json": {
              "type": "string"
            }
          },
          "metadata": {},
          "execution_count": 56
        }
      ],
      "source": [
        "nome = \"Jetta Variant\"\n",
        "nome"
      ]
    },
    {
      "cell_type": "code",
      "execution_count": 57,
      "metadata": {
        "colab": {
          "base_uri": "https://localhost:8080/",
          "height": 36
        },
        "id": "QlobSFUtltlw",
        "outputId": "8c94a13d-5765-48c3-8b80-60a7336d2b63"
      },
      "outputs": [
        {
          "output_type": "execute_result",
          "data": {
            "text/plain": [
              "'Jetta \"Variant\"'"
            ],
            "application/vnd.google.colaboratory.intrinsic+json": {
              "type": "string"
            }
          },
          "metadata": {},
          "execution_count": 57
        }
      ],
      "source": [
        "nome = 'Jetta \"Variant\"'\n",
        "nome"
      ]
    },
    {
      "cell_type": "code",
      "execution_count": 58,
      "metadata": {
        "colab": {
          "base_uri": "https://localhost:8080/",
          "height": 36
        },
        "id": "8LBWzzfbltly",
        "outputId": "8be2a296-d38e-491d-d5a1-2d6a594efc33"
      },
      "outputs": [
        {
          "output_type": "execute_result",
          "data": {
            "text/plain": [
              "\"Jetta 'Variant'\""
            ],
            "application/vnd.google.colaboratory.intrinsic+json": {
              "type": "string"
            }
          },
          "metadata": {},
          "execution_count": 58
        }
      ],
      "source": [
        "nome = \"Jetta 'Variant'\"\n",
        "nome"
      ]
    },
    {
      "cell_type": "code",
      "execution_count": 60,
      "metadata": {
        "id": "ycEhoxtUltl0"
      },
      "outputs": [],
      "source": [
        "carro = '''\n",
        "  Nome\n",
        "  Idade\n",
        "  Nota\n",
        "'''"
      ]
    },
    {
      "cell_type": "code",
      "execution_count": 61,
      "metadata": {
        "colab": {
          "base_uri": "https://localhost:8080/",
          "height": 36
        },
        "id": "bjZQzpuUltl2",
        "outputId": "1d5c3268-1704-4205-a3af-60fdcdda74fb"
      },
      "outputs": [
        {
          "output_type": "execute_result",
          "data": {
            "text/plain": [
              "'\\n  Nome\\n  Idade\\n  Nota\\n'"
            ],
            "application/vnd.google.colaboratory.intrinsic+json": {
              "type": "string"
            }
          },
          "metadata": {},
          "execution_count": 61
        }
      ],
      "source": [
        "carro"
      ]
    },
    {
      "cell_type": "code",
      "source": [
        "type(carro)"
      ],
      "metadata": {
        "colab": {
          "base_uri": "https://localhost:8080/"
        },
        "id": "4d8YR3uvUfGG",
        "outputId": "53333dc2-0843-454a-8dec-ff8f3c4b33a3"
      },
      "execution_count": 62,
      "outputs": [
        {
          "output_type": "execute_result",
          "data": {
            "text/plain": [
              "str"
            ]
          },
          "metadata": {},
          "execution_count": 62
        }
      ]
    },
    {
      "cell_type": "markdown",
      "metadata": {
        "id": "w6bJU-R9ltl5"
      },
      "source": [
        "### None"
      ]
    },
    {
      "cell_type": "code",
      "execution_count": 63,
      "metadata": {
        "id": "RgeVhXGxltl5"
      },
      "outputs": [],
      "source": [
        "quilometragem = None\n",
        "quilometragem"
      ]
    },
    {
      "cell_type": "code",
      "execution_count": 64,
      "metadata": {
        "colab": {
          "base_uri": "https://localhost:8080/"
        },
        "id": "MJI6PKS6ltl8",
        "outputId": "c4407c9a-82c0-4510-c697-2b53fb0921b8"
      },
      "outputs": [
        {
          "output_type": "execute_result",
          "data": {
            "text/plain": [
              "NoneType"
            ]
          },
          "metadata": {},
          "execution_count": 64
        }
      ],
      "source": [
        "type(quilometragem)"
      ]
    },
    {
      "cell_type": "code",
      "source": [
        "tipo = type(quilometragem)\n",
        "type(tipo)"
      ],
      "metadata": {
        "colab": {
          "base_uri": "https://localhost:8080/"
        },
        "id": "aqMh_3lDKH5S",
        "outputId": "dccc6db9-083b-4c7d-e15e-ec7d60754f7f"
      },
      "execution_count": 70,
      "outputs": [
        {
          "output_type": "execute_result",
          "data": {
            "text/plain": [
              "type"
            ]
          },
          "metadata": {},
          "execution_count": 70
        }
      ]
    },
    {
      "cell_type": "markdown",
      "metadata": {
        "id": "_ilupwV-ltl-"
      },
      "source": [
        "# 2.4 Conversão de tipos"
      ]
    },
    {
      "cell_type": "code",
      "execution_count": 71,
      "metadata": {
        "id": "D5hq5Qbvltl-"
      },
      "outputs": [],
      "source": [
        "a = 10\n",
        "b = 20\n",
        "c = 'Python é '\n",
        "d = 'legal'"
      ]
    },
    {
      "cell_type": "code",
      "execution_count": 72,
      "metadata": {
        "colab": {
          "base_uri": "https://localhost:8080/"
        },
        "id": "aJ0vi8_Nltl_",
        "outputId": "32903a99-a6aa-4ed2-9658-2316e08e71ee"
      },
      "outputs": [
        {
          "output_type": "execute_result",
          "data": {
            "text/plain": [
              "int"
            ]
          },
          "metadata": {},
          "execution_count": 72
        }
      ],
      "source": [
        "type(a)"
      ]
    },
    {
      "cell_type": "code",
      "execution_count": 73,
      "metadata": {
        "colab": {
          "base_uri": "https://localhost:8080/"
        },
        "id": "29FVH7p7ltmB",
        "outputId": "7a11b9df-d2ab-4f9d-93c3-478ffc6e5e94"
      },
      "outputs": [
        {
          "output_type": "execute_result",
          "data": {
            "text/plain": [
              "int"
            ]
          },
          "metadata": {},
          "execution_count": 73
        }
      ],
      "source": [
        "type(b)"
      ]
    },
    {
      "cell_type": "code",
      "execution_count": 74,
      "metadata": {
        "colab": {
          "base_uri": "https://localhost:8080/"
        },
        "id": "NGseTO2SltmC",
        "outputId": "2893ae35-e66b-4ac3-de11-8656149f6351"
      },
      "outputs": [
        {
          "output_type": "execute_result",
          "data": {
            "text/plain": [
              "str"
            ]
          },
          "metadata": {},
          "execution_count": 74
        }
      ],
      "source": [
        "type(c)"
      ]
    },
    {
      "cell_type": "code",
      "execution_count": 75,
      "metadata": {
        "colab": {
          "base_uri": "https://localhost:8080/"
        },
        "id": "yaSBhwNWltmE",
        "outputId": "ab05e4d7-59d1-4cf2-e4e9-80699ffe3b0e"
      },
      "outputs": [
        {
          "output_type": "execute_result",
          "data": {
            "text/plain": [
              "str"
            ]
          },
          "metadata": {},
          "execution_count": 75
        }
      ],
      "source": [
        "type(d)"
      ]
    },
    {
      "cell_type": "code",
      "execution_count": 76,
      "metadata": {
        "colab": {
          "base_uri": "https://localhost:8080/"
        },
        "id": "5zMXVwLHltmF",
        "outputId": "53e51008-f628-4f8e-8449-a9e6b64a6d5d"
      },
      "outputs": [
        {
          "output_type": "execute_result",
          "data": {
            "text/plain": [
              "30"
            ]
          },
          "metadata": {},
          "execution_count": 76
        }
      ],
      "source": [
        "a + b"
      ]
    },
    {
      "cell_type": "code",
      "execution_count": 77,
      "metadata": {
        "colab": {
          "base_uri": "https://localhost:8080/",
          "height": 36
        },
        "id": "JJrqKRZFltmJ",
        "outputId": "e70a85d8-c42f-479b-e18b-2e98ba3c94dc"
      },
      "outputs": [
        {
          "output_type": "execute_result",
          "data": {
            "text/plain": [
              "'Python é legal'"
            ],
            "application/vnd.google.colaboratory.intrinsic+json": {
              "type": "string"
            }
          },
          "metadata": {},
          "execution_count": 77
        }
      ],
      "source": [
        "c + d"
      ]
    },
    {
      "cell_type": "code",
      "execution_count": 78,
      "metadata": {
        "id": "hWEIttpgltmM"
      },
      "outputs": [],
      "source": [
        "# c + a   Dá erro"
      ]
    },
    {
      "cell_type": "markdown",
      "metadata": {
        "id": "dByigpENltmO"
      },
      "source": [
        "### Conversões de tipo\n",
        "\n",
        "Funções int(), float(), str()"
      ]
    },
    {
      "cell_type": "code",
      "execution_count": 79,
      "metadata": {
        "colab": {
          "base_uri": "https://localhost:8080/",
          "height": 36
        },
        "id": "MtecvWlsltmP",
        "outputId": "1e61901e-4b86-401e-dcd7-4e246de16be9"
      },
      "outputs": [
        {
          "output_type": "execute_result",
          "data": {
            "text/plain": [
              "'10'"
            ],
            "application/vnd.google.colaboratory.intrinsic+json": {
              "type": "string"
            }
          },
          "metadata": {},
          "execution_count": 79
        }
      ],
      "source": [
        "str(a)"
      ]
    },
    {
      "cell_type": "code",
      "execution_count": 80,
      "metadata": {
        "colab": {
          "base_uri": "https://localhost:8080/"
        },
        "id": "S1NuIhDVltmS",
        "outputId": "0702c3d3-eaa2-40c4-8cf6-dbd8d229274c"
      },
      "outputs": [
        {
          "output_type": "execute_result",
          "data": {
            "text/plain": [
              "str"
            ]
          },
          "metadata": {},
          "execution_count": 80
        }
      ],
      "source": [
        "type(str(a))"
      ]
    },
    {
      "cell_type": "code",
      "execution_count": 81,
      "metadata": {
        "colab": {
          "base_uri": "https://localhost:8080/",
          "height": 36
        },
        "id": "3kCUD1X-ltmT",
        "outputId": "79554261-b305-4726-9abc-fa4a84a5ff77"
      },
      "outputs": [
        {
          "output_type": "execute_result",
          "data": {
            "text/plain": [
              "'Python é 10'"
            ],
            "application/vnd.google.colaboratory.intrinsic+json": {
              "type": "string"
            }
          },
          "metadata": {},
          "execution_count": 81
        }
      ],
      "source": [
        "c + str(a)"
      ]
    },
    {
      "cell_type": "code",
      "execution_count": 82,
      "metadata": {
        "colab": {
          "base_uri": "https://localhost:8080/"
        },
        "id": "TTjSEVRaltmU",
        "outputId": "0bb30352-12c5-4568-e329-79887190ad62"
      },
      "outputs": [
        {
          "output_type": "execute_result",
          "data": {
            "text/plain": [
              "10.0"
            ]
          },
          "metadata": {},
          "execution_count": 82
        }
      ],
      "source": [
        "float(a)"
      ]
    },
    {
      "cell_type": "code",
      "execution_count": 83,
      "metadata": {
        "id": "P1P1bXaYltmV"
      },
      "outputs": [],
      "source": [
        "var = 3.141592"
      ]
    },
    {
      "cell_type": "code",
      "execution_count": 84,
      "metadata": {
        "colab": {
          "base_uri": "https://localhost:8080/"
        },
        "id": "F_8Cn0aAltmW",
        "outputId": "5a215e7e-731d-40dc-b298-5ccfe630cb2a"
      },
      "outputs": [
        {
          "output_type": "execute_result",
          "data": {
            "text/plain": [
              "float"
            ]
          },
          "metadata": {},
          "execution_count": 84
        }
      ],
      "source": [
        "type(var)"
      ]
    },
    {
      "cell_type": "code",
      "execution_count": 85,
      "metadata": {
        "colab": {
          "base_uri": "https://localhost:8080/"
        },
        "id": "_KA6MUgmltmY",
        "outputId": "95255ea8-e64c-4827-cb11-38bc63baca91"
      },
      "outputs": [
        {
          "output_type": "execute_result",
          "data": {
            "text/plain": [
              "3"
            ]
          },
          "metadata": {},
          "execution_count": 85
        }
      ],
      "source": [
        "int(var)"
      ]
    },
    {
      "cell_type": "code",
      "execution_count": 86,
      "metadata": {
        "id": "7uiCxqUcltma"
      },
      "outputs": [],
      "source": [
        "var = 3.99                                                                                                                                                                                                                                                                                                                                                          "
      ]
    },
    {
      "cell_type": "code",
      "source": [
        "int(var)"
      ],
      "metadata": {
        "colab": {
          "base_uri": "https://localhost:8080/"
        },
        "id": "Zxiooy2oV-CD",
        "outputId": "3abea16a-0469-4fd9-f427-cdb499a4b590"
      },
      "execution_count": 87,
      "outputs": [
        {
          "output_type": "execute_result",
          "data": {
            "text/plain": [
              "3"
            ]
          },
          "metadata": {},
          "execution_count": 87
        }
      ]
    },
    {
      "cell_type": "code",
      "source": [
        "round(var,2)"
      ],
      "metadata": {
        "colab": {
          "base_uri": "https://localhost:8080/"
        },
        "id": "gpA5nUs_LI2j",
        "outputId": "29192504-5b77-41f4-d5e7-e4063112595f"
      },
      "execution_count": 91,
      "outputs": [
        {
          "output_type": "execute_result",
          "data": {
            "text/plain": [
              "3.99"
            ]
          },
          "metadata": {},
          "execution_count": 91
        }
      ]
    },
    {
      "cell_type": "markdown",
      "metadata": {
        "id": "gGpflJMYltmd"
      },
      "source": [
        "# 2.5 Indentação, comentários e formatação de *strings*"
      ]
    },
    {
      "cell_type": "markdown",
      "metadata": {
        "id": "XbijUgqVltmw"
      },
      "source": [
        "### Indentação\n",
        "\n",
        "Na linguagem Python os programas são estruturados por meio de indentação. Em qualquer linguagem de programação a prática da indentação é bastante útil, facilitando a leitura e também a manutenção do código. Em Python a indentação não é somente uma questão de organização e estilo, mas sim um requisito da linguagem."
      ]
    },
    {
      "cell_type": "code",
      "execution_count": 92,
      "metadata": {
        "colab": {
          "base_uri": "https://localhost:8080/"
        },
        "id": "DqXANnyultmw",
        "outputId": "60cb56d9-a57a-4910-ea91-30755c24ee62"
      },
      "outputs": [
        {
          "output_type": "stream",
          "name": "stdout",
          "text": [
            "Verdadeiro\n"
          ]
        }
      ],
      "source": [
        "ano_atual = 2019\n",
        "ano_fabricacao = 2019\n",
        "\n",
        "if (ano_atual == ano_fabricacao):\n",
        "    print('Verdadeiro')\n",
        "else:\n",
        "    print('Falso')"
      ]
    },
    {
      "cell_type": "markdown",
      "metadata": {
        "id": "dNBfv7x7ltmy"
      },
      "source": [
        "### Comentários\n",
        "\n",
        "Comentários são extremamente importantes em um programa. Consiste em um texto que descreve o que o programa ou uma parte específica do programa está fazendo. Os comentários são ignorados pelo interpretador Python. \n",
        "\n",
        "Podemos ter comentários de uma única linha ou de múltiplas linhas."
      ]
    },
    {
      "cell_type": "code",
      "execution_count": 93,
      "metadata": {
        "colab": {
          "base_uri": "https://localhost:8080/"
        },
        "id": "GN3DfwiRltmy",
        "outputId": "65ec0546-4d4c-46d1-daa2-535fb14810ec"
      },
      "outputs": [
        {
          "output_type": "execute_result",
          "data": {
            "text/plain": [
              "2019"
            ]
          },
          "metadata": {},
          "execution_count": 93
        }
      ],
      "source": [
        "# Isto é um comentário\n",
        "ano_atual = 2019\n",
        "ano_atual"
      ]
    },
    {
      "cell_type": "code",
      "execution_count": 94,
      "metadata": {
        "colab": {
          "base_uri": "https://localhost:8080/"
        },
        "id": "PICBiohFltm2",
        "outputId": "4f8d514f-9564-45d7-be49-093ad7c23966"
      },
      "outputs": [
        {
          "output_type": "execute_result",
          "data": {
            "text/plain": [
              "2019"
            ]
          },
          "metadata": {},
          "execution_count": 94
        }
      ],
      "source": [
        "# Isto\n",
        "# é um \n",
        "# comentário\n",
        "ano_atual = 2019\n",
        "ano_atual"
      ]
    },
    {
      "cell_type": "code",
      "execution_count": 95,
      "metadata": {
        "colab": {
          "base_uri": "https://localhost:8080/"
        },
        "id": "PTkJ4Vjultm4",
        "outputId": "1fd9b264-b5a7-4761-89c8-de3a2b08e6ba"
      },
      "outputs": [
        {
          "output_type": "execute_result",
          "data": {
            "text/plain": [
              "2019"
            ]
          },
          "metadata": {},
          "execution_count": 95
        }
      ],
      "source": [
        "'''Isto é um\n",
        "comentário'''\n",
        "ano_atual = 2019\n",
        "ano_atual"
      ]
    },
    {
      "cell_type": "code",
      "execution_count": 96,
      "metadata": {
        "colab": {
          "base_uri": "https://localhost:8080/"
        },
        "id": "SYEGdALxltm5",
        "outputId": "8ca93b21-8666-4b63-9b15-2efee4f5e29c"
      },
      "outputs": [
        {
          "output_type": "stream",
          "name": "stdout",
          "text": [
            "Verdadeiro\n"
          ]
        }
      ],
      "source": [
        "# Definindo variáveis\n",
        "ano_atual = 2019\n",
        "ano_fabricacao = 2019\n",
        "\n",
        "'''\n",
        "Estrutura condicional que vamos \n",
        "aprender na próxima aula\n",
        "'''\n",
        "if (ano_atual == ano_fabricacao):   # Testando se condição é verdadeira\n",
        "    print('Verdadeiro')\n",
        "else:                               # Testando se condição é falsa\n",
        "    print('Falso')"
      ]
    },
    {
      "cell_type": "markdown",
      "metadata": {
        "id": "8--bcJ01ltm8"
      },
      "source": [
        "### Formatação de *strings*"
      ]
    },
    {
      "cell_type": "markdown",
      "metadata": {
        "id": "8lSC0XEDltm-"
      },
      "source": [
        "## *str % valor*\n",
        "https://docs.python.org/3.6/library/stdtypes.html#old-string-formatting"
      ]
    },
    {
      "cell_type": "code",
      "execution_count": null,
      "metadata": {
        "id": "aqqBQJ8kltm_"
      },
      "outputs": [],
      "source": []
    },
    {
      "cell_type": "code",
      "execution_count": null,
      "metadata": {
        "id": "EFK1y92vltnA"
      },
      "outputs": [],
      "source": []
    },
    {
      "cell_type": "code",
      "execution_count": null,
      "metadata": {
        "id": "3Y-V_AVDltnD"
      },
      "outputs": [],
      "source": []
    },
    {
      "cell_type": "code",
      "execution_count": null,
      "metadata": {
        "id": "pr4wrDaSltnE"
      },
      "outputs": [],
      "source": []
    },
    {
      "cell_type": "code",
      "execution_count": null,
      "metadata": {
        "id": "iQVGzKNvltnF"
      },
      "outputs": [],
      "source": []
    },
    {
      "cell_type": "markdown",
      "metadata": {
        "id": "CMovhJZ_ltnG"
      },
      "source": [
        "## *str.format()*\n",
        "\n",
        "https://docs.python.org/3.6/library/stdtypes.html#str.format"
      ]
    },
    {
      "cell_type": "code",
      "execution_count": 97,
      "metadata": {
        "colab": {
          "base_uri": "https://localhost:8080/"
        },
        "id": "N12xmMehltnG",
        "outputId": "589abffc-a8b1-4666-e25d-11a55283a000"
      },
      "outputs": [
        {
          "output_type": "stream",
          "name": "stdout",
          "text": [
            "Olá, Rodrigo!\n"
          ]
        }
      ],
      "source": [
        "print('Olá, {}!'.format('Rodrigo'))"
      ]
    },
    {
      "cell_type": "code",
      "execution_count": 98,
      "metadata": {
        "colab": {
          "base_uri": "https://localhost:8080/"
        },
        "id": "mRBmU9G1ltnJ",
        "outputId": "700e8edb-1b58-4c75-a0c1-c27cc8946f7b"
      },
      "outputs": [
        {
          "output_type": "stream",
          "name": "stdout",
          "text": [
            "Olá, Rodrigo! Este é seu acesso de número 32\n"
          ]
        }
      ],
      "source": [
        "print('Olá, {}! Este é seu acesso de número {}'.format('Rodrigo', 32))\n"
      ]
    },
    {
      "cell_type": "code",
      "execution_count": 99,
      "metadata": {
        "colab": {
          "base_uri": "https://localhost:8080/"
        },
        "id": "wpqEsTwnltnL",
        "outputId": "4e6fb437-efbf-49d8-d0f2-6cf87408b4ac"
      },
      "outputs": [
        {
          "output_type": "stream",
          "name": "stdout",
          "text": [
            "Olá, Rodrigo! Este é seu acesso de número 32\n"
          ]
        }
      ],
      "source": [
        "print('Olá, {nome}! Este é seu acesso de número {acessos}'.format(nome = 'Rodrigo', acessos =  32))\n"
      ]
    },
    {
      "cell_type": "markdown",
      "metadata": {
        "id": "V-wPNUN9ltnN"
      },
      "source": [
        "## *f-Strings*\n",
        "\n",
        "https://docs.python.org/3.6/reference/lexical_analysis.html#f-strings"
      ]
    },
    {
      "cell_type": "code",
      "execution_count": 100,
      "metadata": {
        "id": "7Fq_WPv0ltnO"
      },
      "outputs": [],
      "source": [
        "nome = 'Rodrigo'\n",
        "acessos = 32"
      ]
    },
    {
      "cell_type": "code",
      "execution_count": 101,
      "metadata": {
        "colab": {
          "base_uri": "https://localhost:8080/"
        },
        "id": "bE3qbd6WltnR",
        "outputId": "028315c3-7cbf-4fc2-9f69-06f55393dd92"
      },
      "outputs": [
        {
          "output_type": "stream",
          "name": "stdout",
          "text": [
            "Olá, Rodrigo! Este é seu acesso de número 32\n"
          ]
        }
      ],
      "source": [
        "print(f'Olá, {nome}! Este é seu acesso de número {acessos}')\n"
      ]
    },
    {
      "cell_type": "markdown",
      "metadata": {
        "id": "_IZuNE48ltnS"
      },
      "source": [
        "# <font color=green> 3. TRABALHANDO COM LISTAS\n",
        "---"
      ]
    },
    {
      "cell_type": "markdown",
      "metadata": {
        "id": "zhS89xysltnS"
      },
      "source": [
        "# 3.1 Criando listas\n",
        "\n",
        "Listas são sequências **mutáveis** que são utilizadas para armazenar coleções de itens, geralmente homogêneos. Podem ser construídas de várias formas:\n",
        "```\n",
        "- Utilizando um par de colchetes: [ ], [ 1 ]\n",
        "- Utilizando um par de colchetes com itens separados por vírgulas: [ 1, 2, 3 ]\n",
        "```"
      ]
    },
    {
      "cell_type": "code",
      "execution_count": 2,
      "metadata": {
        "colab": {
          "base_uri": "https://localhost:8080/"
        },
        "id": "aE4UWF10ltnS",
        "outputId": "e9d92d15-6e95-42b4-ef0f-e6e66a608e32"
      },
      "outputs": [
        {
          "output_type": "execute_result",
          "data": {
            "text/plain": [
              "['Rodas de liga',\n",
              " 'Travas elétricas',\n",
              " 'Piloto automático',\n",
              " 'Bancos de couro',\n",
              " 'Ar condicionado',\n",
              " 'Sensor de estacionamento',\n",
              " 'Sensor crepuscular',\n",
              " 'Sensor de chuva']"
            ]
          },
          "metadata": {},
          "execution_count": 2
        }
      ],
      "source": [
        "Acessorios = ['Rodas de liga', 'Travas elétricas', 'Piloto automático', 'Bancos de couro', 'Ar condicionado', 'Sensor de estacionamento', 'Sensor crepuscular', 'Sensor de chuva']\n",
        "Acessorios"
      ]
    },
    {
      "cell_type": "code",
      "source": [
        "type(Acessorios)"
      ],
      "metadata": {
        "colab": {
          "base_uri": "https://localhost:8080/"
        },
        "id": "GevPdUYKZWFx",
        "outputId": "026f7461-8cf8-467c-c6df-63bae8c79c25"
      },
      "execution_count": 3,
      "outputs": [
        {
          "output_type": "execute_result",
          "data": {
            "text/plain": [
              "list"
            ]
          },
          "metadata": {},
          "execution_count": 3
        }
      ]
    },
    {
      "cell_type": "markdown",
      "metadata": {
        "id": "Mmlkh5TVltnT"
      },
      "source": [
        "### Lista com tipos de dados variados"
      ]
    },
    {
      "cell_type": "code",
      "execution_count": 4,
      "metadata": {
        "id": "Mfpu7NoJltnT"
      },
      "outputs": [],
      "source": [
        "Carro_1 = ['Jetta Variant', 'Motor 4.0 Turbo', 2003, 44410.0, False, ['Rodas de liga', 'Travas elétricas', 'Piloto automático'], 88078.64]\n",
        "Carro_2 = ['Passat', 'Motor Diesel', 1991, 5712.0, False, ['Central multimídia', 'Teto panorâmico', 'Freios ABS'], 106161.94]"
      ]
    },
    {
      "cell_type": "code",
      "execution_count": null,
      "metadata": {
        "colab": {
          "base_uri": "https://localhost:8080/"
        },
        "id": "EJSJFJjKltnV",
        "outputId": "4b887626-f7b6-4f9a-a31a-a9062603e770"
      },
      "outputs": [
        {
          "output_type": "execute_result",
          "data": {
            "text/plain": [
              "['Jetta Variant',\n",
              " 'Motor 4.0 Turbo',\n",
              " 2003,\n",
              " 44410.0,\n",
              " False,\n",
              " ['Rodas de liga', 'Travas elétricas', 'Piloto automático'],\n",
              " 88078.64]"
            ]
          },
          "metadata": {},
          "execution_count": 86
        }
      ],
      "source": [
        "Carro_1"
      ]
    },
    {
      "cell_type": "code",
      "execution_count": 5,
      "metadata": {
        "colab": {
          "base_uri": "https://localhost:8080/"
        },
        "id": "7MMG7L8VltnX",
        "outputId": "caefaba2-54e2-4dda-f456-acd3fcfc43aa"
      },
      "outputs": [
        {
          "output_type": "execute_result",
          "data": {
            "text/plain": [
              "['Passat',\n",
              " 'Motor Diesel',\n",
              " 1991,\n",
              " 5712.0,\n",
              " False,\n",
              " ['Central multimídia', 'Teto panorâmico', 'Freios ABS'],\n",
              " 106161.94]"
            ]
          },
          "metadata": {},
          "execution_count": 5
        }
      ],
      "source": [
        "Carro_2"
      ]
    },
    {
      "cell_type": "code",
      "execution_count": 6,
      "metadata": {
        "colab": {
          "base_uri": "https://localhost:8080/"
        },
        "id": "7E8erLgZltnZ",
        "outputId": "97c5f746-9a63-4256-c96b-e59d57bc768b"
      },
      "outputs": [
        {
          "output_type": "execute_result",
          "data": {
            "text/plain": [
              "[['Jetta Variant',\n",
              "  'Motor 4.0 Turbo',\n",
              "  2003,\n",
              "  44410.0,\n",
              "  False,\n",
              "  ['Rodas de liga', 'Travas elétricas', 'Piloto automático'],\n",
              "  88078.64],\n",
              " ['Passat',\n",
              "  'Motor Diesel',\n",
              "  1991,\n",
              "  5712.0,\n",
              "  False,\n",
              "  ['Central multimídia', 'Teto panorâmico', 'Freios ABS'],\n",
              "  106161.94]]"
            ]
          },
          "metadata": {},
          "execution_count": 6
        }
      ],
      "source": [
        "Carros = [Carro_1, Carro_2]\n",
        "Carros"
      ]
    },
    {
      "cell_type": "markdown",
      "metadata": {
        "id": "5yMXJ0xdltna"
      },
      "source": [
        "# 3.2 Operações com listas\n",
        "\n",
        "https://docs.python.org/3.6/library/stdtypes.html#common-sequence-operations"
      ]
    },
    {
      "cell_type": "markdown",
      "metadata": {
        "id": "YSorJOGlltna"
      },
      "source": [
        "## *x in A*\n",
        "\n",
        "Retorna **True** se um elemento da lista *A* for igual a *x*."
      ]
    },
    {
      "cell_type": "code",
      "execution_count": 7,
      "metadata": {
        "colab": {
          "base_uri": "https://localhost:8080/"
        },
        "id": "GgSP_nlHltnb",
        "outputId": "b2c7ded2-2ff7-49f2-ce0c-f8790c41e4f1"
      },
      "outputs": [
        {
          "output_type": "execute_result",
          "data": {
            "text/plain": [
              "['Rodas de liga',\n",
              " 'Travas elétricas',\n",
              " 'Piloto automático',\n",
              " 'Bancos de couro',\n",
              " 'Ar condicionado',\n",
              " 'Sensor de estacionamento',\n",
              " 'Sensor crepuscular',\n",
              " 'Sensor de chuva']"
            ]
          },
          "metadata": {},
          "execution_count": 7
        }
      ],
      "source": [
        "Acessorios"
      ]
    },
    {
      "cell_type": "code",
      "execution_count": 13,
      "metadata": {
        "colab": {
          "base_uri": "https://localhost:8080/"
        },
        "id": "_JyyHPmWltnd",
        "outputId": "b22393ea-1209-490c-c43b-a95038109ad4"
      },
      "outputs": [
        {
          "output_type": "execute_result",
          "data": {
            "text/plain": [
              "True"
            ]
          },
          "metadata": {},
          "execution_count": 13
        }
      ],
      "source": [
        "'Rodas de liga' in Acessorios "
      ]
    },
    {
      "cell_type": "code",
      "execution_count": 9,
      "metadata": {
        "colab": {
          "base_uri": "https://localhost:8080/"
        },
        "id": "tebg9gAyltne",
        "outputId": "45b52d70-e6b2-437e-ce97-864a22e6d830"
      },
      "outputs": [
        {
          "output_type": "execute_result",
          "data": {
            "text/plain": [
              "False"
            ]
          },
          "metadata": {},
          "execution_count": 9
        }
      ],
      "source": [
        "'4 X 4' in Acessorios"
      ]
    },
    {
      "cell_type": "code",
      "execution_count": 10,
      "metadata": {
        "colab": {
          "base_uri": "https://localhost:8080/"
        },
        "id": "W_1PKJYsltnf",
        "outputId": "5e2d1a5c-b67d-4b4d-8100-64958c2c9632"
      },
      "outputs": [
        {
          "output_type": "execute_result",
          "data": {
            "text/plain": [
              "False"
            ]
          },
          "metadata": {},
          "execution_count": 10
        }
      ],
      "source": [
        "'Rodas de liga' not in Acessorios \n"
      ]
    },
    {
      "cell_type": "code",
      "execution_count": 11,
      "metadata": {
        "colab": {
          "base_uri": "https://localhost:8080/"
        },
        "id": "1WNsBXFyltng",
        "outputId": "298fa85c-ca67-4b7e-b752-6abef37e339b"
      },
      "outputs": [
        {
          "output_type": "execute_result",
          "data": {
            "text/plain": [
              "True"
            ]
          },
          "metadata": {},
          "execution_count": 11
        }
      ],
      "source": [
        "'4 X 4' not in Acessorios\n"
      ]
    },
    {
      "cell_type": "markdown",
      "metadata": {
        "id": "RF6_rf90ltnh"
      },
      "source": [
        "## *A + B*\n",
        "\n",
        "Concatena as listas *A* e *B*."
      ]
    },
    {
      "cell_type": "code",
      "execution_count": 14,
      "metadata": {
        "id": "8lnzbYnRltnh"
      },
      "outputs": [],
      "source": [
        "A = ['Rodas de liga', 'Travas elétricas', 'Piloto automático', 'Bancos de couro']\n",
        "B = ['Ar condicionado', 'Sensor de estacionamento', 'Sensor crepuscular', 'Sensor de chuva']"
      ]
    },
    {
      "cell_type": "code",
      "execution_count": 15,
      "metadata": {
        "colab": {
          "base_uri": "https://localhost:8080/"
        },
        "id": "SzbiHHF4ltni",
        "outputId": "9e9ef618-85b0-450c-e534-555d0bc049d6"
      },
      "outputs": [
        {
          "output_type": "execute_result",
          "data": {
            "text/plain": [
              "['Rodas de liga', 'Travas elétricas', 'Piloto automático', 'Bancos de couro']"
            ]
          },
          "metadata": {},
          "execution_count": 15
        }
      ],
      "source": [
        "A"
      ]
    },
    {
      "cell_type": "code",
      "execution_count": 16,
      "metadata": {
        "colab": {
          "base_uri": "https://localhost:8080/"
        },
        "id": "It5Cn5aXltni",
        "outputId": "b993aa8e-7f93-483c-ee5a-c340ba49dfea"
      },
      "outputs": [
        {
          "output_type": "execute_result",
          "data": {
            "text/plain": [
              "['Ar condicionado',\n",
              " 'Sensor de estacionamento',\n",
              " 'Sensor crepuscular',\n",
              " 'Sensor de chuva']"
            ]
          },
          "metadata": {},
          "execution_count": 16
        }
      ],
      "source": [
        "B"
      ]
    },
    {
      "cell_type": "code",
      "execution_count": 17,
      "metadata": {
        "colab": {
          "base_uri": "https://localhost:8080/"
        },
        "id": "l7gF4Ph5ltnj",
        "outputId": "5a25a5bf-2e1f-43c5-c259-a43aa13fb956"
      },
      "outputs": [
        {
          "output_type": "execute_result",
          "data": {
            "text/plain": [
              "['Rodas de liga',\n",
              " 'Travas elétricas',\n",
              " 'Piloto automático',\n",
              " 'Bancos de couro',\n",
              " 'Ar condicionado',\n",
              " 'Sensor de estacionamento',\n",
              " 'Sensor crepuscular',\n",
              " 'Sensor de chuva']"
            ]
          },
          "metadata": {},
          "execution_count": 17
        }
      ],
      "source": [
        "A + B"
      ]
    },
    {
      "cell_type": "markdown",
      "metadata": {
        "id": "iTv5t7zAltnk"
      },
      "source": [
        "## *len(A)*\n",
        "\n",
        "Tamanho da lista A."
      ]
    },
    {
      "cell_type": "code",
      "execution_count": 18,
      "metadata": {
        "colab": {
          "base_uri": "https://localhost:8080/"
        },
        "id": "dtbuCDSOltnk",
        "outputId": "b3961610-cf02-4590-d19c-4a4b7bcafac7"
      },
      "outputs": [
        {
          "output_type": "execute_result",
          "data": {
            "text/plain": [
              "8"
            ]
          },
          "metadata": {},
          "execution_count": 18
        }
      ],
      "source": [
        "len(Acessorios)"
      ]
    },
    {
      "cell_type": "markdown",
      "metadata": {
        "id": "k7wWCbAmltnl"
      },
      "source": [
        "# 3.3 Seleções em listas"
      ]
    },
    {
      "cell_type": "markdown",
      "metadata": {
        "id": "uF3NmgUaltnl"
      },
      "source": [
        "## *A[ i ]*\n",
        "\n",
        "Retorna o i-ésimo item da lista *A*.\n",
        "\n",
        "<font color=red>**Observação:**</font> Listas têm indexação com origem no zero."
      ]
    },
    {
      "cell_type": "code",
      "execution_count": 19,
      "metadata": {
        "colab": {
          "base_uri": "https://localhost:8080/"
        },
        "id": "f5ct7w1Wltnm",
        "outputId": "ab082629-4b3e-4368-dd8f-137b41c95104"
      },
      "outputs": [
        {
          "output_type": "execute_result",
          "data": {
            "text/plain": [
              "['Rodas de liga',\n",
              " 'Travas elétricas',\n",
              " 'Piloto automático',\n",
              " 'Bancos de couro',\n",
              " 'Ar condicionado',\n",
              " 'Sensor de estacionamento',\n",
              " 'Sensor crepuscular',\n",
              " 'Sensor de chuva']"
            ]
          },
          "metadata": {},
          "execution_count": 19
        }
      ],
      "source": [
        "Acessorios"
      ]
    },
    {
      "cell_type": "code",
      "execution_count": 20,
      "metadata": {
        "colab": {
          "base_uri": "https://localhost:8080/",
          "height": 36
        },
        "id": "-BLG7yifltnn",
        "outputId": "6c575ec2-02cc-4ee7-e8c2-8bbbadee79b4"
      },
      "outputs": [
        {
          "output_type": "execute_result",
          "data": {
            "text/plain": [
              "'Rodas de liga'"
            ],
            "application/vnd.google.colaboratory.intrinsic+json": {
              "type": "string"
            }
          },
          "metadata": {},
          "execution_count": 20
        }
      ],
      "source": [
        "Acessorios[0]\n"
      ]
    },
    {
      "cell_type": "code",
      "execution_count": 21,
      "metadata": {
        "colab": {
          "base_uri": "https://localhost:8080/",
          "height": 36
        },
        "id": "SoL6PIjJltno",
        "outputId": "e2e7a9bc-716b-4c7a-e121-2c97a8049554"
      },
      "outputs": [
        {
          "output_type": "execute_result",
          "data": {
            "text/plain": [
              "'Travas elétricas'"
            ],
            "application/vnd.google.colaboratory.intrinsic+json": {
              "type": "string"
            }
          },
          "metadata": {},
          "execution_count": 21
        }
      ],
      "source": [
        "Acessorios[1]\n"
      ]
    },
    {
      "cell_type": "code",
      "execution_count": 27,
      "metadata": {
        "colab": {
          "base_uri": "https://localhost:8080/",
          "height": 36
        },
        "id": "pGMDc5FLltnq",
        "outputId": "a799064f-5419-49ea-fd61-6df9c223923f"
      },
      "outputs": [
        {
          "output_type": "execute_result",
          "data": {
            "text/plain": [
              "'Sensor de chuva'"
            ],
            "application/vnd.google.colaboratory.intrinsic+json": {
              "type": "string"
            }
          },
          "metadata": {},
          "execution_count": 27
        }
      ],
      "source": [
        "Acessorios[-1]\n"
      ]
    },
    {
      "cell_type": "code",
      "execution_count": 23,
      "metadata": {
        "colab": {
          "base_uri": "https://localhost:8080/"
        },
        "id": "m3AaFe73ltnr",
        "outputId": "8ffb215d-eaeb-4893-ab0c-599e8dc29fba"
      },
      "outputs": [
        {
          "output_type": "execute_result",
          "data": {
            "text/plain": [
              "[['Jetta Variant',\n",
              "  'Motor 4.0 Turbo',\n",
              "  2003,\n",
              "  44410.0,\n",
              "  False,\n",
              "  ['Rodas de liga', 'Travas elétricas', 'Piloto automático'],\n",
              "  88078.64],\n",
              " ['Passat',\n",
              "  'Motor Diesel',\n",
              "  1991,\n",
              "  5712.0,\n",
              "  False,\n",
              "  ['Central multimídia', 'Teto panorâmico', 'Freios ABS'],\n",
              "  106161.94]]"
            ]
          },
          "metadata": {},
          "execution_count": 23
        }
      ],
      "source": [
        "Carros"
      ]
    },
    {
      "cell_type": "code",
      "execution_count": 24,
      "metadata": {
        "colab": {
          "base_uri": "https://localhost:8080/"
        },
        "id": "AeDJviqoltns",
        "outputId": "0683bb08-0d3f-4904-bf8e-329b42798a62"
      },
      "outputs": [
        {
          "output_type": "execute_result",
          "data": {
            "text/plain": [
              "['Jetta Variant',\n",
              " 'Motor 4.0 Turbo',\n",
              " 2003,\n",
              " 44410.0,\n",
              " False,\n",
              " ['Rodas de liga', 'Travas elétricas', 'Piloto automático'],\n",
              " 88078.64]"
            ]
          },
          "metadata": {},
          "execution_count": 24
        }
      ],
      "source": [
        "Carros[0]"
      ]
    },
    {
      "cell_type": "code",
      "execution_count": 28,
      "metadata": {
        "colab": {
          "base_uri": "https://localhost:8080/"
        },
        "id": "KdenG1BZltnt",
        "outputId": "90831179-110b-4790-e6f8-8dfd5d196ee0"
      },
      "outputs": [
        {
          "output_type": "execute_result",
          "data": {
            "text/plain": [
              "['Passat',\n",
              " 'Motor Diesel',\n",
              " 1991,\n",
              " 5712.0,\n",
              " False,\n",
              " ['Central multimídia', 'Teto panorâmico', 'Freios ABS'],\n",
              " 106161.94]"
            ]
          },
          "metadata": {},
          "execution_count": 28
        }
      ],
      "source": [
        "Carros[1]"
      ]
    },
    {
      "cell_type": "code",
      "execution_count": 29,
      "metadata": {
        "colab": {
          "base_uri": "https://localhost:8080/",
          "height": 36
        },
        "id": "iOjsfrlFltnu",
        "outputId": "60f244a2-384a-472a-b993-ebf9b69a27da"
      },
      "outputs": [
        {
          "output_type": "execute_result",
          "data": {
            "text/plain": [
              "'Jetta Variant'"
            ],
            "application/vnd.google.colaboratory.intrinsic+json": {
              "type": "string"
            }
          },
          "metadata": {},
          "execution_count": 29
        }
      ],
      "source": [
        "Carros[0][0]"
      ]
    },
    {
      "cell_type": "code",
      "execution_count": 30,
      "metadata": {
        "colab": {
          "base_uri": "https://localhost:8080/"
        },
        "id": "6BrON70Zltnu",
        "outputId": "faee9fb1-c914-4cb6-a548-4e4c08f31f84"
      },
      "outputs": [
        {
          "output_type": "execute_result",
          "data": {
            "text/plain": [
              "['Rodas de liga', 'Travas elétricas', 'Piloto automático']"
            ]
          },
          "metadata": {},
          "execution_count": 30
        }
      ],
      "source": [
        "Carros[0][-2]"
      ]
    },
    {
      "cell_type": "code",
      "source": [
        "Carros[0][-2][1]\n"
      ],
      "metadata": {
        "colab": {
          "base_uri": "https://localhost:8080/",
          "height": 36
        },
        "id": "MZGNeVNFfpBm",
        "outputId": "e9b524bc-da13-4136-bb1e-26c0a54e881e"
      },
      "execution_count": 31,
      "outputs": [
        {
          "output_type": "execute_result",
          "data": {
            "text/plain": [
              "'Travas elétricas'"
            ],
            "application/vnd.google.colaboratory.intrinsic+json": {
              "type": "string"
            }
          },
          "metadata": {},
          "execution_count": 31
        }
      ]
    },
    {
      "cell_type": "markdown",
      "metadata": {
        "id": "9WgwxPIMltnv"
      },
      "source": [
        "## *A[ i : j ]*\n",
        "\n",
        "Recorta a lista *A* do índice i até o j. Neste fatiamento o elemento com índice i é **incluído** e o elemento com índice j **não é incluído** no resultado."
      ]
    },
    {
      "cell_type": "code",
      "execution_count": 32,
      "metadata": {
        "colab": {
          "base_uri": "https://localhost:8080/"
        },
        "id": "bJzL2PMiltnv",
        "outputId": "95eccb06-f7db-4f7e-a05f-69c1d194e97e"
      },
      "outputs": [
        {
          "output_type": "execute_result",
          "data": {
            "text/plain": [
              "['Rodas de liga',\n",
              " 'Travas elétricas',\n",
              " 'Piloto automático',\n",
              " 'Bancos de couro',\n",
              " 'Ar condicionado',\n",
              " 'Sensor de estacionamento',\n",
              " 'Sensor crepuscular',\n",
              " 'Sensor de chuva']"
            ]
          },
          "metadata": {},
          "execution_count": 32
        }
      ],
      "source": [
        "Acessorios"
      ]
    },
    {
      "cell_type": "code",
      "execution_count": 33,
      "metadata": {
        "colab": {
          "base_uri": "https://localhost:8080/"
        },
        "id": "sFAlJ4u_ltnw",
        "outputId": "337bdff3-2f78-4c96-9cae-aec603de0fba"
      },
      "outputs": [
        {
          "output_type": "execute_result",
          "data": {
            "text/plain": [
              "['Piloto automático', 'Bancos de couro', 'Ar condicionado']"
            ]
          },
          "metadata": {},
          "execution_count": 33
        }
      ],
      "source": [
        "Acessorios[2:5]   # 2 entra na lista mas o 5 não! começa contar 0 \n"
      ]
    },
    {
      "cell_type": "code",
      "execution_count": 34,
      "metadata": {
        "colab": {
          "base_uri": "https://localhost:8080/"
        },
        "id": "dFdTBWa9ltnz",
        "outputId": "f2294b52-9ca0-49da-c45d-5a7063771aea"
      },
      "outputs": [
        {
          "output_type": "execute_result",
          "data": {
            "text/plain": [
              "['Piloto automático',\n",
              " 'Bancos de couro',\n",
              " 'Ar condicionado',\n",
              " 'Sensor de estacionamento',\n",
              " 'Sensor crepuscular',\n",
              " 'Sensor de chuva']"
            ]
          },
          "metadata": {},
          "execution_count": 34
        }
      ],
      "source": [
        "Acessorios[2:]"
      ]
    },
    {
      "cell_type": "code",
      "execution_count": 35,
      "metadata": {
        "colab": {
          "base_uri": "https://localhost:8080/"
        },
        "id": "yxxB2-_Dltn0",
        "outputId": "c01f43cd-3c2a-4ff8-c3dc-f7a0f44511b6"
      },
      "outputs": [
        {
          "output_type": "execute_result",
          "data": {
            "text/plain": [
              "['Rodas de liga',\n",
              " 'Travas elétricas',\n",
              " 'Piloto automático',\n",
              " 'Bancos de couro',\n",
              " 'Ar condicionado']"
            ]
          },
          "metadata": {},
          "execution_count": 35
        }
      ],
      "source": [
        "Acessorios[:5]"
      ]
    },
    {
      "cell_type": "markdown",
      "metadata": {
        "id": "R-S-LCPGltn0"
      },
      "source": [
        "# 3.4 Métodos de listas\n",
        "\n",
        "https://docs.python.org/3.6/library/stdtypes.html#mutable-sequence-types"
      ]
    },
    {
      "cell_type": "markdown",
      "metadata": {
        "id": "j9s2OyyPltn1"
      },
      "source": [
        "## *A.sort()*\n",
        "\n",
        "Ordena a lista *A*."
      ]
    },
    {
      "cell_type": "code",
      "execution_count": 36,
      "metadata": {
        "id": "A2dJGhFsltn1",
        "colab": {
          "base_uri": "https://localhost:8080/"
        },
        "outputId": "54291637-21f4-4594-b1cb-073323ea7068"
      },
      "outputs": [
        {
          "output_type": "execute_result",
          "data": {
            "text/plain": [
              "['Rodas de liga',\n",
              " 'Travas elétricas',\n",
              " 'Piloto automático',\n",
              " 'Bancos de couro',\n",
              " 'Ar condicionado',\n",
              " 'Sensor de estacionamento',\n",
              " 'Sensor crepuscular',\n",
              " 'Sensor de chuva']"
            ]
          },
          "metadata": {},
          "execution_count": 36
        }
      ],
      "source": [
        "Acessorios"
      ]
    },
    {
      "cell_type": "code",
      "execution_count": 41,
      "metadata": {
        "id": "VDWCHlTcltn2",
        "colab": {
          "base_uri": "https://localhost:8080/"
        },
        "outputId": "493c3859-c1b2-4e0c-dbc2-4c752abeb6c1"
      },
      "outputs": [
        {
          "output_type": "execute_result",
          "data": {
            "text/plain": [
              "['Ar condicionado',\n",
              " 'Bancos de couro',\n",
              " 'Piloto automático',\n",
              " 'Rodas de liga',\n",
              " 'Sensor crepuscular',\n",
              " 'Sensor de chuva',\n",
              " 'Sensor de estacionamento',\n",
              " 'Travas elétricas']"
            ]
          },
          "metadata": {},
          "execution_count": 41
        }
      ],
      "source": [
        "Acessorios.sort()     #organiza a lista em ordem alfabética\n",
        "Acessorios"
      ]
    },
    {
      "cell_type": "markdown",
      "metadata": {
        "id": "N9Spp7-xltn3"
      },
      "source": [
        "## *A.append(x)*\n",
        "\n",
        "Adiciona o elemnto *x* no final da lista *A*."
      ]
    },
    {
      "cell_type": "code",
      "execution_count": 39,
      "metadata": {
        "id": "l7I_U-sRltn4",
        "colab": {
          "base_uri": "https://localhost:8080/"
        },
        "outputId": "2eac1330-43a4-4ace-e144-7fec64accb13"
      },
      "outputs": [
        {
          "output_type": "execute_result",
          "data": {
            "text/plain": [
              "['Ar condicionado',\n",
              " 'Bancos de couro',\n",
              " 'Piloto automático',\n",
              " 'Rodas de liga',\n",
              " 'Sensor crepuscular',\n",
              " 'Sensor de chuva',\n",
              " 'Sensor de estacionamento',\n",
              " 'Travas elétricas',\n",
              " '4x4']"
            ]
          },
          "metadata": {},
          "execution_count": 39
        }
      ],
      "source": [
        "Acessorios.append('4x4')\n",
        "Acessorios                                  # adiciona um elemento no final da lista"
      ]
    },
    {
      "cell_type": "markdown",
      "metadata": {
        "id": "eiP3oACPltn6"
      },
      "source": [
        "## *A.pop(i)*\n",
        "\n",
        "Remove e retorna o elemento de índice i da lista *A*.\n",
        "\n",
        "<font color=red>**Observação:**</font> Por *default* o método *pop()* remove e retorna o último elemento de uma lista."
      ]
    },
    {
      "cell_type": "code",
      "execution_count": 40,
      "metadata": {
        "id": "BoCKa5Hqltn6",
        "colab": {
          "base_uri": "https://localhost:8080/",
          "height": 36
        },
        "outputId": "3fe6f832-443e-4dc9-ee06-6ae79f498d0e"
      },
      "outputs": [
        {
          "output_type": "execute_result",
          "data": {
            "text/plain": [
              "'4x4'"
            ],
            "application/vnd.google.colaboratory.intrinsic+json": {
              "type": "string"
            }
          },
          "metadata": {},
          "execution_count": 40
        }
      ],
      "source": [
        "Acessorios.pop()"
      ]
    },
    {
      "cell_type": "code",
      "execution_count": null,
      "metadata": {
        "id": "GfGX1jw-ltn9",
        "colab": {
          "base_uri": "https://localhost:8080/"
        },
        "outputId": "8b9e59c6-35db-4178-f624-a80ab36a5583"
      },
      "outputs": [
        {
          "output_type": "execute_result",
          "data": {
            "text/plain": [
              "['Ar condicionado',\n",
              " 'Bancos de couro',\n",
              " 'Piloto automático',\n",
              " 'Rodas de liga',\n",
              " 'Sensor crepuscular',\n",
              " 'Sensor de chuva',\n",
              " 'Sensor de estacionamento',\n",
              " 'Travas elétricas']"
            ]
          },
          "metadata": {},
          "execution_count": 117
        }
      ],
      "source": [
        "Acessorios"
      ]
    },
    {
      "cell_type": "code",
      "execution_count": 42,
      "metadata": {
        "id": "tppe9tqbltn-",
        "colab": {
          "base_uri": "https://localhost:8080/",
          "height": 36
        },
        "outputId": "f87dca64-7b9e-498f-cad0-5112449a6485"
      },
      "outputs": [
        {
          "output_type": "execute_result",
          "data": {
            "text/plain": [
              "'Rodas de liga'"
            ],
            "application/vnd.google.colaboratory.intrinsic+json": {
              "type": "string"
            }
          },
          "metadata": {},
          "execution_count": 42
        }
      ],
      "source": [
        "Acessorios.pop(3)"
      ]
    },
    {
      "cell_type": "code",
      "execution_count": 43,
      "metadata": {
        "id": "Ku6ZHTdJltn_",
        "colab": {
          "base_uri": "https://localhost:8080/"
        },
        "outputId": "fc418b0b-806c-4070-bacd-96da9d728f75"
      },
      "outputs": [
        {
          "output_type": "execute_result",
          "data": {
            "text/plain": [
              "['Ar condicionado',\n",
              " 'Bancos de couro',\n",
              " 'Piloto automático',\n",
              " 'Sensor crepuscular',\n",
              " 'Sensor de chuva',\n",
              " 'Sensor de estacionamento',\n",
              " 'Travas elétricas']"
            ]
          },
          "metadata": {},
          "execution_count": 43
        }
      ],
      "source": [
        "Acessorios"
      ]
    },
    {
      "cell_type": "markdown",
      "metadata": {
        "id": "NySIp62hltoC"
      },
      "source": [
        "## *A.copy()*\n",
        "\n",
        "Cria uma cópia da lista *A*.\n",
        "\n",
        "<font color=red>**Observação:**</font> O mesmo resultado pode ser obtido com o seguinte código: \n",
        "```\n",
        "A[:]\n",
        "```"
      ]
    },
    {
      "cell_type": "code",
      "execution_count": 45,
      "metadata": {
        "id": "yP9ODygcltoC",
        "colab": {
          "base_uri": "https://localhost:8080/"
        },
        "outputId": "14a4f765-dd72-4f35-9967-8cf845f3469f"
      },
      "outputs": [
        {
          "output_type": "execute_result",
          "data": {
            "text/plain": [
              "['Ar condicionado',\n",
              " 'Bancos de couro',\n",
              " 'Piloto automático',\n",
              " 'Sensor crepuscular',\n",
              " 'Sensor de chuva',\n",
              " 'Sensor de estacionamento',\n",
              " 'Travas elétricas']"
            ]
          },
          "metadata": {},
          "execution_count": 45
        }
      ],
      "source": [
        "Acessorios_2 = Acessorios\n",
        "Acessorios_2"
      ]
    },
    {
      "cell_type": "code",
      "execution_count": 51,
      "metadata": {
        "id": "W3eQdVWkltoF",
        "colab": {
          "base_uri": "https://localhost:8080/"
        },
        "outputId": "9ed2b9e8-cb5c-448b-b3ad-55360e88fa29"
      },
      "outputs": [
        {
          "output_type": "execute_result",
          "data": {
            "text/plain": [
              "['Ar condicionado',\n",
              " 'Bancos de couro',\n",
              " 'Piloto automático',\n",
              " 'Sensor crepuscular',\n",
              " 'Sensor de chuva',\n",
              " 'Sensor de estacionamento',\n",
              " 'Travas elétricas',\n",
              " '4 X 4']"
            ]
          },
          "metadata": {},
          "execution_count": 51
        }
      ],
      "source": [
        "Acessorios_2.append('4 X 4')\n",
        "Acessorios_2"
      ]
    },
    {
      "cell_type": "code",
      "execution_count": 52,
      "metadata": {
        "id": "OVbvjjmdltoG",
        "colab": {
          "base_uri": "https://localhost:8080/"
        },
        "outputId": "7a68ffa9-67e7-42d5-e2bb-b6ad8f134669"
      },
      "outputs": [
        {
          "output_type": "execute_result",
          "data": {
            "text/plain": [
              "['Ar condicionado',\n",
              " 'Bancos de couro',\n",
              " 'Piloto automático',\n",
              " 'Sensor crepuscular',\n",
              " 'Sensor de chuva',\n",
              " 'Sensor de estacionamento',\n",
              " 'Travas elétricas']"
            ]
          },
          "metadata": {},
          "execution_count": 52
        }
      ],
      "source": [
        "Acessorios"
      ]
    },
    {
      "cell_type": "code",
      "source": [
        "Acessorios.pop()"
      ],
      "metadata": {
        "colab": {
          "base_uri": "https://localhost:8080/",
          "height": 36
        },
        "id": "hcY7GNzrWlcn",
        "outputId": "dd06ee56-b02b-46db-a645-e6e31ad25183"
      },
      "execution_count": 48,
      "outputs": [
        {
          "output_type": "execute_result",
          "data": {
            "text/plain": [
              "'4 X 4'"
            ],
            "application/vnd.google.colaboratory.intrinsic+json": {
              "type": "string"
            }
          },
          "metadata": {},
          "execution_count": 48
        }
      ]
    },
    {
      "cell_type": "code",
      "execution_count": 49,
      "metadata": {
        "id": "P-MN1JfAltoH",
        "colab": {
          "base_uri": "https://localhost:8080/"
        },
        "outputId": "308e6bef-e7d8-498a-a324-370843ff80b5"
      },
      "outputs": [
        {
          "output_type": "execute_result",
          "data": {
            "text/plain": [
              "['Ar condicionado',\n",
              " 'Bancos de couro',\n",
              " 'Piloto automático',\n",
              " 'Sensor crepuscular',\n",
              " 'Sensor de chuva',\n",
              " 'Sensor de estacionamento',\n",
              " 'Travas elétricas']"
            ]
          },
          "metadata": {},
          "execution_count": 49
        }
      ],
      "source": [
        "Acessorios"
      ]
    },
    {
      "cell_type": "code",
      "execution_count": 50,
      "metadata": {
        "id": "ZVQ38eqVltoJ",
        "colab": {
          "base_uri": "https://localhost:8080/"
        },
        "outputId": "978344e6-b179-473d-829e-e291eb4af4ed"
      },
      "outputs": [
        {
          "output_type": "execute_result",
          "data": {
            "text/plain": [
              "['Ar condicionado',\n",
              " 'Bancos de couro',\n",
              " 'Piloto automático',\n",
              " 'Sensor crepuscular',\n",
              " 'Sensor de chuva',\n",
              " 'Sensor de estacionamento',\n",
              " 'Travas elétricas']"
            ]
          },
          "metadata": {},
          "execution_count": 50
        }
      ],
      "source": [
        "Acessorios_2 = Acessorios.copy()\n",
        "Acessorios_2"
      ]
    },
    {
      "cell_type": "code",
      "execution_count": 53,
      "metadata": {
        "id": "bqPiw5wSltoM",
        "colab": {
          "base_uri": "https://localhost:8080/"
        },
        "outputId": "d9ee66e0-35fd-4ab3-e8e0-1f7414a4aa27"
      },
      "outputs": [
        {
          "output_type": "execute_result",
          "data": {
            "text/plain": [
              "['Ar condicionado',\n",
              " 'Bancos de couro',\n",
              " 'Piloto automático',\n",
              " 'Sensor crepuscular',\n",
              " 'Sensor de chuva',\n",
              " 'Sensor de estacionamento',\n",
              " 'Travas elétricas']"
            ]
          },
          "metadata": {},
          "execution_count": 53
        }
      ],
      "source": [
        "Acessorios_2 = Acessorios[:]\n",
        "Acessorios_2"
      ]
    },
    {
      "cell_type": "code",
      "execution_count": null,
      "metadata": {
        "id": "r2LPHB34ltoQ"
      },
      "outputs": [],
      "source": []
    },
    {
      "cell_type": "markdown",
      "metadata": {
        "id": "8zMZNsg2ltoU"
      },
      "source": [
        "# <font color=green> 4. ESTRUTURAS DE REPETIÇÃO E CONDICIONAIS\n",
        "---"
      ]
    },
    {
      "cell_type": "markdown",
      "metadata": {
        "id": "gxUmCLyJltoU"
      },
      "source": [
        "# 4.1 Instrução *for*\n",
        "\n",
        "#### Formato padrão\n",
        "\n",
        "```\n",
        "for <variável> in <coleção>:\n",
        "    <instruções>\n",
        "```"
      ]
    },
    {
      "cell_type": "markdown",
      "metadata": {
        "id": "Irl5oa0altoU"
      },
      "source": [
        "### Loops com listas"
      ]
    },
    {
      "cell_type": "code",
      "execution_count": 54,
      "metadata": {
        "id": "E1LZ5n25ltoV",
        "colab": {
          "base_uri": "https://localhost:8080/"
        },
        "outputId": "86a39059-a0cd-4213-8439-b96107b5b46c"
      },
      "outputs": [
        {
          "output_type": "execute_result",
          "data": {
            "text/plain": [
              "['Rodas de liga',\n",
              " 'Travas elétricas',\n",
              " 'Piloto automático',\n",
              " 'Bancos de couro',\n",
              " 'Ar condicionado',\n",
              " 'Sensor de estacionamento',\n",
              " 'Sensor crepuscular',\n",
              " 'Sensor de chuva']"
            ]
          },
          "metadata": {},
          "execution_count": 54
        }
      ],
      "source": [
        "Acessorios = ['Rodas de liga', 'Travas elétricas', 'Piloto automático', 'Bancos de couro', 'Ar condicionado', 'Sensor de estacionamento', 'Sensor crepuscular', 'Sensor de chuva']\n",
        "Acessorios"
      ]
    },
    {
      "cell_type": "code",
      "execution_count": 55,
      "metadata": {
        "id": "Z459QqsFltoY",
        "colab": {
          "base_uri": "https://localhost:8080/"
        },
        "outputId": "251e28ca-393e-4a87-a3d3-a189edb87d81"
      },
      "outputs": [
        {
          "output_type": "stream",
          "name": "stdout",
          "text": [
            "Rodas de liga\n",
            "Travas elétricas\n",
            "Piloto automático\n",
            "Bancos de couro\n",
            "Ar condicionado\n",
            "Sensor de estacionamento\n",
            "Sensor crepuscular\n",
            "Sensor de chuva\n"
          ]
        }
      ],
      "source": [
        "for item in Acessorios:\n",
        "  print(item)"
      ]
    },
    {
      "cell_type": "markdown",
      "metadata": {
        "id": "Gbztj9T4ltoZ"
      },
      "source": [
        "###  List comprehensions\n",
        "\n",
        "https://docs.python.org/3.6/tutorial/datastructures.html#list-comprehensions"
      ]
    },
    {
      "cell_type": "markdown",
      "metadata": {
        "id": "4Y8g0cSHjbof"
      },
      "source": [
        "*range()* -> https://docs.python.org/3.6/library/functions.html#func-range"
      ]
    },
    {
      "cell_type": "code",
      "execution_count": 58,
      "metadata": {
        "id": "xDo9TLdYltoZ",
        "colab": {
          "base_uri": "https://localhost:8080/"
        },
        "outputId": "12b6ad38-1010-4790-ffa9-2a1ee9ed2642"
      },
      "outputs": [
        {
          "output_type": "execute_result",
          "data": {
            "text/plain": [
              "range(0, 10)"
            ]
          },
          "metadata": {},
          "execution_count": 58
        }
      ],
      "source": [
        "range(10)"
      ]
    },
    {
      "cell_type": "code",
      "execution_count": 59,
      "metadata": {
        "id": "V12p_CQBltoc",
        "colab": {
          "base_uri": "https://localhost:8080/"
        },
        "outputId": "478293fe-5317-470c-c283-a5ec0478dcf4"
      },
      "outputs": [
        {
          "output_type": "execute_result",
          "data": {
            "text/plain": [
              "[0, 1, 2, 3, 4, 5, 6, 7, 8, 9]"
            ]
          },
          "metadata": {},
          "execution_count": 59
        }
      ],
      "source": [
        "list(range(10))"
      ]
    },
    {
      "cell_type": "code",
      "execution_count": 62,
      "metadata": {
        "id": "OOzHHRWHltof",
        "colab": {
          "base_uri": "https://localhost:8080/"
        },
        "outputId": "135baa91-0c36-4552-b8da-84062acc9ae3"
      },
      "outputs": [
        {
          "output_type": "stream",
          "name": "stdout",
          "text": [
            "0\n",
            "0² = 0\n",
            "1\n",
            "1² = 1\n",
            "4\n",
            "2² = 4\n",
            "9\n",
            "3² = 9\n",
            "16\n",
            "4² = 16\n",
            "25\n",
            "5² = 25\n",
            "36\n",
            "6² = 36\n",
            "49\n",
            "7² = 49\n",
            "64\n",
            "8² = 64\n",
            "81\n",
            "9² = 81\n"
          ]
        }
      ],
      "source": [
        "for i in range(10):\n",
        "  print(i ** 2)\n",
        "  print(f'{i}² = {i**2}')"
      ]
    },
    {
      "cell_type": "code",
      "execution_count": 63,
      "metadata": {
        "id": "TKynwnxgltog",
        "colab": {
          "base_uri": "https://localhost:8080/"
        },
        "outputId": "564b0da4-3ab3-4bc3-e373-75750a7a1921"
      },
      "outputs": [
        {
          "output_type": "execute_result",
          "data": {
            "text/plain": [
              "[0, 1, 4, 9, 16, 25, 36, 49, 64, 81]"
            ]
          },
          "metadata": {},
          "execution_count": 63
        }
      ],
      "source": [
        "quadrado = []\n",
        "for i in range(10):\n",
        "  quadrado.append(i ** 2)\n",
        "\n",
        "quadrado"
      ]
    },
    {
      "cell_type": "code",
      "execution_count": 64,
      "metadata": {
        "id": "d77YH_dVltoh",
        "colab": {
          "base_uri": "https://localhost:8080/"
        },
        "outputId": "c0d42502-396b-4eda-f4e4-3af7a4279aab"
      },
      "outputs": [
        {
          "output_type": "execute_result",
          "data": {
            "text/plain": [
              "[0, 1, 4, 9, 16, 25, 36, 49, 64, 81]"
            ]
          },
          "metadata": {},
          "execution_count": 64
        }
      ],
      "source": [
        "[i**2 for i in range(10)]"
      ]
    },
    {
      "cell_type": "code",
      "execution_count": null,
      "metadata": {
        "id": "3OmElLO2ltoi"
      },
      "outputs": [],
      "source": []
    },
    {
      "cell_type": "markdown",
      "metadata": {
        "id": "AcAcaKFXltom"
      },
      "source": [
        "# 4.2 Loops aninhados"
      ]
    },
    {
      "cell_type": "code",
      "execution_count": null,
      "metadata": {
        "id": "mjgJCo3dlton"
      },
      "outputs": [],
      "source": [
        "dados = [ \n",
        "    ['Rodas de liga', 'Travas elétricas', 'Piloto automático', 'Bancos de couro', 'Ar condicionado', 'Sensor de estacionamento', 'Sensor crepuscular', 'Sensor de chuva'],\n",
        "    ['Central multimídia', 'Teto panorâmico', 'Freios ABS', '4 X 4', 'Painel digital', 'Piloto automático', 'Bancos de couro', 'Câmera de estacionamento'],\n",
        "    ['Piloto automático', 'Controle de estabilidade', 'Sensor crepuscular', 'Freios ABS', 'Câmbio automático', 'Bancos de couro', 'Central multimídia', 'Vidros elétricos']\n",
        "]\n",
        "dados"
      ]
    },
    {
      "cell_type": "code",
      "execution_count": 66,
      "metadata": {
        "id": "pLgxwApVltop",
        "colab": {
          "base_uri": "https://localhost:8080/"
        },
        "outputId": "52bbaace-a6f8-4d6e-f01d-6445f0e3770e"
      },
      "outputs": [
        {
          "output_type": "stream",
          "name": "stdout",
          "text": [
            "['Rodas de liga', 'Travas elétricas', 'Piloto automático', 'Bancos de couro', 'Ar condicionado', 'Sensor de estacionamento', 'Sensor crepuscular', 'Sensor de chuva']\n",
            "['Central multimídia', 'Teto panorâmico', 'Freios ABS', '4 X 4', 'Painel digital', 'Piloto automático', 'Bancos de couro', 'Câmera de estacionamento']\n",
            "['Piloto automático', 'Controle de estabilidade', 'Sensor crepuscular', 'Freios ABS', 'Câmbio automático', 'Bancos de couro', 'Central multimídia', 'Vidros elétricos']\n"
          ]
        }
      ],
      "source": [
        "for lista in dados:\n",
        "  print(lista)"
      ]
    },
    {
      "cell_type": "code",
      "execution_count": 67,
      "metadata": {
        "id": "OYnDRvcYltor",
        "colab": {
          "base_uri": "https://localhost:8080/"
        },
        "outputId": "37bedbe6-8a80-4aa5-ef6f-8bc47021e2f2"
      },
      "outputs": [
        {
          "output_type": "stream",
          "name": "stdout",
          "text": [
            "Rodas de liga\n",
            "Travas elétricas\n",
            "Piloto automático\n",
            "Bancos de couro\n",
            "Ar condicionado\n",
            "Sensor de estacionamento\n",
            "Sensor crepuscular\n",
            "Sensor de chuva\n",
            "Central multimídia\n",
            "Teto panorâmico\n",
            "Freios ABS\n",
            "4 X 4\n",
            "Painel digital\n",
            "Piloto automático\n",
            "Bancos de couro\n",
            "Câmera de estacionamento\n",
            "Piloto automático\n",
            "Controle de estabilidade\n",
            "Sensor crepuscular\n",
            "Freios ABS\n",
            "Câmbio automático\n",
            "Bancos de couro\n",
            "Central multimídia\n",
            "Vidros elétricos\n"
          ]
        }
      ],
      "source": [
        "for lista in dados:\n",
        "  for item in lista:\n",
        "    print(item)"
      ]
    },
    {
      "cell_type": "code",
      "execution_count": 68,
      "metadata": {
        "id": "DbJa5_cJltos",
        "colab": {
          "base_uri": "https://localhost:8080/"
        },
        "outputId": "2ec1c34b-02a8-4df8-ec00-5b86f878046e"
      },
      "outputs": [
        {
          "output_type": "execute_result",
          "data": {
            "text/plain": [
              "['Rodas de liga',\n",
              " 'Travas elétricas',\n",
              " 'Piloto automático',\n",
              " 'Bancos de couro',\n",
              " 'Ar condicionado',\n",
              " 'Sensor de estacionamento',\n",
              " 'Sensor crepuscular',\n",
              " 'Sensor de chuva',\n",
              " 'Central multimídia',\n",
              " 'Teto panorâmico',\n",
              " 'Freios ABS',\n",
              " '4 X 4',\n",
              " 'Painel digital',\n",
              " 'Piloto automático',\n",
              " 'Bancos de couro',\n",
              " 'Câmera de estacionamento',\n",
              " 'Piloto automático',\n",
              " 'Controle de estabilidade',\n",
              " 'Sensor crepuscular',\n",
              " 'Freios ABS',\n",
              " 'Câmbio automático',\n",
              " 'Bancos de couro',\n",
              " 'Central multimídia',\n",
              " 'Vidros elétricos']"
            ]
          },
          "metadata": {},
          "execution_count": 68
        }
      ],
      "source": [
        "Acessorios = []\n",
        "\n",
        "for lista in dados:\n",
        "  for item in lista:\n",
        "    Acessorios.append(item)\n",
        "\n",
        "Acessorios"
      ]
    },
    {
      "cell_type": "markdown",
      "metadata": {
        "id": "RrGAOy1rn1Dj"
      },
      "source": [
        "## *set()*\n",
        "\n",
        "https://docs.python.org/3.6/library/stdtypes.html#types-set\n",
        "\n",
        "https://docs.python.org/3.6/library/functions.html#func-set"
      ]
    },
    {
      "cell_type": "code",
      "execution_count": 99,
      "metadata": {
        "id": "CuB-9ClSltos",
        "colab": {
          "base_uri": "https://localhost:8080/"
        },
        "outputId": "21a4d9ee-fc37-4167-fc12-0586fd2e00b8"
      },
      "outputs": [
        {
          "output_type": "execute_result",
          "data": {
            "text/plain": [
              "['Sensor de estacionamento',\n",
              " 'Teto panorâmico',\n",
              " 'Vidros elétricos',\n",
              " 'Travas elétricas',\n",
              " 'Sensor crepuscular',\n",
              " '4 X 4',\n",
              " 'Ar condicionado',\n",
              " 'Piloto automático',\n",
              " 'Controle de estabilidade',\n",
              " 'Painel digital',\n",
              " 'Sensor de chuva',\n",
              " 'Freios ABS',\n",
              " 'Rodas de liga',\n",
              " 'Central multimídia',\n",
              " 'Bancos de couro',\n",
              " 'Câmera de estacionamento',\n",
              " 'Câmbio automático']"
            ]
          },
          "metadata": {},
          "execution_count": 99
        }
      ],
      "source": [
        "list(set(Acessorios))"
      ]
    },
    {
      "cell_type": "markdown",
      "metadata": {
        "id": "9hHKKABhltot"
      },
      "source": [
        "### List comprehensions"
      ]
    },
    {
      "cell_type": "code",
      "execution_count": 100,
      "metadata": {
        "id": "T6t79LTlltot",
        "colab": {
          "base_uri": "https://localhost:8080/"
        },
        "outputId": "3ccc558e-6c96-4110-f235-4c8f5c6863ee"
      },
      "outputs": [
        {
          "output_type": "execute_result",
          "data": {
            "text/plain": [
              "['Rodas de liga',\n",
              " 'Travas elétricas',\n",
              " 'Piloto automático',\n",
              " 'Bancos de couro',\n",
              " 'Ar condicionado',\n",
              " 'Sensor de estacionamento',\n",
              " 'Sensor crepuscular',\n",
              " 'Sensor de chuva',\n",
              " 'Central multimídia',\n",
              " 'Teto panorâmico',\n",
              " 'Freios ABS',\n",
              " '4 X 4',\n",
              " 'Painel digital',\n",
              " 'Piloto automático',\n",
              " 'Bancos de couro',\n",
              " 'Câmera de estacionamento',\n",
              " 'Piloto automático',\n",
              " 'Controle de estabilidade',\n",
              " 'Sensor crepuscular',\n",
              " 'Freios ABS',\n",
              " 'Câmbio automático',\n",
              " 'Bancos de couro',\n",
              " 'Central multimídia',\n",
              " 'Vidros elétricos']"
            ]
          },
          "metadata": {},
          "execution_count": 100
        }
      ],
      "source": [
        "[item for lista in dados for item in lista]"
      ]
    },
    {
      "cell_type": "code",
      "source": [
        "dados = [ \n",
        "    ['A', 'B', 'C'],\n",
        "    ['D', 'E', 'F'],\n",
        "    ['G', 'H', 'I']\n",
        "]\n",
        "result_2 = []\n",
        "for lista in dados:\n",
        "    result_2 += lista\n",
        "result_2"
      ],
      "metadata": {
        "colab": {
          "base_uri": "https://localhost:8080/"
        },
        "id": "0vA0rj6I8H_1",
        "outputId": "cf5cabed-bc02-4b2c-c6a2-b0deb6ab1b1c"
      },
      "execution_count": 102,
      "outputs": [
        {
          "output_type": "execute_result",
          "data": {
            "text/plain": [
              "['A', 'B', 'C', 'D', 'E', 'F', 'G', 'H', 'I']"
            ]
          },
          "metadata": {},
          "execution_count": 102
        }
      ]
    },
    {
      "cell_type": "code",
      "source": [
        "[item for lista in dados for item in lista]"
      ],
      "metadata": {
        "colab": {
          "base_uri": "https://localhost:8080/"
        },
        "id": "32JBmEAc8TpP",
        "outputId": "51c41c6d-d692-48ec-a42d-4193ea0b62be"
      },
      "execution_count": 103,
      "outputs": [
        {
          "output_type": "execute_result",
          "data": {
            "text/plain": [
              "['A', 'B', 'C', 'D', 'E', 'F', 'G', 'H', 'I']"
            ]
          },
          "metadata": {},
          "execution_count": 103
        }
      ]
    },
    {
      "cell_type": "markdown",
      "metadata": {
        "id": "cJ4fPdj5ltou"
      },
      "source": [
        "# 4.3 Instrução *if*\n",
        "\n",
        "#### Formato padrão\n",
        "\n",
        "```\n",
        "if <condição>:\n",
        "     <instruções caso a condição seja verdadeira>\n",
        "```"
      ]
    },
    {
      "cell_type": "markdown",
      "metadata": {
        "id": "bqOYDJiWltou"
      },
      "source": [
        "### Operadores de comparação: $==$, $!=$, $>$, $<$, $>=$, $<=$\n",
        "### e\n",
        "### Operadores lógicos: $and$, $or$, $not$"
      ]
    },
    {
      "cell_type": "code",
      "execution_count": null,
      "metadata": {
        "id": "5eY_XPmrltov"
      },
      "outputs": [],
      "source": [
        "# 1º item da lista - Nome do veículo\n",
        "# 2º item da lista - Ano de fabricação\n",
        "# 3º item da lista - Veículo é zero km?\n",
        "\n",
        "dados = [\n",
        "    ['Jetta Variant', 2003, False],\n",
        "    ['Passat', 1991, False],\n",
        "    ['Crossfox', 1990, False],\n",
        "    ['DS5', 2019, True],\n",
        "    ['Aston Martin DB4', 2006, False],\n",
        "    ['Palio Weekend', 2012, False],\n",
        "    ['A5', 2019, True],\n",
        "    ['Série 3 Cabrio', 2009, False],\n",
        "    ['Dodge Jorney', 2019, False],\n",
        "    ['Carens', 2011, False]\n",
        "]\n",
        "dados"
      ]
    },
    {
      "cell_type": "code",
      "execution_count": null,
      "metadata": {
        "id": "nyb0iDH1ltoy",
        "colab": {
          "base_uri": "https://localhost:8080/"
        },
        "outputId": "1acfff0b-0154-45e2-d32f-18d008ceea72"
      },
      "outputs": [
        {
          "output_type": "execute_result",
          "data": {
            "text/plain": [
              "[['DS5', 2019, True], ['A5', 2019, True]]"
            ]
          },
          "metadata": {},
          "execution_count": 141
        }
      ],
      "source": [
        "zero_km_Y = []\n",
        "\n",
        "for lista in dados:\n",
        "  if(lista[2] == True):\n",
        "    zero_km_Y.append(lista)\n",
        "\n",
        "zero_km_Y"
      ]
    },
    {
      "cell_type": "code",
      "execution_count": 105,
      "metadata": {
        "id": "5MlITJppltoy",
        "colab": {
          "base_uri": "https://localhost:8080/"
        },
        "outputId": "7133d359-1fd4-4eca-cfeb-807238ad2f8b"
      },
      "outputs": [
        {
          "output_type": "execute_result",
          "data": {
            "text/plain": [
              "[['Jetta Variant', 2003, False],\n",
              " ['Passat', 1991, False],\n",
              " ['Crossfox', 1990, False],\n",
              " ['Aston Martin DB4', 2006, False],\n",
              " ['Palio Weekend', 2012, False],\n",
              " ['Série 3 Cabrio', 2009, False],\n",
              " ['Dodge Jorney', 2019, False],\n",
              " ['Carens', 2011, False]]"
            ]
          },
          "metadata": {},
          "execution_count": 105
        }
      ],
      "source": [
        "zero_km_N = []\n",
        "\n",
        "for lista in dados:\n",
        "  if(lista[2] == False):\n",
        "    zero_km_N.append(lista)\n",
        "\n",
        "zero_km_N"
      ]
    },
    {
      "cell_type": "markdown",
      "metadata": {
        "id": "51Js0kXD0aRH"
      },
      "source": [
        "### List comprehensions"
      ]
    },
    {
      "cell_type": "code",
      "execution_count": 111,
      "metadata": {
        "id": "Ly4QUX5J0aRI",
        "colab": {
          "base_uri": "https://localhost:8080/"
        },
        "outputId": "4be85b2a-ca40-405b-f37c-97bd7c0bbfc7"
      },
      "outputs": [
        {
          "output_type": "execute_result",
          "data": {
            "text/plain": [
              "[['DS5', 2019, True], ['A5', 2019, True]]"
            ]
          },
          "metadata": {},
          "execution_count": 111
        }
      ],
      "source": [
        "[lista for lista in dados if lista[2] == True]"
      ]
    },
    {
      "cell_type": "markdown",
      "metadata": {
        "id": "CKjrvO5Tltoz"
      },
      "source": [
        "# 4.4 Instruções *if-else* e *if-elif-else*\n",
        "\n",
        "#### Formato padrão\n",
        "\n",
        "```\n",
        "if <condição>:\n",
        "    <instruções caso a condição seja verdadeira>\n",
        "else:\n",
        "    <instruções caso a condição não seja verdadeira>\n",
        "```"
      ]
    },
    {
      "cell_type": "code",
      "execution_count": 112,
      "metadata": {
        "id": "K_VORb47ltoz"
      },
      "outputs": [],
      "source": [
        "zero_km_Y, zero_km_N = [], []\n",
        "\n",
        "for lista in dados:\n",
        "  if(lista[2] == True):\n",
        "    zero_km_Y.append(lista)\n",
        "  else:\n",
        "    zero_km_N.append(lista)"
      ]
    },
    {
      "cell_type": "code",
      "execution_count": 113,
      "metadata": {
        "id": "vhz5T7jDlto1",
        "colab": {
          "base_uri": "https://localhost:8080/"
        },
        "outputId": "07ddfa85-0a7e-4c58-ee04-7483a536ec13"
      },
      "outputs": [
        {
          "output_type": "execute_result",
          "data": {
            "text/plain": [
              "[['DS5', 2019, True], ['A5', 2019, True]]"
            ]
          },
          "metadata": {},
          "execution_count": 113
        }
      ],
      "source": [
        "zero_km_Y"
      ]
    },
    {
      "cell_type": "code",
      "execution_count": 114,
      "metadata": {
        "id": "XlvlpPjhlto1",
        "colab": {
          "base_uri": "https://localhost:8080/"
        },
        "outputId": "1fa88a30-2679-4028-e187-4e79b60ad50c"
      },
      "outputs": [
        {
          "output_type": "execute_result",
          "data": {
            "text/plain": [
              "[['Jetta Variant', 2003, False],\n",
              " ['Passat', 1991, False],\n",
              " ['Crossfox', 1990, False],\n",
              " ['Aston Martin DB4', 2006, False],\n",
              " ['Palio Weekend', 2012, False],\n",
              " ['Série 3 Cabrio', 2009, False],\n",
              " ['Dodge Jorney', 2019, False],\n",
              " ['Carens', 2011, False]]"
            ]
          },
          "metadata": {},
          "execution_count": 114
        }
      ],
      "source": [
        "zero_km_N\n"
      ]
    },
    {
      "cell_type": "markdown",
      "metadata": {
        "id": "Z2-8WeN1lto2"
      },
      "source": [
        "#### Formato padrão\n",
        "\n",
        "```\n",
        "if <condição 1>:\n",
        "    <instruções caso a condição 1 seja verdadeira>\n",
        "elif <condição 2>:\n",
        "    <instruções caso a condição 2 seja verdadeira>\n",
        "elif <condição 3>:\n",
        "    <instruções caso a condição 3 seja verdadeira>\n",
        "                        .\n",
        "                        .\n",
        "                        .\n",
        "else:\n",
        "    <instruções caso as condições anteriores não sejam verdadeiras>\n",
        "```"
      ]
    },
    {
      "cell_type": "code",
      "execution_count": 123,
      "metadata": {
        "id": "ggrbaB4Tlto2",
        "colab": {
          "base_uri": "https://localhost:8080/"
        },
        "outputId": "062bddd2-0cdf-47aa-8181-ce75f85695e2"
      },
      "outputs": [
        {
          "output_type": "execute_result",
          "data": {
            "text/plain": [
              "[['Jetta Variant', 2003, False],\n",
              " ['Passat', 1991, False],\n",
              " ['Crossfox', 1990, False],\n",
              " ['DS5', 2019, True],\n",
              " ['Aston Martin DB4', 2006, False],\n",
              " ['Palio Weekend', 2012, False],\n",
              " ['A5', 2019, True],\n",
              " ['Série 3 Cabrio', 2009, False],\n",
              " ['Dodge Jorney', 2019, False],\n",
              " ['Carens', 2011, False]]"
            ]
          },
          "metadata": {},
          "execution_count": 123
        }
      ],
      "source": [
        "dados"
      ]
    },
    {
      "cell_type": "code",
      "execution_count": 125,
      "metadata": {
        "id": "KJgRc1F9lto3",
        "colab": {
          "base_uri": "https://localhost:8080/"
        },
        "outputId": "28286fe6-e15f-49a2-83a8-e61fc4b23238"
      },
      "outputs": [
        {
          "output_type": "stream",
          "name": "stdout",
          "text": [
            "AND\n",
            "(True and True) o resultado é: True\n",
            "(True and False) o resultado é: False\n",
            "(False and True) o resultado é: False\n",
            "(False and False) o resultado é: False\n"
          ]
        }
      ],
      "source": [
        "print('AND')\n",
        "print(f'(True and True) o resultado é: {True and True}')\n",
        "print(f'(True and False) o resultado é: {True and False}')\n",
        "print(f'(False and True) o resultado é: {False and True}')\n",
        "print(f'(False and False) o resultado é: {False and False}')"
      ]
    },
    {
      "cell_type": "code",
      "execution_count": 126,
      "metadata": {
        "id": "sb0mSh-o0aRM",
        "colab": {
          "base_uri": "https://localhost:8080/"
        },
        "outputId": "bbcae215-8562-4401-d6f6-7b1915af3cab"
      },
      "outputs": [
        {
          "output_type": "stream",
          "name": "stdout",
          "text": [
            "OR\n",
            "(True or True) o resultado é: True\n",
            "(True or False) o resultado é: True\n",
            "(False or True) o resultado é: True\n",
            "(False or False) o resultado é: False\n"
          ]
        }
      ],
      "source": [
        "print('OR')\n",
        "print(f'(True or True) o resultado é: {True or True}')\n",
        "print(f'(True or False) o resultado é: {True or False}')\n",
        "print(f'(False or True) o resultado é: {False or True}')\n",
        "print(f'(False or False) o resultado é: {False or False}')"
      ]
    },
    {
      "cell_type": "code",
      "execution_count": 128,
      "metadata": {
        "id": "AfNdTPzElto3"
      },
      "outputs": [],
      "source": [
        "A, B, C = [], [], []\n",
        "\n",
        "for lista in dados:\n",
        "  if(lista[1] <=2000):\n",
        "    A.append(lista)\n",
        "  elif(lista[1] > 2000 and lista[1] <= 2010):\n",
        "    B.append(lista)\n",
        "  else:\n",
        "    C.append(lista)"
      ]
    },
    {
      "cell_type": "code",
      "execution_count": 129,
      "metadata": {
        "id": "5bN7SuvTlto4",
        "colab": {
          "base_uri": "https://localhost:8080/"
        },
        "outputId": "4ea32412-5e0a-4704-a995-d2cbd3a29191"
      },
      "outputs": [
        {
          "output_type": "execute_result",
          "data": {
            "text/plain": [
              "[['Passat', 1991, False], ['Crossfox', 1990, False]]"
            ]
          },
          "metadata": {},
          "execution_count": 129
        }
      ],
      "source": [
        "A"
      ]
    },
    {
      "cell_type": "code",
      "execution_count": 131,
      "metadata": {
        "id": "dDEl3Vfglto4",
        "colab": {
          "base_uri": "https://localhost:8080/"
        },
        "outputId": "ca6f6fb4-34e5-4c07-9cf3-856a9dc68f7e"
      },
      "outputs": [
        {
          "output_type": "execute_result",
          "data": {
            "text/plain": [
              "[['Jetta Variant', 2003, False],\n",
              " ['Aston Martin DB4', 2006, False],\n",
              " ['Série 3 Cabrio', 2009, False]]"
            ]
          },
          "metadata": {},
          "execution_count": 131
        }
      ],
      "source": [
        "B"
      ]
    },
    {
      "cell_type": "code",
      "execution_count": 132,
      "metadata": {
        "id": "Ot4HLQlelto5",
        "colab": {
          "base_uri": "https://localhost:8080/"
        },
        "outputId": "7883739a-9119-4168-9bde-df4e2aea0037"
      },
      "outputs": [
        {
          "output_type": "execute_result",
          "data": {
            "text/plain": [
              "[['DS5', 2019, True],\n",
              " ['Palio Weekend', 2012, False],\n",
              " ['A5', 2019, True],\n",
              " ['Dodge Jorney', 2019, False],\n",
              " ['Carens', 2011, False]]"
            ]
          },
          "metadata": {},
          "execution_count": 132
        }
      ],
      "source": [
        "C"
      ]
    },
    {
      "cell_type": "code",
      "execution_count": 136,
      "metadata": {
        "id": "FN26ZBKJlto5",
        "colab": {
          "base_uri": "https://localhost:8080/"
        },
        "outputId": "c9515b73-6b0d-4873-9488-c826003df867"
      },
      "outputs": [
        {
          "output_type": "stream",
          "name": "stdout",
          "text": [
            "[['Passat', 1991, False], ['Crossfox', 1990, False]]\n",
            "[['Jetta Variant', 2003, False], ['Aston Martin DB4', 2006, False], ['Série 3 Cabrio', 2009, False]]\n",
            "[['DS5', 2019, True], ['Palio Weekend', 2012, False], ['A5', 2019, True], ['Dodge Jorney', 2019, False], ['Carens', 2011, False]]\n"
          ]
        }
      ],
      "source": [
        "A, B, C = [], [], []      \n",
        "\n",
        "for lista in dados:                                   # Este outro método\n",
        "  if(lista[1] <=2000):                                # só funciona Python\n",
        "    A.append(lista) \n",
        "  elif(2000 < lista[1] <= 2010):\n",
        "    B.append(lista)\n",
        "  else:\n",
        "    C.append(lista)\n",
        "    \n",
        "print(f'{A}\\n{B}\\n{C}')\n"
      ]
    },
    {
      "cell_type": "markdown",
      "metadata": {
        "id": "aRfQfubxlto6"
      },
      "source": [
        "# <font color=green> 5. NUMPY BÁSICO\n",
        "---\n",
        "\n",
        "Numpy é a abreviação de Numerical Python e é um dos pacotes mais importantes para processamento numérico em Python. Numpy oferece a base para a maioria dos pacotes de aplicações científicas que utilizem dados numéricos em Python (estruturas de dados e algoritmos). Pode-se destacar os seguintes recursos que o pacote Numpy contém:\n",
        "\n",
        "- Um poderoso objeto array multidimensional;\n",
        "- Funções matemáticas sofisticadas para operações com arrays sem a necessidade de utilização de laços *for*;\n",
        "- Recursos de algebra linear e geração de números aleatórios\n",
        "\n",
        "Além de seus óbvios usos científicos, o pacote NumPy também é muito utilizado em análise de dados como um eficiente contêiner multidimensional de dados genéricos para transporte entre diversos algoritmos e bibliotecas em Python.\n",
        "\n",
        "**Versão:** 1.16.5\n",
        "\n",
        "**Instalação:** https://scipy.org/install.html\n",
        "\n",
        "**Documentação:** https://numpy.org/doc/1.16/"
      ]
    },
    {
      "cell_type": "markdown",
      "metadata": {
        "id": "RtG2-g1ultme"
      },
      "source": [
        "### Pacotes\n",
        "\n",
        "Existem diversos pacotes Python disponíveis para download na internet. Cada pacote tem como objetivo a solução de determinado tipo de problema e para isso são desenvolvidos novos tipos, funções e métodos.\n",
        "\n",
        "Alguns pacotes são bastante utilizados em um contexto de ciência de dados como por exemplo:\n",
        "\n",
        "- Numpy\n",
        "- Pandas\n",
        "- Scikit-learn\n",
        "- Matplotlib\n",
        "\n",
        "Alguns pacotes não são distribuídos com a instalação default do Python. Neste caso devemos instalar os pacotes que necessitamos em nosso sistema para podermos utilizar suas funcionalidades."
      ]
    },
    {
      "cell_type": "markdown",
      "metadata": {
        "id": "b8prsQjmltme"
      },
      "source": [
        "### Importando todo o pacote"
      ]
    },
    {
      "cell_type": "code",
      "execution_count": null,
      "metadata": {
        "id": "lP0tqXHLltmf"
      },
      "outputs": [],
      "source": [
        "import numpy"
      ]
    },
    {
      "cell_type": "markdown",
      "metadata": {
        "id": "MWEVAorKD5AT"
      },
      "source": [
        "https://numpy.org/doc/1.16/reference/generated/numpy.arange.html"
      ]
    },
    {
      "cell_type": "code",
      "execution_count": null,
      "metadata": {
        "id": "Y40UP3K7ltmg",
        "colab": {
          "base_uri": "https://localhost:8080/"
        },
        "outputId": "148eb317-3738-4ae4-d271-7b63789b8d17"
      },
      "outputs": [
        {
          "output_type": "execute_result",
          "data": {
            "text/plain": [
              "array([0, 1, 2, 3, 4, 5, 6, 7, 8, 9])"
            ]
          },
          "metadata": {},
          "execution_count": 156
        }
      ],
      "source": [
        "numpy.arange(10)"
      ]
    },
    {
      "cell_type": "markdown",
      "metadata": {
        "id": "84-53f4Lltmh"
      },
      "source": [
        "### Importando todo o pacote e atribuindo um novo nome "
      ]
    },
    {
      "cell_type": "code",
      "execution_count": null,
      "metadata": {
        "id": "CzESWck7ltmi"
      },
      "outputs": [],
      "source": [
        "import numpy as np"
      ]
    },
    {
      "cell_type": "code",
      "execution_count": null,
      "metadata": {
        "id": "RC7Dr5Viltmj",
        "colab": {
          "base_uri": "https://localhost:8080/"
        },
        "outputId": "6dcffb7c-4e10-4b13-e9ce-c12d77778321"
      },
      "outputs": [
        {
          "output_type": "execute_result",
          "data": {
            "text/plain": [
              "array([0, 1, 2, 3, 4, 5, 6, 7, 8, 9])"
            ]
          },
          "metadata": {},
          "execution_count": 158
        }
      ],
      "source": [
        "np.arange(10)"
      ]
    },
    {
      "cell_type": "markdown",
      "metadata": {
        "id": "WWawttSpltml"
      },
      "source": [
        "### Importando parte do pacote"
      ]
    },
    {
      "cell_type": "code",
      "execution_count": null,
      "metadata": {
        "id": "8kTeo3Ltltmo"
      },
      "outputs": [],
      "source": [
        "from numpy import arange"
      ]
    },
    {
      "cell_type": "code",
      "execution_count": null,
      "metadata": {
        "id": "4LPnpiEwltmt",
        "colab": {
          "base_uri": "https://localhost:8080/"
        },
        "outputId": "db75684d-36cd-4d20-d39e-7ac50ae2444f"
      },
      "outputs": [
        {
          "output_type": "execute_result",
          "data": {
            "text/plain": [
              "array([0, 1, 2, 3, 4, 5, 6, 7, 8, 9])"
            ]
          },
          "metadata": {},
          "execution_count": 160
        }
      ],
      "source": [
        "arange(10)"
      ]
    },
    {
      "cell_type": "markdown",
      "metadata": {
        "id": "VSmffnCklto6"
      },
      "source": [
        "# 5.1 Criando arrays Numpy"
      ]
    },
    {
      "cell_type": "code",
      "execution_count": null,
      "metadata": {
        "id": "Wqpin_-Plto8"
      },
      "outputs": [],
      "source": [
        "import numpy as np\n"
      ]
    },
    {
      "cell_type": "markdown",
      "metadata": {
        "id": "ock4Ku-Ulto8"
      },
      "source": [
        "### A partir de listas\n",
        "\n",
        "https://numpy.org/doc/1.16/user/basics.creation.html"
      ]
    },
    {
      "cell_type": "code",
      "execution_count": null,
      "metadata": {
        "id": "82H-09CQlto9"
      },
      "outputs": [],
      "source": [
        "km = np.array([1000, 2300, 4987, 1500])"
      ]
    },
    {
      "cell_type": "code",
      "execution_count": null,
      "metadata": {
        "id": "8VYE3JSYlto9",
        "colab": {
          "base_uri": "https://localhost:8080/"
        },
        "outputId": "92be01ce-d9a7-45cd-9ad2-84b5eb91a1a6"
      },
      "outputs": [
        {
          "output_type": "execute_result",
          "data": {
            "text/plain": [
              "array([1000, 2300, 4987, 1500])"
            ]
          },
          "metadata": {},
          "execution_count": 163
        }
      ],
      "source": [
        "km"
      ]
    },
    {
      "cell_type": "code",
      "execution_count": null,
      "metadata": {
        "id": "OBsa5Cfplto-",
        "colab": {
          "base_uri": "https://localhost:8080/"
        },
        "outputId": "ae9fa68f-b6f5-4a7b-e5c6-ae7bd3ae0265"
      },
      "outputs": [
        {
          "output_type": "execute_result",
          "data": {
            "text/plain": [
              "numpy.ndarray"
            ]
          },
          "metadata": {},
          "execution_count": 164
        }
      ],
      "source": [
        "type(km)"
      ]
    },
    {
      "cell_type": "markdown",
      "metadata": {
        "id": "RfQ3jJSAlto-"
      },
      "source": [
        "https://numpy.org/doc/1.16/user/basics.types.html"
      ]
    },
    {
      "cell_type": "code",
      "execution_count": null,
      "metadata": {
        "id": "6yLpkJcAlto-",
        "colab": {
          "base_uri": "https://localhost:8080/"
        },
        "outputId": "fbbf0231-544c-41f7-8cb4-8fc6d39ed4a1"
      },
      "outputs": [
        {
          "output_type": "execute_result",
          "data": {
            "text/plain": [
              "dtype('int64')"
            ]
          },
          "metadata": {},
          "execution_count": 165
        }
      ],
      "source": [
        "km.dtype"
      ]
    },
    {
      "cell_type": "markdown",
      "metadata": {
        "id": "1pFx86QPlto_"
      },
      "source": [
        "### A partir de dados externos\n",
        "\n",
        "https://numpy.org/doc/1.16/reference/generated/numpy.loadtxt.html"
      ]
    },
    {
      "cell_type": "code",
      "execution_count": null,
      "metadata": {
        "id": "26pQLNgrlto_"
      },
      "outputs": [],
      "source": [
        "km = np.loadtxt(fname = 'carros-km.txt', dtype = int)"
      ]
    },
    {
      "cell_type": "code",
      "execution_count": null,
      "metadata": {
        "id": "FoP42bdpltpA",
        "scrolled": true,
        "colab": {
          "base_uri": "https://localhost:8080/"
        },
        "outputId": "3aa7847a-464b-413c-83d7-1b6b475071e8"
      },
      "outputs": [
        {
          "output_type": "execute_result",
          "data": {
            "text/plain": [
              "array([ 44410,   5712,  37123,      0,  25757,  10728,      0,  77599,\n",
              "        99197,  37978,  12859,   8052,  89773,      0,  41457, 115607,\n",
              "        46449,      0,  37086,  15173, 101193,      0,  98079, 102959,\n",
              "            0,      0,   5795,      0,  58848,  94381,  30163,  53332,\n",
              "        17720,  33808,  90684,  43975,      0,      0,   5526,      0,\n",
              "        93415,  40762,      0,  86302,      0,   9755,  69945,   2395,\n",
              "            0,  80349,  85554,  50496,  67716,  93947,  35345,  81007,\n",
              "       119513,      0,      0,      0,      0,      0, 118895,  48509,\n",
              "       100912,  95649,      0,  90495,      0,  29132,  23802,  84992,\n",
              "        54395,  26731,  44329, 118236, 113808,    610,      0,      0,\n",
              "        12887,  79607,  90924,  42733,      0,      0, 117714, 113885,\n",
              "            0,  30511,  74867, 119760,   8356,  64247,  88661,   4539,\n",
              "       110116,  33215,  92001,      0,  81708,  70641,      0,  91277,\n",
              "        26544,  52596,  47503,  89056,  28834, 110564,  56638,  17357,\n",
              "        74015,  15196,      0,  10821,      0,      0,   9595,  99052,\n",
              "        52389, 119945,  96005,  31639,      0,  80187,      0,  58212,\n",
              "        61672,  32017,      0,  56944,      0,  86519,   4821, 101025,\n",
              "        30705,      0,  32555, 103389,      0,  55289,      0,      0,\n",
              "       115930,  66437,  96800,  14237,  19896, 113045, 114942,   3173,\n",
              "        83611,  25356,  88634,   2314,   2627,  52034,      0,      0,\n",
              "        79577, 108201,  76453,  57683,  96610, 109001,  26212,  45971,\n",
              "        49182,  49907,  38620,  60996,  73914, 107392,   9146,      0,\n",
              "        17924,      0, 116949,  20476,  52804,   8849,  91724,  32056,\n",
              "        74886,      0,      0,  52189,  83559,      0,  20328,      0,\n",
              "        75577,  33659, 104341,  25510,  18965,  87161,   6652,  55738,\n",
              "            0,      0,      0,  64320,      0,  68678,  71697,      0,\n",
              "        34783,  33772,  85127,  13606,  35647,  95128,  14046,  41194,\n",
              "            0,  96100, 103900,  43814,  24638,      0, 110966,  15987,\n",
              "        53369,  10077,  71544,    107,   8394,  41498, 116002, 100858,\n",
              "        67475,   8497,   4420,      0,  58537,      0,      0, 112016,\n",
              "        91840, 112787,      0,      0,   9293,      0,  55083,  48796,\n",
              "            0,  89685,  85384,  98108,  71280,  27505,  29981,  52637,\n",
              "         7685,  50188])"
            ]
          },
          "metadata": {},
          "execution_count": 167
        }
      ],
      "source": [
        "km"
      ]
    },
    {
      "cell_type": "code",
      "execution_count": null,
      "metadata": {
        "id": "MNPjZJbYltpA",
        "colab": {
          "base_uri": "https://localhost:8080/"
        },
        "outputId": "8694e087-9697-47e4-8a21-1e4ed55e0ae3"
      },
      "outputs": [
        {
          "output_type": "execute_result",
          "data": {
            "text/plain": [
              "dtype('int64')"
            ]
          },
          "metadata": {},
          "execution_count": 168
        }
      ],
      "source": [
        "km.dtype"
      ]
    },
    {
      "cell_type": "markdown",
      "metadata": {
        "id": "_wnTg0wJltpB"
      },
      "source": [
        "### Arrays com duas dimensões"
      ]
    },
    {
      "cell_type": "code",
      "execution_count": null,
      "metadata": {
        "id": "Gt1dL27GltpB",
        "scrolled": true,
        "colab": {
          "base_uri": "https://localhost:8080/"
        },
        "outputId": "d36787be-58ba-4e17-c6e8-b10c19929c25"
      },
      "outputs": [
        {
          "output_type": "execute_result",
          "data": {
            "text/plain": [
              "[['Rodas de liga',\n",
              "  'Travas elétricas',\n",
              "  'Piloto automático',\n",
              "  'Bancos de couro',\n",
              "  'Ar condicionado',\n",
              "  'Sensor de estacionamento',\n",
              "  'Sensor crepuscular',\n",
              "  'Sensor de chuva'],\n",
              " ['Central multimídia',\n",
              "  'Teto panorâmico',\n",
              "  'Freios ABS',\n",
              "  '4 X 4',\n",
              "  'Painel digital',\n",
              "  'Piloto automático',\n",
              "  'Bancos de couro',\n",
              "  'Câmera de estacionamento'],\n",
              " ['Piloto automático',\n",
              "  'Controle de estabilidade',\n",
              "  'Sensor crepuscular',\n",
              "  'Freios ABS',\n",
              "  'Câmbio automático',\n",
              "  'Bancos de couro',\n",
              "  'Central multimídia',\n",
              "  'Vidros elétricos']]"
            ]
          },
          "metadata": {},
          "execution_count": 169
        }
      ],
      "source": [
        "dados = [ \n",
        "    ['Rodas de liga', 'Travas elétricas', 'Piloto automático', 'Bancos de couro', 'Ar condicionado', 'Sensor de estacionamento', 'Sensor crepuscular', 'Sensor de chuva'],\n",
        "    ['Central multimídia', 'Teto panorâmico', 'Freios ABS', '4 X 4', 'Painel digital', 'Piloto automático', 'Bancos de couro', 'Câmera de estacionamento'],\n",
        "    ['Piloto automático', 'Controle de estabilidade', 'Sensor crepuscular', 'Freios ABS', 'Câmbio automático', 'Bancos de couro', 'Central multimídia', 'Vidros elétricos']\n",
        "]\n",
        "dados"
      ]
    },
    {
      "cell_type": "code",
      "execution_count": null,
      "metadata": {
        "id": "IlbYeZPkltpC"
      },
      "outputs": [],
      "source": [
        "Acessorios = np.array(dados)"
      ]
    },
    {
      "cell_type": "code",
      "execution_count": null,
      "metadata": {
        "id": "FgjmWozgltpD",
        "scrolled": true,
        "outputId": "1a2ffc52-5837-431e-db54-459f25067ab1",
        "colab": {
          "base_uri": "https://localhost:8080/"
        }
      },
      "outputs": [
        {
          "output_type": "execute_result",
          "data": {
            "text/plain": [
              "(258,)"
            ]
          },
          "metadata": {},
          "execution_count": 171
        }
      ],
      "source": [
        "km.shape"
      ]
    },
    {
      "cell_type": "code",
      "execution_count": null,
      "metadata": {
        "id": "TDM9HskUltpD",
        "outputId": "07019464-51a4-4527-95cb-7317d86c226e",
        "colab": {
          "base_uri": "https://localhost:8080/"
        }
      },
      "outputs": [
        {
          "output_type": "execute_result",
          "data": {
            "text/plain": [
              "(3, 8)"
            ]
          },
          "metadata": {},
          "execution_count": 172
        }
      ],
      "source": [
        "Acessorios.shape"
      ]
    },
    {
      "cell_type": "code",
      "execution_count": null,
      "metadata": {
        "id": "bBmnzpF5ltpE"
      },
      "outputs": [],
      "source": []
    },
    {
      "cell_type": "markdown",
      "metadata": {
        "id": "cPbkST9pltpE"
      },
      "source": [
        "### Comparando desempenho com listas"
      ]
    },
    {
      "cell_type": "code",
      "execution_count": null,
      "metadata": {
        "id": "tTPC-G4vltpE"
      },
      "outputs": [],
      "source": [
        "np_array = np.arange(1000000)"
      ]
    },
    {
      "cell_type": "code",
      "execution_count": null,
      "metadata": {
        "id": "PIC-ndg9ltpF"
      },
      "outputs": [],
      "source": [
        "py_list = list(range(1000000))"
      ]
    },
    {
      "cell_type": "code",
      "execution_count": null,
      "metadata": {
        "id": "vXy57nk2ltpF",
        "outputId": "3c7eba4a-595f-43a8-e8c6-54c224a4c5d3",
        "colab": {
          "base_uri": "https://localhost:8080/"
        }
      },
      "outputs": [
        {
          "output_type": "stream",
          "name": "stdout",
          "text": [
            "CPU times: user 326 ms, sys: 20.6 ms, total: 346 ms\n",
            "Wall time: 533 ms\n"
          ]
        }
      ],
      "source": [
        "%time for _ in range(100): np_array *= 2                        #mais rápido"
      ]
    },
    {
      "cell_type": "code",
      "execution_count": null,
      "metadata": {
        "id": "I94lVgCRltpG",
        "outputId": "38e6a53f-8a22-4cdc-dd59-ad387100e474",
        "colab": {
          "base_uri": "https://localhost:8080/"
        }
      },
      "outputs": [
        {
          "output_type": "stream",
          "name": "stdout",
          "text": [
            "CPU times: user 9.79 s, sys: 2.23 s, total: 12 s\n",
            "Wall time: 12.2 s\n"
          ]
        }
      ],
      "source": [
        "%time for _ in range(100): py_list = [x * 2 for x in py_list]    #mais demorado"
      ]
    },
    {
      "cell_type": "markdown",
      "metadata": {
        "id": "ul4MuKyTltpG"
      },
      "source": [
        "# 5.2 Operações aritméticas com arrays Numpy"
      ]
    },
    {
      "cell_type": "markdown",
      "metadata": {
        "id": "QwnxO_rYltpH"
      },
      "source": [
        "### Operações entre arrays e constantes"
      ]
    },
    {
      "cell_type": "code",
      "execution_count": null,
      "metadata": {
        "id": "63KVHPK0ltpH"
      },
      "outputs": [],
      "source": [
        "km = [44410., 5712., 37123., 0., 25757.]\n",
        "anos = [2003, 1991, 1990, 2019, 2006]"
      ]
    },
    {
      "cell_type": "code",
      "execution_count": null,
      "metadata": {
        "id": "AryIZaBIltpH"
      },
      "outputs": [],
      "source": [
        "# idade = 2019 - anos"
      ]
    },
    {
      "cell_type": "code",
      "execution_count": null,
      "metadata": {
        "id": "s8GvEk4HltpI"
      },
      "outputs": [],
      "source": [
        "km = np.array([44410., 5712., 37123., 0., 25757.])\n",
        "anos = np.array([2003, 1991, 1990, 2019, 2006])"
      ]
    },
    {
      "cell_type": "code",
      "execution_count": null,
      "metadata": {
        "id": "aUnYV7OultpI"
      },
      "outputs": [],
      "source": [
        "idade = 2019 - anos\n"
      ]
    },
    {
      "cell_type": "code",
      "execution_count": null,
      "metadata": {
        "id": "vg5yZ9IpltpJ",
        "outputId": "c9373321-0aa9-457b-abaa-a30603e88a55",
        "colab": {
          "base_uri": "https://localhost:8080/"
        }
      },
      "outputs": [
        {
          "output_type": "execute_result",
          "data": {
            "text/plain": [
              "array([16, 28, 29,  0, 13])"
            ]
          },
          "metadata": {},
          "execution_count": 181
        }
      ],
      "source": [
        "idade"
      ]
    },
    {
      "cell_type": "markdown",
      "metadata": {
        "id": "qn1PUsM9ltpJ"
      },
      "source": [
        "### Operações entre arrays"
      ]
    },
    {
      "cell_type": "code",
      "execution_count": null,
      "metadata": {
        "id": "gU_d5aZkltpJ",
        "outputId": "b92b0f97-d99c-42b4-cb0d-49a3c106036e",
        "colab": {
          "base_uri": "https://localhost:8080/"
        }
      },
      "outputs": [
        {
          "output_type": "stream",
          "name": "stderr",
          "text": [
            "/usr/local/lib/python3.7/dist-packages/ipykernel_launcher.py:1: RuntimeWarning: invalid value encountered in true_divide\n",
            "  \"\"\"Entry point for launching an IPython kernel.\n"
          ]
        }
      ],
      "source": [
        "km_media = km / idade"
      ]
    },
    {
      "cell_type": "code",
      "execution_count": null,
      "metadata": {
        "id": "U9DXntUEltpK",
        "outputId": "5cd43204-0b3f-405d-de4c-1310f10cc9ff",
        "colab": {
          "base_uri": "https://localhost:8080/"
        }
      },
      "outputs": [
        {
          "output_type": "execute_result",
          "data": {
            "text/plain": [
              "array([2775.625     ,  204.        , 1280.10344828,           nan,\n",
              "       1981.30769231])"
            ]
          },
          "metadata": {},
          "execution_count": 183
        }
      ],
      "source": [
        "km_media"
      ]
    },
    {
      "cell_type": "code",
      "execution_count": null,
      "metadata": {
        "id": "n0rPxgY1ltpL",
        "colab": {
          "base_uri": "https://localhost:8080/"
        },
        "outputId": "3d30e8ce-0dc2-4e55-aaf9-4e043ea35470"
      },
      "outputs": [
        {
          "output_type": "execute_result",
          "data": {
            "text/plain": [
              "2775.625"
            ]
          },
          "metadata": {},
          "execution_count": 184
        }
      ],
      "source": [
        "44410 / (2019 - 2003)"
      ]
    },
    {
      "cell_type": "code",
      "source": [
        "5712 / (2019 - 1991)"
      ],
      "metadata": {
        "colab": {
          "base_uri": "https://localhost:8080/"
        },
        "id": "i4DQVgKsGfK6",
        "outputId": "ff5c47fd-d1ed-4563-dad9-15dc20d4fa52"
      },
      "execution_count": null,
      "outputs": [
        {
          "output_type": "execute_result",
          "data": {
            "text/plain": [
              "204.0"
            ]
          },
          "metadata": {},
          "execution_count": 185
        }
      ]
    },
    {
      "cell_type": "markdown",
      "metadata": {
        "id": "o4-gsGICltpN"
      },
      "source": [
        "### Operações com arrays de duas dimensões"
      ]
    },
    {
      "cell_type": "code",
      "execution_count": null,
      "metadata": {
        "id": "VT71Pbb3ltpN"
      },
      "outputs": [],
      "source": [
        "dados = np.array([km, anos])"
      ]
    },
    {
      "cell_type": "code",
      "execution_count": null,
      "metadata": {
        "id": "bgDe00q8ltpO",
        "colab": {
          "base_uri": "https://localhost:8080/"
        },
        "outputId": "0fd09992-14aa-450e-efca-d8c4d084f9e2"
      },
      "outputs": [
        {
          "output_type": "execute_result",
          "data": {
            "text/plain": [
              "array([[44410.,  5712., 37123.,     0., 25757.],\n",
              "       [ 2003.,  1991.,  1990.,  2019.,  2006.]])"
            ]
          },
          "metadata": {},
          "execution_count": 187
        }
      ],
      "source": [
        "dados"
      ]
    },
    {
      "cell_type": "code",
      "execution_count": null,
      "metadata": {
        "id": "jIQU2ugKltpP",
        "colab": {
          "base_uri": "https://localhost:8080/"
        },
        "outputId": "815c8660-c424-4658-8404-2af39efc10e7"
      },
      "outputs": [
        {
          "output_type": "execute_result",
          "data": {
            "text/plain": [
              "(2, 5)"
            ]
          },
          "metadata": {},
          "execution_count": 188
        }
      ],
      "source": [
        "dados.shape    "
      ]
    },
    {
      "cell_type": "markdown",
      "metadata": {
        "id": "dsgz-E5ZltpP"
      },
      "source": [
        "![1410-img01.png](https://caelum-online-public.s3.amazonaws.com/1410-pythondatascience/01/1410-img01.png)"
      ]
    },
    {
      "cell_type": "code",
      "execution_count": null,
      "metadata": {
        "id": "imANn6HultpQ",
        "colab": {
          "base_uri": "https://localhost:8080/"
        },
        "outputId": "57abab39-4b1e-421e-e116-a553a249e91d"
      },
      "outputs": [
        {
          "output_type": "execute_result",
          "data": {
            "text/plain": [
              "array([44410.,  5712., 37123.,     0., 25757.])"
            ]
          },
          "metadata": {},
          "execution_count": 189
        }
      ],
      "source": [
        "dados[0]"
      ]
    },
    {
      "cell_type": "code",
      "execution_count": null,
      "metadata": {
        "id": "Nkp9ljkvltpQ",
        "colab": {
          "base_uri": "https://localhost:8080/"
        },
        "outputId": "f0013604-0fbb-40e5-9201-97029dcfe7a6"
      },
      "outputs": [
        {
          "output_type": "execute_result",
          "data": {
            "text/plain": [
              "array([2003., 1991., 1990., 2019., 2006.])"
            ]
          },
          "metadata": {},
          "execution_count": 190
        }
      ],
      "source": [
        "dados[1]"
      ]
    },
    {
      "cell_type": "code",
      "execution_count": null,
      "metadata": {
        "id": "njJ2z3HJltpR",
        "colab": {
          "base_uri": "https://localhost:8080/"
        },
        "outputId": "279f037b-8aa4-42dd-8823-6b81148519f5"
      },
      "outputs": [
        {
          "output_type": "stream",
          "name": "stderr",
          "text": [
            "/usr/local/lib/python3.7/dist-packages/ipykernel_launcher.py:1: RuntimeWarning: invalid value encountered in true_divide\n",
            "  \"\"\"Entry point for launching an IPython kernel.\n"
          ]
        }
      ],
      "source": [
        "km_media = dados[0] / (2019 - dados[1])\n"
      ]
    },
    {
      "cell_type": "code",
      "source": [
        "km_media\n"
      ],
      "metadata": {
        "colab": {
          "base_uri": "https://localhost:8080/"
        },
        "id": "JKeO0SfNH3By",
        "outputId": "c7b0daf8-8476-42ef-b8bc-61c6807f9ea8"
      },
      "execution_count": null,
      "outputs": [
        {
          "output_type": "execute_result",
          "data": {
            "text/plain": [
              "array([2775.625     ,  204.        , 1280.10344828,           nan,\n",
              "       1981.30769231])"
            ]
          },
          "metadata": {},
          "execution_count": 192
        }
      ]
    },
    {
      "cell_type": "markdown",
      "metadata": {
        "id": "4CAwtS0-ltpR"
      },
      "source": [
        "# 5.3 Seleções com arrays Numpy"
      ]
    },
    {
      "cell_type": "markdown",
      "metadata": {
        "id": "QDAT1vODltpS"
      },
      "source": [
        "![1410-img01.png](https://caelum-online-public.s3.amazonaws.com/1410-pythondatascience/01/1410-img01.png)"
      ]
    },
    {
      "cell_type": "code",
      "execution_count": null,
      "metadata": {
        "id": "nZpPGS2TltpS",
        "colab": {
          "base_uri": "https://localhost:8080/"
        },
        "outputId": "a324ad93-92d7-442e-ac31-c8b0d1535c85"
      },
      "outputs": [
        {
          "output_type": "execute_result",
          "data": {
            "text/plain": [
              "array([[44410.,  5712., 37123.,     0., 25757.],\n",
              "       [ 2003.,  1991.,  1990.,  2019.,  2006.]])"
            ]
          },
          "metadata": {},
          "execution_count": 193
        }
      ],
      "source": [
        "dados"
      ]
    },
    {
      "cell_type": "markdown",
      "metadata": {
        "id": "b--BIPcOltpT"
      },
      "source": [
        "![1410-img02.png](https://caelum-online-public.s3.amazonaws.com/1410-pythondatascience/01/1410-img02.png)"
      ]
    },
    {
      "cell_type": "markdown",
      "metadata": {
        "id": "86-hOHa7ltpT"
      },
      "source": [
        "### Indexação \n",
        "\n",
        "<font color=red>**Observação:**</font> A indexação tem origem no zero."
      ]
    },
    {
      "cell_type": "code",
      "execution_count": null,
      "metadata": {
        "id": "mr0Q_X0JltpT",
        "colab": {
          "base_uri": "https://localhost:8080/"
        },
        "outputId": "78dda4c2-42a4-4d23-81aa-99b2fbe135a4"
      },
      "outputs": [
        {
          "output_type": "execute_result",
          "data": {
            "text/plain": [
              "array([0, 1, 2, 3, 4, 5, 6, 7, 8, 9])"
            ]
          },
          "metadata": {},
          "execution_count": 194
        }
      ],
      "source": [
        "contador = np.arange(10)                     #sempre conta o 0\n",
        "contador"
      ]
    },
    {
      "cell_type": "code",
      "execution_count": null,
      "metadata": {
        "id": "VxiR_IgdltpU",
        "colab": {
          "base_uri": "https://localhost:8080/"
        },
        "outputId": "e0a27e8e-9570-43ce-dc45-5c945fa9a68e"
      },
      "outputs": [
        {
          "output_type": "execute_result",
          "data": {
            "text/plain": [
              "0"
            ]
          },
          "metadata": {},
          "execution_count": 195
        }
      ],
      "source": [
        "contador[0]"
      ]
    },
    {
      "cell_type": "code",
      "execution_count": null,
      "metadata": {
        "id": "xGDomIyAltpU",
        "colab": {
          "base_uri": "https://localhost:8080/"
        },
        "outputId": "50c6dd64-48fd-4d1c-b6b6-9bc4faac1855"
      },
      "outputs": [
        {
          "output_type": "execute_result",
          "data": {
            "text/plain": [
              "5"
            ]
          },
          "metadata": {},
          "execution_count": 196
        }
      ],
      "source": [
        "item = 6\n",
        "index = item - 1\n",
        "contador[index]"
      ]
    },
    {
      "cell_type": "code",
      "execution_count": null,
      "metadata": {
        "id": "QEO5Za5PltpV",
        "colab": {
          "base_uri": "https://localhost:8080/"
        },
        "outputId": "069acdd6-b1dc-4066-f917-8dee66e6dfbd"
      },
      "outputs": [
        {
          "output_type": "execute_result",
          "data": {
            "text/plain": [
              "9"
            ]
          },
          "metadata": {},
          "execution_count": 197
        }
      ],
      "source": [
        "contador[-1]"
      ]
    },
    {
      "cell_type": "code",
      "execution_count": null,
      "metadata": {
        "id": "rvkeMK8KltpV",
        "colab": {
          "base_uri": "https://localhost:8080/"
        },
        "outputId": "a38f37c7-8994-4041-ec63-5d051632f9ae"
      },
      "outputs": [
        {
          "output_type": "execute_result",
          "data": {
            "text/plain": [
              "array([44410.,  5712., 37123.,     0., 25757.])"
            ]
          },
          "metadata": {},
          "execution_count": 198
        }
      ],
      "source": [
        "dados[0]"
      ]
    },
    {
      "cell_type": "code",
      "execution_count": null,
      "metadata": {
        "id": "X8c-lJRJltpW",
        "colab": {
          "base_uri": "https://localhost:8080/"
        },
        "outputId": "54f006e3-8345-4aed-e6c2-54ef3ab08c78"
      },
      "outputs": [
        {
          "output_type": "execute_result",
          "data": {
            "text/plain": [
              "array([2003., 1991., 1990., 2019., 2006.])"
            ]
          },
          "metadata": {},
          "execution_count": 199
        }
      ],
      "source": [
        "dados[1]"
      ]
    },
    {
      "cell_type": "markdown",
      "metadata": {
        "id": "fCWUSI1zltpZ"
      },
      "source": [
        "## <font color=green>**Dica:**</font>\n",
        "### *ndarray[ linha ][ coluna ]* ou *ndarray[ linha, coluna ]*"
      ]
    },
    {
      "cell_type": "code",
      "execution_count": null,
      "metadata": {
        "id": "Nxc3uY-ZltpZ",
        "colab": {
          "base_uri": "https://localhost:8080/"
        },
        "outputId": "2460e1de-443b-4878-b310-1b714d4e3a6e"
      },
      "outputs": [
        {
          "output_type": "execute_result",
          "data": {
            "text/plain": [
              "1990.0"
            ]
          },
          "metadata": {},
          "execution_count": 200
        }
      ],
      "source": [
        "dados[1][2]"
      ]
    },
    {
      "cell_type": "code",
      "execution_count": null,
      "metadata": {
        "id": "xp8ByjualtpZ",
        "colab": {
          "base_uri": "https://localhost:8080/"
        },
        "outputId": "e6d84e67-6adf-4868-afdf-b0812104d1a3"
      },
      "outputs": [
        {
          "output_type": "execute_result",
          "data": {
            "text/plain": [
              "1990.0"
            ]
          },
          "metadata": {},
          "execution_count": 201
        }
      ],
      "source": [
        "dados[1, 2]"
      ]
    },
    {
      "cell_type": "markdown",
      "metadata": {
        "id": "7osmTUC4ltpa"
      },
      "source": [
        " ### Fatiamentos\n",
        " \n",
        "A sintaxe para realizar fatiamento em um array Numpy é $i : j : k$ onde $i$ é o índice inicial, $j$ é o índice de parada, e $k$ é o indicador de passo ($k\\neq0$)\n",
        " \n",
        "<font color=red>**Observação:**</font> Nos fatiamentos (*slices*) o item com índice i é **incluído** e o item com índice j **não é incluído** no resultado."
      ]
    },
    {
      "cell_type": "markdown",
      "metadata": {
        "id": "HEx4TbNlltpa"
      },
      "source": [
        "![1410-img01.png](https://caelum-online-public.s3.amazonaws.com/1410-pythondatascience/01/1410-img01.png)"
      ]
    },
    {
      "cell_type": "code",
      "execution_count": null,
      "metadata": {
        "id": "tlaD1SENltpb",
        "colab": {
          "base_uri": "https://localhost:8080/"
        },
        "outputId": "6b040903-4f06-4518-fd3e-74e5b5684c81"
      },
      "outputs": [
        {
          "output_type": "execute_result",
          "data": {
            "text/plain": [
              "array([0, 1, 2, 3, 4, 5, 6, 7, 8, 9])"
            ]
          },
          "metadata": {},
          "execution_count": 202
        }
      ],
      "source": [
        "contador = np.arange(10)                   \n",
        "contador"
      ]
    },
    {
      "cell_type": "code",
      "execution_count": null,
      "metadata": {
        "id": "vXLIO1cVltpc",
        "colab": {
          "base_uri": "https://localhost:8080/"
        },
        "outputId": "cbcc7b20-7430-4650-8f84-c983f8be3b66"
      },
      "outputs": [
        {
          "output_type": "execute_result",
          "data": {
            "text/plain": [
              "array([1, 2, 3])"
            ]
          },
          "metadata": {},
          "execution_count": 203
        }
      ],
      "source": [
        "contador[1:4]"
      ]
    },
    {
      "cell_type": "code",
      "execution_count": null,
      "metadata": {
        "id": "kYLgsQcHltpc",
        "colab": {
          "base_uri": "https://localhost:8080/"
        },
        "outputId": "05d32ab1-7be8-45ad-bf54-135fd33363a1"
      },
      "outputs": [
        {
          "output_type": "execute_result",
          "data": {
            "text/plain": [
              "array([1, 3, 5, 7])"
            ]
          },
          "metadata": {},
          "execution_count": 204
        }
      ],
      "source": [
        "contador[1:8:2]\n"
      ]
    },
    {
      "cell_type": "code",
      "execution_count": null,
      "metadata": {
        "id": "H2MJpIasltpd",
        "colab": {
          "base_uri": "https://localhost:8080/"
        },
        "outputId": "47217e0c-16c1-4820-da28-ae938b7cd15b"
      },
      "outputs": [
        {
          "output_type": "execute_result",
          "data": {
            "text/plain": [
              "array([0, 2, 4, 6, 8])"
            ]
          },
          "metadata": {},
          "execution_count": 205
        }
      ],
      "source": [
        "contador[::2]"
      ]
    },
    {
      "cell_type": "code",
      "execution_count": null,
      "metadata": {
        "id": "YVzf4fNCltpe",
        "colab": {
          "base_uri": "https://localhost:8080/"
        },
        "outputId": "0da1b102-7ddd-469e-f1e7-4d755a6ccd95"
      },
      "outputs": [
        {
          "output_type": "execute_result",
          "data": {
            "text/plain": [
              "array([1, 3, 5, 7, 9])"
            ]
          },
          "metadata": {},
          "execution_count": 206
        }
      ],
      "source": [
        "contador[1::2]     #pega ímpar"
      ]
    },
    {
      "cell_type": "code",
      "execution_count": null,
      "metadata": {
        "id": "bPyQsUFPltpf",
        "colab": {
          "base_uri": "https://localhost:8080/"
        },
        "outputId": "91e7dd99-f7a1-41b7-ed72-cbc1424a20e3"
      },
      "outputs": [
        {
          "output_type": "execute_result",
          "data": {
            "text/plain": [
              "array([[44410.,  5712., 37123.,     0., 25757.],\n",
              "       [ 2003.,  1991.,  1990.,  2019.,  2006.]])"
            ]
          },
          "metadata": {},
          "execution_count": 207
        }
      ],
      "source": [
        "dados"
      ]
    },
    {
      "cell_type": "code",
      "execution_count": null,
      "metadata": {
        "id": "IRxfixG-ltpg",
        "colab": {
          "base_uri": "https://localhost:8080/"
        },
        "outputId": "0ad748a5-7c24-4f25-a0b1-87ad8e7d8cd1"
      },
      "outputs": [
        {
          "output_type": "execute_result",
          "data": {
            "text/plain": [
              "array([[ 5712., 37123.,     0.],\n",
              "       [ 1991.,  1990.,  2019.]])"
            ]
          },
          "metadata": {},
          "execution_count": 208
        }
      ],
      "source": [
        "dados[:, 1:4]"
      ]
    },
    {
      "cell_type": "code",
      "execution_count": null,
      "metadata": {
        "id": "wfoJ84haltph",
        "colab": {
          "base_uri": "https://localhost:8080/"
        },
        "outputId": "543d99ea-3fc2-43fb-8f30-019105914983"
      },
      "outputs": [
        {
          "output_type": "execute_result",
          "data": {
            "text/plain": [
              "array([[ 5712., 37123.],\n",
              "       [ 1991.,  1990.]])"
            ]
          },
          "metadata": {},
          "execution_count": 209
        }
      ],
      "source": [
        "dados[:, 1:3]"
      ]
    },
    {
      "cell_type": "code",
      "execution_count": null,
      "metadata": {
        "id": "UeejSXUAltph",
        "colab": {
          "base_uri": "https://localhost:8080/"
        },
        "outputId": "0804794b-46e6-4381-cce1-23c9f6f6c05e"
      },
      "outputs": [
        {
          "output_type": "execute_result",
          "data": {
            "text/plain": [
              "array([ 204.        , 1280.10344828])"
            ]
          },
          "metadata": {},
          "execution_count": 210
        }
      ],
      "source": [
        "dados[:, 1:3][0] / (2019 - dados[:, 1:3][1])\n"
      ]
    },
    {
      "cell_type": "code",
      "source": [
        "dados[0] / (2019)"
      ],
      "metadata": {
        "id": "O1TqakdaQSAH",
        "colab": {
          "base_uri": "https://localhost:8080/"
        },
        "outputId": "9a64316a-d73c-4da9-a49a-23835fb44ae7"
      },
      "execution_count": null,
      "outputs": [
        {
          "output_type": "execute_result",
          "data": {
            "text/plain": [
              "array([21.99603764,  2.82912333, 18.38682516,  0.        , 12.7573056 ])"
            ]
          },
          "metadata": {},
          "execution_count": 211
        }
      ]
    },
    {
      "cell_type": "markdown",
      "metadata": {
        "id": "-fW4EXIqltpi"
      },
      "source": [
        "### Indexação com array booleano\n",
        "\n",
        "<font color=red>**Observação:**</font> Seleciona um grupo de linhas e colunas segundo os rótulos ou um array booleano."
      ]
    },
    {
      "cell_type": "code",
      "execution_count": null,
      "metadata": {
        "id": "MgmH-rCSltpi",
        "colab": {
          "base_uri": "https://localhost:8080/"
        },
        "outputId": "e250f43d-e3fe-427c-bdd6-35df48116917"
      },
      "outputs": [
        {
          "output_type": "execute_result",
          "data": {
            "text/plain": [
              "array([0, 1, 2, 3, 4, 5, 6, 7, 8, 9])"
            ]
          },
          "metadata": {},
          "execution_count": 214
        }
      ],
      "source": [
        "contador = np.arange(10)\n",
        "contador"
      ]
    },
    {
      "cell_type": "code",
      "execution_count": null,
      "metadata": {
        "id": "HN1i-BlLltpj",
        "colab": {
          "base_uri": "https://localhost:8080/"
        },
        "outputId": "008d1951-ca7e-4d80-c871-8e88fbb42e07"
      },
      "outputs": [
        {
          "output_type": "execute_result",
          "data": {
            "text/plain": [
              "array([False, False, False, False, False, False,  True,  True,  True,\n",
              "        True])"
            ]
          },
          "metadata": {},
          "execution_count": 215
        }
      ],
      "source": [
        "contador > 5"
      ]
    },
    {
      "cell_type": "code",
      "execution_count": null,
      "metadata": {
        "id": "iXJa9tL4ltpj",
        "colab": {
          "base_uri": "https://localhost:8080/"
        },
        "outputId": "c4f20b98-e938-4be3-d116-3f5cb5e92701"
      },
      "outputs": [
        {
          "output_type": "execute_result",
          "data": {
            "text/plain": [
              "array([6, 7, 8, 9])"
            ]
          },
          "metadata": {},
          "execution_count": 216
        }
      ],
      "source": [
        "contador[contador > 5]"
      ]
    },
    {
      "cell_type": "code",
      "execution_count": null,
      "metadata": {
        "id": "54gH6X5eltpk",
        "colab": {
          "base_uri": "https://localhost:8080/"
        },
        "outputId": "d7dd93eb-dbb3-4aa3-ae2b-0e5f4f16d32a"
      },
      "outputs": [
        {
          "output_type": "execute_result",
          "data": {
            "text/plain": [
              "array([6, 7, 8, 9])"
            ]
          },
          "metadata": {},
          "execution_count": 217
        }
      ],
      "source": [
        "contador[[False, False, False, False, False, False,  True,  True,  True,\n",
        "        True]]"
      ]
    },
    {
      "cell_type": "code",
      "execution_count": null,
      "metadata": {
        "id": "F3z6zMELltpk",
        "colab": {
          "base_uri": "https://localhost:8080/"
        },
        "outputId": "3eaad5b5-e44d-4a34-8713-8bc6a3aba711"
      },
      "outputs": [
        {
          "output_type": "execute_result",
          "data": {
            "text/plain": [
              "array([ True, False, False,  True,  True])"
            ]
          },
          "metadata": {},
          "execution_count": 218
        }
      ],
      "source": [
        "dados[1] > 2000"
      ]
    },
    {
      "cell_type": "code",
      "execution_count": null,
      "metadata": {
        "id": "pk8A68z1ltpl",
        "colab": {
          "base_uri": "https://localhost:8080/"
        },
        "outputId": "fa8dd02c-ff74-4310-e073-fa1ec5a2b7ce"
      },
      "outputs": [
        {
          "output_type": "execute_result",
          "data": {
            "text/plain": [
              "array([[44410.,     0., 25757.],\n",
              "       [ 2003.,  2019.,  2006.]])"
            ]
          },
          "metadata": {},
          "execution_count": 219
        }
      ],
      "source": [
        "dados[:, dados[1] > 2000]"
      ]
    },
    {
      "cell_type": "code",
      "execution_count": null,
      "metadata": {
        "id": "WUVMN29_ltpm"
      },
      "outputs": [],
      "source": []
    },
    {
      "cell_type": "markdown",
      "metadata": {
        "id": "Acw1DffHltpn"
      },
      "source": [
        "# 5.4 Atributos e métodos de arrays Numpy"
      ]
    },
    {
      "cell_type": "markdown",
      "metadata": {
        "id": "RBnSne6Eltpo"
      },
      "source": [
        "### Atributos\n",
        "\n",
        "https://numpy.org/doc/1.16/reference/arrays.ndarray.html#array-attributes"
      ]
    },
    {
      "cell_type": "code",
      "execution_count": null,
      "metadata": {
        "id": "stjvD6m8ltpo",
        "colab": {
          "base_uri": "https://localhost:8080/"
        },
        "outputId": "a2e7c6ff-d833-4e08-957f-102fd44cccdc"
      },
      "outputs": [
        {
          "output_type": "execute_result",
          "data": {
            "text/plain": [
              "array([[44410.,  5712., 37123.,     0., 25757.],\n",
              "       [ 2003.,  1991.,  1990.,  2019.,  2006.]])"
            ]
          },
          "metadata": {},
          "execution_count": 220
        }
      ],
      "source": [
        "dados = np.array([[44410., 5712., 37123., 0., 25757.],\n",
        "                  [2003, 1991, 1990, 2019, 2006]])\n",
        "dados"
      ]
    },
    {
      "cell_type": "markdown",
      "metadata": {
        "id": "uKqPxg2Zltpo"
      },
      "source": [
        "## *ndarray.shape*\n",
        "\n",
        "Retorna uma tupla com as dimensões do array."
      ]
    },
    {
      "cell_type": "code",
      "execution_count": null,
      "metadata": {
        "id": "gmaZhF04ltpp",
        "colab": {
          "base_uri": "https://localhost:8080/"
        },
        "outputId": "65b7cd3f-ef44-4a0f-efd9-beb22f549137"
      },
      "outputs": [
        {
          "output_type": "execute_result",
          "data": {
            "text/plain": [
              "(2, 5)"
            ]
          },
          "metadata": {},
          "execution_count": 221
        }
      ],
      "source": [
        "dados.shape"
      ]
    },
    {
      "cell_type": "markdown",
      "metadata": {
        "id": "XaY6oXkmltpp"
      },
      "source": [
        "## *ndarray.ndim*\n",
        "\n",
        "Retorna o número de dimensões do array."
      ]
    },
    {
      "cell_type": "code",
      "execution_count": null,
      "metadata": {
        "id": "inJ4HDjaltpq",
        "colab": {
          "base_uri": "https://localhost:8080/"
        },
        "outputId": "116ed5a8-aac6-4cb7-d8b1-1104c38dcc3e"
      },
      "outputs": [
        {
          "output_type": "execute_result",
          "data": {
            "text/plain": [
              "2"
            ]
          },
          "metadata": {},
          "execution_count": 222
        }
      ],
      "source": [
        "dados.ndim"
      ]
    },
    {
      "cell_type": "markdown",
      "metadata": {
        "id": "ESgVt5xOltpq"
      },
      "source": [
        "## *ndarray.size*\n",
        "\n",
        "Retorna o número de elementos do array."
      ]
    },
    {
      "cell_type": "code",
      "execution_count": null,
      "metadata": {
        "id": "BWr4efoiltpq",
        "colab": {
          "base_uri": "https://localhost:8080/"
        },
        "outputId": "f6331fab-1a46-4788-c6f1-d390f39d7120"
      },
      "outputs": [
        {
          "output_type": "execute_result",
          "data": {
            "text/plain": [
              "10"
            ]
          },
          "metadata": {},
          "execution_count": 223
        }
      ],
      "source": [
        "dados.size"
      ]
    },
    {
      "cell_type": "markdown",
      "metadata": {
        "id": "Ox8JlBM3ltpr"
      },
      "source": [
        "## *ndarray.dtype*\n",
        "\n",
        "Retorna o tipo de dados dos elementos do array."
      ]
    },
    {
      "cell_type": "code",
      "execution_count": null,
      "metadata": {
        "id": "npiL84Vfltpu",
        "colab": {
          "base_uri": "https://localhost:8080/"
        },
        "outputId": "f2799094-28d7-41c9-c8d7-fdbaae7d2663"
      },
      "outputs": [
        {
          "output_type": "execute_result",
          "data": {
            "text/plain": [
              "dtype('float64')"
            ]
          },
          "metadata": {},
          "execution_count": 224
        }
      ],
      "source": [
        "dados.dtype"
      ]
    },
    {
      "cell_type": "markdown",
      "metadata": {
        "id": "j7uPN16oltpv"
      },
      "source": [
        "## *ndarray.T*\n",
        "\n",
        "Retorna o array transposto, isto é, converte linhas em colunas e vice versa."
      ]
    },
    {
      "cell_type": "code",
      "source": [
        "dados.T"
      ],
      "metadata": {
        "colab": {
          "base_uri": "https://localhost:8080/"
        },
        "id": "WUAJvc-c1D0v",
        "outputId": "bb308b3a-419f-461c-8a0e-0d9a197385c0"
      },
      "execution_count": null,
      "outputs": [
        {
          "output_type": "execute_result",
          "data": {
            "text/plain": [
              "array([[44410.,  2003.],\n",
              "       [ 5712.,  1991.],\n",
              "       [37123.,  1990.],\n",
              "       [    0.,  2019.],\n",
              "       [25757.,  2006.]])"
            ]
          },
          "metadata": {},
          "execution_count": 225
        }
      ]
    },
    {
      "cell_type": "code",
      "execution_count": null,
      "metadata": {
        "id": "bLjrrx56ltpv",
        "colab": {
          "base_uri": "https://localhost:8080/"
        },
        "outputId": "2d59a428-ea21-40de-e141-8f67c537d6b7"
      },
      "outputs": [
        {
          "output_type": "execute_result",
          "data": {
            "text/plain": [
              "array([[44410.,  2003.],\n",
              "       [ 5712.,  1991.],\n",
              "       [37123.,  1990.],\n",
              "       [    0.,  2019.],\n",
              "       [25757.,  2006.]])"
            ]
          },
          "metadata": {},
          "execution_count": 227
        }
      ],
      "source": [
        "dados.transpose()"
      ]
    },
    {
      "cell_type": "code",
      "execution_count": null,
      "metadata": {
        "id": "5A9SlJQvltpw"
      },
      "outputs": [],
      "source": []
    },
    {
      "cell_type": "markdown",
      "metadata": {
        "id": "e9r6ryTrltpw"
      },
      "source": [
        "### Métodos\n",
        "\n",
        "https://numpy.org/doc/1.16/reference/arrays.ndarray.html#array-methods"
      ]
    },
    {
      "cell_type": "markdown",
      "metadata": {
        "id": "SR9KYy-0ltpw"
      },
      "source": [
        "## *ndarray.tolist()*\n",
        "\n",
        "Retorna o array como uma lista Python."
      ]
    },
    {
      "cell_type": "code",
      "execution_count": null,
      "metadata": {
        "id": "C2aTAwOXltpw",
        "colab": {
          "base_uri": "https://localhost:8080/"
        },
        "outputId": "74c09f01-6816-47d4-ca3c-3431c24da1dc"
      },
      "outputs": [
        {
          "output_type": "execute_result",
          "data": {
            "text/plain": [
              "[[44410.0, 5712.0, 37123.0, 0.0, 25757.0],\n",
              " [2003.0, 1991.0, 1990.0, 2019.0, 2006.0]]"
            ]
          },
          "metadata": {},
          "execution_count": 228
        }
      ],
      "source": [
        "dados.tolist()"
      ]
    },
    {
      "cell_type": "markdown",
      "metadata": {
        "id": "bHxcxugPltpx"
      },
      "source": [
        "## *ndarray.reshape(shape[, order])*\n",
        "\n",
        "Retorna um array que contém os mesmos dados com uma nova forma."
      ]
    },
    {
      "cell_type": "code",
      "execution_count": null,
      "metadata": {
        "id": "lwESxO71ltpx",
        "colab": {
          "base_uri": "https://localhost:8080/"
        },
        "outputId": "2e878674-4965-4a91-edec-4b4a2bb4816e"
      },
      "outputs": [
        {
          "output_type": "execute_result",
          "data": {
            "text/plain": [
              "array([0, 1, 2, 3, 4, 5, 6, 7, 8, 9])"
            ]
          },
          "metadata": {},
          "execution_count": 229
        }
      ],
      "source": [
        "contador = np.arange(10)\n",
        "contador"
      ]
    },
    {
      "cell_type": "code",
      "execution_count": null,
      "metadata": {
        "id": "sh9poyfzltpy",
        "colab": {
          "base_uri": "https://localhost:8080/"
        },
        "outputId": "477a552e-12cc-4f4d-f5de-8b3f089f9d81"
      },
      "outputs": [
        {
          "output_type": "execute_result",
          "data": {
            "text/plain": [
              "array([[0, 1],\n",
              "       [2, 3],\n",
              "       [4, 5],\n",
              "       [6, 7],\n",
              "       [8, 9]])"
            ]
          },
          "metadata": {},
          "execution_count": 230
        }
      ],
      "source": [
        "contador.reshape((5, 2))"
      ]
    },
    {
      "cell_type": "code",
      "execution_count": null,
      "metadata": {
        "id": "5332Xu8-ltpy",
        "colab": {
          "base_uri": "https://localhost:8080/"
        },
        "outputId": "5e58bc31-f116-47ee-81cf-0a4876d2b0d9"
      },
      "outputs": [
        {
          "output_type": "execute_result",
          "data": {
            "text/plain": [
              "array([[0, 1],\n",
              "       [2, 3],\n",
              "       [4, 5],\n",
              "       [6, 7],\n",
              "       [8, 9]])"
            ]
          },
          "metadata": {},
          "execution_count": 232
        }
      ],
      "source": [
        "contador.reshape((5, 2), order='C')\n"
      ]
    },
    {
      "cell_type": "code",
      "execution_count": null,
      "metadata": {
        "id": "2RoZvbgHltpz",
        "colab": {
          "base_uri": "https://localhost:8080/"
        },
        "outputId": "dcf268df-44e8-465e-9371-a260a2918938"
      },
      "outputs": [
        {
          "output_type": "execute_result",
          "data": {
            "text/plain": [
              "array([[0, 5],\n",
              "       [1, 6],\n",
              "       [2, 7],\n",
              "       [3, 8],\n",
              "       [4, 9]])"
            ]
          },
          "metadata": {},
          "execution_count": 233
        }
      ],
      "source": [
        "contador.reshape((5, 2), order='F')"
      ]
    },
    {
      "cell_type": "code",
      "execution_count": null,
      "metadata": {
        "id": "6q0dJZ-dltp0"
      },
      "outputs": [],
      "source": [
        "km = [44410, 5712, 37123, 0, 25757]\n",
        "anos = [2003, 1991, 1990, 2019, 2006]"
      ]
    },
    {
      "cell_type": "code",
      "execution_count": null,
      "metadata": {
        "id": "bs56aGrkltp0",
        "colab": {
          "base_uri": "https://localhost:8080/"
        },
        "outputId": "b7b54703-f8bf-4222-c0c8-70d26355ffb7"
      },
      "outputs": [
        {
          "output_type": "execute_result",
          "data": {
            "text/plain": [
              "[44410, 5712, 37123, 0, 25757, 2003, 1991, 1990, 2019, 2006]"
            ]
          },
          "metadata": {},
          "execution_count": 235
        }
      ],
      "source": [
        "info_carros = km + anos\n",
        "info_carros"
      ]
    },
    {
      "cell_type": "code",
      "execution_count": null,
      "metadata": {
        "id": "s_GkTk2fltp1",
        "colab": {
          "base_uri": "https://localhost:8080/"
        },
        "outputId": "3f37ad3b-c563-4d40-98f6-e7523b4cbbc3"
      },
      "outputs": [
        {
          "output_type": "execute_result",
          "data": {
            "text/plain": [
              "array([[44410,  5712, 37123,     0, 25757],\n",
              "       [ 2003,  1991,  1990,  2019,  2006]])"
            ]
          },
          "metadata": {},
          "execution_count": 238
        }
      ],
      "source": [
        "np.array(info_carros).reshape((2, 5))"
      ]
    },
    {
      "cell_type": "code",
      "execution_count": null,
      "metadata": {
        "id": "xodm8DVZltp1",
        "colab": {
          "base_uri": "https://localhost:8080/"
        },
        "outputId": "d2e36a99-e462-4aab-ce64-1d4be47eb2e0"
      },
      "outputs": [
        {
          "output_type": "execute_result",
          "data": {
            "text/plain": [
              "array([[44410,  2003],\n",
              "       [ 5712,  1991],\n",
              "       [37123,  1990],\n",
              "       [    0,  2019],\n",
              "       [25757,  2006]])"
            ]
          },
          "metadata": {},
          "execution_count": 240
        }
      ],
      "source": [
        "np.array(info_carros).reshape((5, 2), order='F')\n"
      ]
    },
    {
      "cell_type": "markdown",
      "metadata": {
        "id": "Tdj5iArbltp2"
      },
      "source": [
        "## *ndarray.resize(new_shape[, refcheck])*\n",
        "\n",
        "Altera a forma e o tamanho do array."
      ]
    },
    {
      "cell_type": "code",
      "execution_count": null,
      "metadata": {
        "id": "vB2zxCDtltp2",
        "colab": {
          "base_uri": "https://localhost:8080/"
        },
        "outputId": "69685e18-295e-4c7a-81e7-237fd3fb7fe0"
      },
      "outputs": [
        {
          "output_type": "execute_result",
          "data": {
            "text/plain": [
              "array([[44410.,  5712., 37123.,     0., 25757.],\n",
              "       [ 2003.,  1991.,  1990.,  2019.,  2006.]])"
            ]
          },
          "metadata": {},
          "execution_count": 241
        }
      ],
      "source": [
        "dados_new = dados.copy()\n",
        "dados_new"
      ]
    },
    {
      "cell_type": "code",
      "execution_count": null,
      "metadata": {
        "id": "IMv0m4Multp2"
      },
      "outputs": [],
      "source": [
        "dados_new.resize((3, 5), refcheck=False)"
      ]
    },
    {
      "cell_type": "code",
      "execution_count": null,
      "metadata": {
        "id": "wpAi9928ltp3",
        "colab": {
          "base_uri": "https://localhost:8080/"
        },
        "outputId": "08902656-a5bf-4f09-a8c0-bc5f77a4b8fd"
      },
      "outputs": [
        {
          "output_type": "execute_result",
          "data": {
            "text/plain": [
              "array([[44410.,  5712., 37123.,     0., 25757.],\n",
              "       [ 2003.,  1991.,  1990.,  2019.,  2006.],\n",
              "       [    0.,     0.,     0.,     0.,     0.]])"
            ]
          },
          "metadata": {},
          "execution_count": 244
        }
      ],
      "source": [
        "dados_new"
      ]
    },
    {
      "cell_type": "code",
      "execution_count": null,
      "metadata": {
        "id": "CJyuKqaFltp3",
        "colab": {
          "base_uri": "https://localhost:8080/"
        },
        "outputId": "3b8b6f30-964a-4662-b589-8fcec199a353"
      },
      "outputs": [
        {
          "output_type": "stream",
          "name": "stderr",
          "text": [
            "/usr/local/lib/python3.7/dist-packages/ipykernel_launcher.py:1: RuntimeWarning: invalid value encountered in true_divide\n",
            "  \"\"\"Entry point for launching an IPython kernel.\n"
          ]
        }
      ],
      "source": [
        "dados_new[2] = dados_new[0] / (2019 - dados_new[1])"
      ]
    },
    {
      "cell_type": "code",
      "execution_count": null,
      "metadata": {
        "id": "bj_iPZAultp4",
        "colab": {
          "base_uri": "https://localhost:8080/"
        },
        "outputId": "dfe4fc19-c5e3-4203-dfde-6e7442dbd261"
      },
      "outputs": [
        {
          "output_type": "execute_result",
          "data": {
            "text/plain": [
              "array([[44410.        ,  5712.        , 37123.        ,     0.        ,\n",
              "        25757.        ],\n",
              "       [ 2003.        ,  1991.        ,  1990.        ,  2019.        ,\n",
              "         2006.        ],\n",
              "       [ 2775.625     ,   204.        ,  1280.10344828,            nan,\n",
              "         1981.30769231]])"
            ]
          },
          "metadata": {},
          "execution_count": 246
        }
      ],
      "source": [
        "dados_new"
      ]
    },
    {
      "cell_type": "markdown",
      "metadata": {
        "id": "GPSk7Q_Dltp4"
      },
      "source": [
        "# 5.5 Estatísticas com arrays Numpy\n",
        "\n",
        "https://numpy.org/doc/1.16/reference/arrays.ndarray.html#calculation\n",
        "\n",
        "e\n",
        "\n",
        "https://numpy.org/doc/1.16/reference/routines.statistics.html\n",
        "\n",
        "e\n",
        "\n",
        "https://numpy.org/doc/1.16/reference/routines.math.html"
      ]
    },
    {
      "cell_type": "code",
      "execution_count": null,
      "metadata": {
        "id": "RH2u1orXltp5"
      },
      "outputs": [],
      "source": [
        "anos = np.loadtxt(fname = \"carros-anos.txt\", dtype = int)\n",
        "km = np.loadtxt(fname = \"carros-km.txt\")\n",
        "valor = np.loadtxt(fname = \"carros-valor.txt\")"
      ]
    },
    {
      "cell_type": "code",
      "source": [
        "anos.shape"
      ],
      "metadata": {
        "colab": {
          "base_uri": "https://localhost:8080/"
        },
        "id": "9Zg727H44UyE",
        "outputId": "8c88ce31-de4d-4fe9-b223-29b79668076e"
      },
      "execution_count": null,
      "outputs": [
        {
          "output_type": "execute_result",
          "data": {
            "text/plain": [
              "(258,)"
            ]
          },
          "metadata": {},
          "execution_count": 249
        }
      ]
    },
    {
      "cell_type": "code",
      "execution_count": null,
      "metadata": {
        "id": "wbITF7r6ltp5"
      },
      "outputs": [],
      "source": []
    },
    {
      "cell_type": "markdown",
      "metadata": {
        "id": "U_x3SOVDltp7"
      },
      "source": [
        "https://numpy.org/doc/1.16/reference/generated/numpy.column_stack.html"
      ]
    },
    {
      "cell_type": "code",
      "execution_count": null,
      "metadata": {
        "id": "wefxl-XBltp8",
        "colab": {
          "base_uri": "https://localhost:8080/"
        },
        "outputId": "df14efc1-ca1b-439d-a484-3a00942e0448"
      },
      "outputs": [
        {
          "output_type": "execute_result",
          "data": {
            "text/plain": [
              "array([[2.0030000e+03, 4.4410000e+04, 8.8078640e+04],\n",
              "       [1.9910000e+03, 5.7120000e+03, 1.0616194e+05],\n",
              "       [1.9900000e+03, 3.7123000e+04, 7.2832160e+04],\n",
              "       [2.0190000e+03, 0.0000000e+00, 1.2454907e+05],\n",
              "       [2.0060000e+03, 2.5757000e+04, 9.2612100e+04],\n",
              "       [2.0120000e+03, 1.0728000e+04, 9.7497730e+04],\n",
              "       [2.0190000e+03, 0.0000000e+00, 5.6445200e+04],\n",
              "       [2.0090000e+03, 7.7599000e+04, 1.1231044e+05],\n",
              "       [2.0100000e+03, 9.9197000e+04, 1.2071627e+05],\n",
              "       [2.0110000e+03, 3.7978000e+04, 7.6566490e+04],\n",
              "       [2.0020000e+03, 1.2859000e+04, 7.1647590e+04],\n",
              "       [2.0070000e+03, 8.0520000e+03, 7.3919530e+04],\n",
              "       [2.0010000e+03, 8.9773000e+04, 1.1273299e+05],\n",
              "       [2.0190000e+03, 0.0000000e+00, 5.3183380e+04],\n",
              "       [2.0090000e+03, 4.1457000e+04, 1.2748842e+05],\n",
              "       [2.0160000e+03, 1.1560700e+05, 5.9910400e+04],\n",
              "       [2.0120000e+03, 4.6449000e+04, 6.1118590e+04],\n",
              "       [2.0190000e+03, 0.0000000e+00, 8.8552390e+04],\n",
              "       [2.0160000e+03, 3.7086000e+04, 6.2696690e+04],\n",
              "       [2.0170000e+03, 1.5173000e+04, 1.0172630e+05],\n",
              "       [2.0020000e+03, 1.0119300e+05, 1.0614738e+05],\n",
              "       [2.0190000e+03, 0.0000000e+00, 9.4564400e+04],\n",
              "       [1.9940000e+03, 9.8079000e+04, 1.3352984e+05],\n",
              "       [1.9910000e+03, 1.0295900e+05, 1.2568465e+05],\n",
              "       [2.0190000e+03, 0.0000000e+00, 1.2159621e+05],\n",
              "       [2.0190000e+03, 0.0000000e+00, 7.1367100e+04],\n",
              "       [2.0160000e+03, 5.7950000e+03, 9.5347750e+04],\n",
              "       [2.0190000e+03, 0.0000000e+00, 1.0543284e+05],\n",
              "       [2.0020000e+03, 5.8848000e+04, 5.7045270e+04],\n",
              "       [1.9910000e+03, 9.4381000e+04, 1.2043270e+05],\n",
              "       [1.9970000e+03, 3.0163000e+04, 7.0707200e+04],\n",
              "       [1.9950000e+03, 5.3332000e+04, 6.9105180e+04],\n",
              "       [2.0180000e+03, 1.7720000e+04, 5.9358690e+04],\n",
              "       [1.9910000e+03, 3.3808000e+04, 6.5955400e+04],\n",
              "       [2.0140000e+03, 9.0684000e+04, 6.0017030e+04],\n",
              "       [1.9950000e+03, 4.3975000e+04, 1.1890952e+05],\n",
              "       [2.0190000e+03, 0.0000000e+00, 5.1606590e+04],\n",
              "       [2.0190000e+03, 0.0000000e+00, 1.2328187e+05],\n",
              "       [2.0090000e+03, 5.5260000e+03, 6.9770180e+04],\n",
              "       [2.0190000e+03, 0.0000000e+00, 1.0260954e+05],\n",
              "       [2.0130000e+03, 9.3415000e+04, 6.7997190e+04],\n",
              "       [2.0030000e+03, 4.0762000e+04, 1.3523529e+05],\n",
              "       [2.0190000e+03, 0.0000000e+00, 8.6641340e+04],\n",
              "       [2.0020000e+03, 8.6302000e+04, 1.3681839e+05],\n",
              "       [2.0190000e+03, 0.0000000e+00, 1.1762673e+05],\n",
              "       [2.0020000e+03, 9.7550000e+03, 5.6208700e+04],\n",
              "       [2.0040000e+03, 6.9945000e+04, 8.4222650e+04],\n",
              "       [2.0010000e+03, 2.3950000e+03, 9.0781650e+04],\n",
              "       [2.0190000e+03, 0.0000000e+00, 6.4701100e+04],\n",
              "       [2.0030000e+03, 8.0349000e+04, 1.2635049e+05],\n",
              "       [2.0090000e+03, 8.5554000e+04, 1.4815289e+05],\n",
              "       [2.0060000e+03, 5.0496000e+04, 1.3229883e+05],\n",
              "       [2.0000000e+03, 6.7716000e+04, 1.3762763e+05],\n",
              "       [2.0060000e+03, 9.3947000e+04, 8.0422710e+04],\n",
              "       [2.0100000e+03, 3.5345000e+04, 5.6373990e+04],\n",
              "       [1.9940000e+03, 8.1007000e+04, 7.0846030e+04],\n",
              "       [2.0070000e+03, 1.1951300e+05, 1.2869423e+05],\n",
              "       [2.0190000e+03, 0.0000000e+00, 1.3332919e+05],\n",
              "       [2.0190000e+03, 0.0000000e+00, 1.3196143e+05],\n",
              "       [2.0190000e+03, 0.0000000e+00, 1.1203327e+05],\n",
              "       [2.0190000e+03, 0.0000000e+00, 8.1399350e+04],\n",
              "       [2.0190000e+03, 0.0000000e+00, 9.7163100e+04],\n",
              "       [2.0170000e+03, 1.1889500e+05, 6.6007160e+04],\n",
              "       [2.0110000e+03, 4.8509000e+04, 1.2877622e+05],\n",
              "       [2.0010000e+03, 1.0091200e+05, 1.4262302e+05],\n",
              "       [1.9960000e+03, 9.5649000e+04, 1.3693013e+05],\n",
              "       [2.0190000e+03, 0.0000000e+00, 6.6526610e+04],\n",
              "       [1.9940000e+03, 9.0495000e+04, 1.1415487e+05],\n",
              "       [2.0190000e+03, 0.0000000e+00, 1.4239275e+05],\n",
              "       [2.0070000e+03, 2.9132000e+04, 1.4671691e+05],\n",
              "       [1.9940000e+03, 2.3802000e+04, 1.2248568e+05],\n",
              "       [2.0070000e+03, 8.4992000e+04, 9.7951030e+04],\n",
              "       [1.9970000e+03, 5.4395000e+04, 7.8283490e+04],\n",
              "       [2.0060000e+03, 2.6731000e+04, 8.3434040e+04],\n",
              "       [2.0130000e+03, 4.4329000e+04, 7.7836230e+04],\n",
              "       [1.9940000e+03, 1.1823600e+05, 6.0813920e+04],\n",
              "       [2.0080000e+03, 1.1380800e+05, 9.1353860e+04],\n",
              "       [2.0080000e+03, 6.1000000e+02, 1.1628121e+05],\n",
              "       [2.0190000e+03, 0.0000000e+00, 1.4519770e+05],\n",
              "       [2.0190000e+03, 0.0000000e+00, 5.0742100e+04],\n",
              "       [1.9990000e+03, 1.2887000e+04, 7.3033530e+04],\n",
              "       [2.0070000e+03, 7.9607000e+04, 5.4332870e+04],\n",
              "       [1.9930000e+03, 9.0924000e+04, 5.2207450e+04],\n",
              "       [1.9950000e+03, 4.2733000e+04, 6.3578500e+04],\n",
              "       [2.0190000e+03, 0.0000000e+00, 6.4507720e+04],\n",
              "       [2.0190000e+03, 0.0000000e+00, 1.1507559e+05],\n",
              "       [2.0160000e+03, 1.1771400e+05, 1.3303060e+05],\n",
              "       [2.0110000e+03, 1.1388500e+05, 1.4159186e+05],\n",
              "       [2.0190000e+03, 0.0000000e+00, 1.0038028e+05],\n",
              "       [2.0020000e+03, 3.0511000e+04, 9.6369040e+04],\n",
              "       [2.0130000e+03, 7.4867000e+04, 1.4260384e+05],\n",
              "       [2.0170000e+03, 1.1976000e+05, 1.1770967e+05],\n",
              "       [2.0160000e+03, 8.3560000e+03, 1.0224154e+05],\n",
              "       [2.0080000e+03, 6.4247000e+04, 9.6065380e+04],\n",
              "       [2.0180000e+03, 8.8661000e+04, 5.3894610e+04],\n",
              "       [2.0030000e+03, 4.5390000e+03, 1.2391178e+05],\n",
              "       [2.0030000e+03, 1.1011600e+05, 1.0199635e+05],\n",
              "       [2.0040000e+03, 3.3215000e+04, 8.3431660e+04],\n",
              "       [2.0100000e+03, 9.2001000e+04, 1.2297563e+05],\n",
              "       [2.0190000e+03, 0.0000000e+00, 9.3227730e+04],\n",
              "       [2.0060000e+03, 8.1708000e+04, 5.8762650e+04],\n",
              "       [2.0010000e+03, 7.0641000e+04, 1.3954967e+05],\n",
              "       [2.0190000e+03, 0.0000000e+00, 1.2201642e+05],\n",
              "       [2.0150000e+03, 9.1277000e+04, 7.2731980e+04],\n",
              "       [2.0180000e+03, 2.6544000e+04, 8.8416540e+04],\n",
              "       [2.0170000e+03, 5.2596000e+04, 7.3873420e+04],\n",
              "       [1.9920000e+03, 4.7503000e+04, 7.0709340e+04],\n",
              "       [2.0010000e+03, 8.9056000e+04, 1.1530650e+05],\n",
              "       [1.9930000e+03, 2.8834000e+04, 5.5924630e+04],\n",
              "       [1.9950000e+03, 1.1056400e+05, 8.5052260e+04],\n",
              "       [2.0030000e+03, 5.6638000e+04, 5.6646340e+04],\n",
              "       [2.0140000e+03, 1.7357000e+04, 1.3894688e+05],\n",
              "       [2.0080000e+03, 7.4015000e+04, 1.0825672e+05],\n",
              "       [2.0130000e+03, 1.5196000e+04, 5.8979300e+04],\n",
              "       [2.0190000e+03, 0.0000000e+00, 1.1472768e+05],\n",
              "       [2.0170000e+03, 1.0821000e+04, 1.3966148e+05],\n",
              "       [2.0190000e+03, 0.0000000e+00, 8.0382240e+04],\n",
              "       [2.0190000e+03, 0.0000000e+00, 1.4915717e+05],\n",
              "       [2.0060000e+03, 9.5950000e+03, 8.7830410e+04],\n",
              "       [2.0150000e+03, 9.9052000e+04, 1.4356822e+05],\n",
              "       [2.0070000e+03, 5.2389000e+04, 1.3817185e+05],\n",
              "       [2.0050000e+03, 1.1994500e+05, 1.1578495e+05],\n",
              "       [2.0170000e+03, 9.6005000e+04, 1.4650899e+05],\n",
              "       [1.9980000e+03, 3.1639000e+04, 1.3767023e+05],\n",
              "       [2.0190000e+03, 0.0000000e+00, 1.3859727e+05],\n",
              "       [1.9990000e+03, 8.0187000e+04, 1.4762781e+05],\n",
              "       [2.0190000e+03, 0.0000000e+00, 6.2999020e+04],\n",
              "       [2.0090000e+03, 5.8212000e+04, 9.1242440e+04],\n",
              "       [2.0030000e+03, 6.1672000e+04, 1.4948992e+05],\n",
              "       [1.9940000e+03, 3.2017000e+04, 6.3529950e+04],\n",
              "       [2.0190000e+03, 0.0000000e+00, 5.8525410e+04],\n",
              "       [1.9940000e+03, 5.6944000e+04, 9.0345050e+04],\n",
              "       [2.0190000e+03, 0.0000000e+00, 1.4777087e+05],\n",
              "       [2.0150000e+03, 8.6519000e+04, 1.0661771e+05],\n",
              "       [1.9960000e+03, 4.8210000e+03, 1.0492988e+05],\n",
              "       [1.9970000e+03, 1.0102500e+05, 1.0071245e+05],\n",
              "       [1.9930000e+03, 3.0705000e+04, 1.4198293e+05],\n",
              "       [2.0190000e+03, 0.0000000e+00, 1.0403879e+05],\n",
              "       [1.9920000e+03, 3.2555000e+04, 8.8501540e+04],\n",
              "       [1.9950000e+03, 1.0338900e+05, 7.9782020e+04],\n",
              "       [2.0190000e+03, 0.0000000e+00, 8.6224100e+04],\n",
              "       [1.9900000e+03, 5.5289000e+04, 1.0359618e+05],\n",
              "       [2.0190000e+03, 0.0000000e+00, 1.4899647e+05],\n",
              "       [2.0190000e+03, 0.0000000e+00, 6.0948010e+04],\n",
              "       [1.9910000e+03, 1.1593000e+05, 6.9535440e+04],\n",
              "       [1.9900000e+03, 6.6437000e+04, 1.1113033e+05],\n",
              "       [2.0120000e+03, 9.6800000e+04, 6.5847690e+04],\n",
              "       [2.0070000e+03, 1.4237000e+04, 7.8096060e+04],\n",
              "       [2.0130000e+03, 1.9896000e+04, 6.9219890e+04],\n",
              "       [2.0000000e+03, 1.1304500e+05, 1.4411891e+05],\n",
              "       [2.0020000e+03, 1.1494200e+05, 7.7397050e+04],\n",
              "       [1.9960000e+03, 3.1730000e+03, 6.8974250e+04],\n",
              "       [1.9960000e+03, 8.3611000e+04, 1.2523130e+05],\n",
              "       [2.0150000e+03, 2.5356000e+04, 8.5501120e+04],\n",
              "       [1.9930000e+03, 8.8634000e+04, 1.3711621e+05],\n",
              "       [2.0130000e+03, 2.3140000e+03, 1.3882381e+05],\n",
              "       [2.0130000e+03, 2.6270000e+03, 1.1796195e+05],\n",
              "       [2.0090000e+03, 5.2034000e+04, 1.3266232e+05],\n",
              "       [2.0190000e+03, 0.0000000e+00, 1.4640579e+05],\n",
              "       [2.0190000e+03, 0.0000000e+00, 8.1999210e+04],\n",
              "       [2.0020000e+03, 7.9577000e+04, 1.4093460e+05],\n",
              "       [1.9970000e+03, 1.0820100e+05, 8.2366810e+04],\n",
              "       [1.9980000e+03, 7.6453000e+04, 7.0424110e+04],\n",
              "       [2.0040000e+03, 5.7683000e+04, 5.3620310e+04],\n",
              "       [1.9960000e+03, 9.6610000e+04, 7.3389180e+04],\n",
              "       [2.0150000e+03, 1.0900100e+05, 1.1161812e+05],\n",
              "       [2.0160000e+03, 2.6212000e+04, 1.1218737e+05],\n",
              "       [2.0050000e+03, 4.5971000e+04, 1.2081257e+05],\n",
              "       [1.9990000e+03, 4.9182000e+04, 1.1603104e+05],\n",
              "       [1.9950000e+03, 4.9907000e+04, 1.2539811e+05],\n",
              "       [1.9930000e+03, 3.8620000e+04, 7.6101470e+04],\n",
              "       [2.0040000e+03, 6.0996000e+04, 7.5263240e+04],\n",
              "       [2.0130000e+03, 7.3914000e+04, 1.4738776e+05],\n",
              "       [1.9980000e+03, 1.0739200e+05, 8.5311400e+04],\n",
              "       [2.0180000e+03, 9.1460000e+03, 5.4388110e+04],\n",
              "       [2.0190000e+03, 0.0000000e+00, 1.2415665e+05],\n",
              "       [2.0180000e+03, 1.7924000e+04, 1.4620334e+05],\n",
              "       [2.0190000e+03, 0.0000000e+00, 5.6453940e+04],\n",
              "       [1.9900000e+03, 1.1694900e+05, 6.8873790e+04],\n",
              "       [2.0090000e+03, 2.0476000e+04, 9.1667610e+04],\n",
              "       [1.9900000e+03, 5.2804000e+04, 9.3776520e+04],\n",
              "       [2.0060000e+03, 8.8490000e+03, 6.6433820e+04],\n",
              "       [2.0020000e+03, 9.1724000e+04, 1.0905927e+05],\n",
              "       [1.9910000e+03, 3.2056000e+04, 1.2206997e+05],\n",
              "       [1.9920000e+03, 7.4886000e+04, 1.1309032e+05],\n",
              "       [2.0190000e+03, 0.0000000e+00, 8.9401100e+04],\n",
              "       [2.0190000e+03, 0.0000000e+00, 5.6842790e+04],\n",
              "       [2.0050000e+03, 5.2189000e+04, 1.4667671e+05],\n",
              "       [2.0100000e+03, 8.3559000e+04, 8.9511960e+04],\n",
              "       [2.0190000e+03, 0.0000000e+00, 9.7290180e+04],\n",
              "       [2.0160000e+03, 2.0328000e+04, 1.2067356e+05],\n",
              "       [2.0190000e+03, 0.0000000e+00, 1.1443494e+05],\n",
              "       [2.0100000e+03, 7.5577000e+04, 1.3954669e+05],\n",
              "       [1.9940000e+03, 3.3659000e+04, 9.5078160e+04],\n",
              "       [2.0010000e+03, 1.0434100e+05, 6.8091770e+04],\n",
              "       [2.0140000e+03, 2.5510000e+04, 6.1496970e+04],\n",
              "       [1.9960000e+03, 1.8965000e+04, 1.3966930e+05],\n",
              "       [1.9930000e+03, 8.7161000e+04, 8.0661390e+04],\n",
              "       [1.9930000e+03, 6.6520000e+03, 6.1783650e+04],\n",
              "       [2.0010000e+03, 5.5738000e+04, 5.2805910e+04],\n",
              "       [2.0190000e+03, 0.0000000e+00, 1.2702475e+05],\n",
              "       [2.0190000e+03, 0.0000000e+00, 1.3554300e+05],\n",
              "       [2.0190000e+03, 0.0000000e+00, 1.2170873e+05],\n",
              "       [2.0070000e+03, 6.4320000e+04, 1.0734268e+05],\n",
              "       [2.0190000e+03, 0.0000000e+00, 5.7888100e+04],\n",
              "       [2.0160000e+03, 6.8678000e+04, 1.1816148e+05],\n",
              "       [2.0140000e+03, 7.1697000e+04, 1.4249906e+05],\n",
              "       [2.0190000e+03, 0.0000000e+00, 1.2839611e+05],\n",
              "       [2.0150000e+03, 3.4783000e+04, 1.1235061e+05],\n",
              "       [2.0150000e+03, 3.3772000e+04, 1.2466138e+05],\n",
              "       [1.9960000e+03, 8.5127000e+04, 5.4263160e+04],\n",
              "       [2.0020000e+03, 1.3606000e+04, 6.2041320e+04],\n",
              "       [2.0050000e+03, 3.5647000e+04, 1.2929611e+05],\n",
              "       [1.9950000e+03, 9.5128000e+04, 6.0998330e+04],\n",
              "       [1.9990000e+03, 1.4046000e+04, 5.8008500e+04],\n",
              "       [2.0050000e+03, 4.1194000e+04, 8.2304190e+04],\n",
              "       [2.0190000e+03, 0.0000000e+00, 1.1453174e+05],\n",
              "       [1.9970000e+03, 9.6100000e+04, 1.2856561e+05],\n",
              "       [1.9900000e+03, 1.0390000e+05, 1.2648826e+05],\n",
              "       [2.0010000e+03, 4.3814000e+04, 1.1907455e+05],\n",
              "       [2.0130000e+03, 2.4638000e+04, 1.3023804e+05],\n",
              "       [2.0190000e+03, 0.0000000e+00, 1.1576017e+05],\n",
              "       [2.0170000e+03, 1.1096600e+05, 1.2124800e+05],\n",
              "       [2.0110000e+03, 1.5987000e+04, 9.8156350e+04],\n",
              "       [2.0050000e+03, 5.3369000e+04, 1.1214680e+05],\n",
              "       [2.0070000e+03, 1.0077000e+04, 1.0272963e+05],\n",
              "       [1.9930000e+03, 7.1544000e+04, 1.4108335e+05],\n",
              "       [1.9910000e+03, 1.0700000e+02, 1.0296876e+05],\n",
              "       [1.9910000e+03, 8.3940000e+03, 7.6310010e+04],\n",
              "       [1.9970000e+03, 4.1498000e+04, 1.2048174e+05],\n",
              "       [2.0000000e+03, 1.1600200e+05, 5.4559180e+04],\n",
              "       [2.0070000e+03, 1.0085800e+05, 9.2957640e+04],\n",
              "       [2.0060000e+03, 6.7475000e+04, 1.2781006e+05],\n",
              "       [2.0150000e+03, 8.4970000e+03, 7.3311750e+04],\n",
              "       [2.0080000e+03, 4.4200000e+03, 6.5138030e+04],\n",
              "       [2.0190000e+03, 0.0000000e+00, 9.0141470e+04],\n",
              "       [1.9960000e+03, 5.8537000e+04, 7.1160360e+04],\n",
              "       [2.0190000e+03, 0.0000000e+00, 6.7539790e+04],\n",
              "       [2.0190000e+03, 0.0000000e+00, 6.7664860e+04],\n",
              "       [2.0140000e+03, 1.1201600e+05, 6.8652160e+04],\n",
              "       [2.0040000e+03, 9.1840000e+04, 1.1472874e+05],\n",
              "       [2.0080000e+03, 1.1278700e+05, 1.4164508e+05],\n",
              "       [2.0190000e+03, 0.0000000e+00, 1.2624784e+05],\n",
              "       [2.0190000e+03, 0.0000000e+00, 1.2885221e+05],\n",
              "       [2.0120000e+03, 9.2930000e+03, 1.3238476e+05],\n",
              "       [2.0190000e+03, 0.0000000e+00, 1.2941533e+05],\n",
              "       [1.9960000e+03, 5.5083000e+04, 8.9536820e+04],\n",
              "       [2.0110000e+03, 4.8796000e+04, 8.7975300e+04],\n",
              "       [2.0190000e+03, 0.0000000e+00, 7.7675790e+04],\n",
              "       [2.0100000e+03, 8.9685000e+04, 5.8881670e+04],\n",
              "       [2.0070000e+03, 8.5384000e+04, 5.5081990e+04],\n",
              "       [1.9940000e+03, 9.8108000e+04, 1.1882644e+05],\n",
              "       [2.0070000e+03, 7.1280000e+04, 1.3762762e+05],\n",
              "       [2.0140000e+03, 2.7505000e+04, 5.1759580e+04],\n",
              "       [1.9910000e+03, 2.9981000e+04, 5.1667060e+04],\n",
              "       [2.0020000e+03, 5.2637000e+04, 6.8934030e+04],\n",
              "       [1.9960000e+03, 7.6850000e+03, 1.2211090e+05],\n",
              "       [1.9920000e+03, 5.0188000e+04, 9.0381470e+04]])"
            ]
          },
          "metadata": {},
          "execution_count": 250
        }
      ],
      "source": [
        "dataset = np.column_stack((anos, km, valor))\n",
        "dataset"
      ]
    },
    {
      "cell_type": "code",
      "execution_count": null,
      "metadata": {
        "id": "OzDTTmj8ltp_",
        "scrolled": true,
        "colab": {
          "base_uri": "https://localhost:8080/"
        },
        "outputId": "7d2c98e3-2d4e-4e00-fe88-1074cde1276e"
      },
      "outputs": [
        {
          "output_type": "execute_result",
          "data": {
            "text/plain": [
              "(258, 3)"
            ]
          },
          "metadata": {},
          "execution_count": 251
        }
      ],
      "source": [
        "dataset.shape"
      ]
    },
    {
      "cell_type": "markdown",
      "metadata": {
        "id": "Me6yUU_RltqA"
      },
      "source": [
        "## *np.mean()*\n",
        "\n",
        "Retorna a média dos elementos do array ao longo do eixo especificado."
      ]
    },
    {
      "cell_type": "code",
      "execution_count": null,
      "metadata": {
        "id": "MNEKcP38ltqA",
        "colab": {
          "base_uri": "https://localhost:8080/"
        },
        "outputId": "c88bedcf-7367-4ade-c5e2-5a3390928087"
      },
      "outputs": [
        {
          "output_type": "execute_result",
          "data": {
            "text/plain": [
              "array([ 2007.51162791, 44499.41472868, 98960.51310078])"
            ]
          },
          "metadata": {},
          "execution_count": 254
        }
      ],
      "source": [
        "np.mean(dataset, axis = 0)                            #resulta a média = ano médio, km média, valor médio"
      ]
    },
    {
      "cell_type": "code",
      "execution_count": null,
      "metadata": {
        "id": "sekHQ84zltqB",
        "colab": {
          "base_uri": "https://localhost:8080/"
        },
        "outputId": "88034219-55d7-4d99-88da-00da9e0316fa"
      },
      "outputs": [
        {
          "output_type": "execute_result",
          "data": {
            "text/plain": [
              "array([44830.54666667, 37954.98      , 37315.05333333, 42189.35666667,\n",
              "       40125.03333333, 36745.91      , 19488.06666667, 63972.81333333,\n",
              "       73974.42333333, 38851.83      , 28836.19666667, 27992.84333333,\n",
              "       68168.99666667, 18400.79333333, 56984.80666667, 59177.8       ,\n",
              "       36526.53      , 30190.46333333, 33932.89666667, 39638.76666667,\n",
              "       69780.79333333, 32194.46666667, 77867.61333333, 76878.21666667,\n",
              "       41205.07      , 24462.03333333, 34386.25      , 35817.28      ,\n",
              "       39298.42333333, 72268.23333333, 34289.06666667, 41477.39333333,\n",
              "       26365.56333333, 33918.13333333, 50905.01      , 54959.84      ,\n",
              "       17875.19666667, 41766.95666667, 25768.39333333, 34876.18      ,\n",
              "       54475.06333333, 59333.43      , 29553.44666667, 75040.79666667,\n",
              "       39881.91      , 22655.23333333, 52057.21666667, 31725.88333333,\n",
              "       22240.03333333, 69567.49666667, 78571.96333333, 61600.27666667,\n",
              "       69114.54333333, 58791.90333333, 31242.99666667, 51282.34333333,\n",
              "       83404.74333333, 45116.06333333, 44660.14333333, 38017.42333333,\n",
              "       27806.11666667, 33060.7       , 62306.38666667, 59765.40666667,\n",
              "       81845.34      , 78191.71      , 22848.53666667, 68881.29      ,\n",
              "       48137.25      , 59285.30333333, 49427.22666667, 61650.01      ,\n",
              "       44891.83      , 37390.34666667, 41392.74333333, 60347.97333333,\n",
              "       69056.62      , 39633.07      , 49072.23333333, 17587.03333333,\n",
              "       29306.51      , 45315.62333333, 48374.81666667, 36102.16666667,\n",
              "       22175.57333333, 39031.53      , 84253.53333333, 85829.28666667,\n",
              "       34133.09333333, 42960.68      , 73161.28      , 79828.89      ,\n",
              "       37537.84666667, 54106.79333333, 48191.20333333, 43484.59333333,\n",
              "       71371.78333333, 39550.22      , 72328.87666667, 31748.91      ,\n",
              "       47492.21666667, 70730.55666667, 41345.14      , 55341.32666667,\n",
              "       38992.84666667, 42828.80666667, 40068.11333333, 68787.83333333,\n",
              "       28917.21      , 65870.42      , 38429.11333333, 52772.62666667,\n",
              "       61426.57333333, 25396.1       , 38915.56      , 50833.16      ,\n",
              "       27467.08      , 50392.05666667, 33143.80333333, 81545.07333333,\n",
              "       64189.28333333, 79244.98333333, 81510.33      , 57102.41      ,\n",
              "       46872.09      , 76604.60333333, 21672.67333333, 50487.81333333,\n",
              "       71054.97333333, 32513.65      , 20181.47      , 49761.01666667,\n",
              "       49929.95666667, 65050.57      , 37248.96      , 67911.48333333,\n",
              "       58226.97666667, 35352.59666667, 41016.18      , 61722.00666667,\n",
              "       29414.36666667, 53625.06      , 50338.49      , 20989.00333333,\n",
              "       62485.48      , 59852.44333333, 54886.56333333, 31446.68666667,\n",
              "       30376.29666667, 86387.97      , 64780.35      , 24714.41666667,\n",
              "       70279.43333333, 37624.04      , 75914.40333333, 47716.93666667,\n",
              "       40867.31666667, 62235.10666667, 49474.93      , 28006.07      ,\n",
              "       74171.2       , 64188.27      , 49625.03666667, 37769.10333333,\n",
              "       57331.72666667, 74211.37333333, 46805.12333333, 56262.85666667,\n",
              "       55737.34666667, 59100.03666667, 38904.82333333, 46087.74666667,\n",
              "       74438.25333333, 64900.46666667, 21850.70333333, 42058.55      ,\n",
              "       55381.78      , 19490.98      , 62604.26333333, 38050.87      ,\n",
              "       49523.50666667, 25762.94      , 67595.09      , 52038.99      ,\n",
              "       63322.77333333, 30473.36666667, 19620.59666667, 66956.90333333,\n",
              "       58360.32      , 33103.06      , 47672.52      , 38817.98      ,\n",
              "       72377.89666667, 43577.05333333, 58144.59      , 29673.65666667,\n",
              "       53543.43333333, 56605.13      , 23476.21666667, 36848.30333333,\n",
              "       43014.58333333, 45854.        , 41242.57666667, 57889.89333333,\n",
              "       19969.03333333, 62951.82666667, 72070.02      , 43471.70333333,\n",
              "       49716.20333333, 53482.79333333, 47128.72      , 25883.10666667,\n",
              "       55649.37      , 52707.11      , 24684.5       , 41834.39666667,\n",
              "       38850.24666667, 75554.20333333, 77459.42      , 54963.18333333,\n",
              "       52296.34666667, 39259.72333333, 78077.        , 38718.11666667,\n",
              "       55840.26666667, 38271.21      , 71540.11666667, 35022.25333333,\n",
              "       28898.33666667, 54658.91333333, 57520.39333333, 65274.21333333,\n",
              "       65763.68666667, 27941.25      , 23855.34333333, 30720.15666667,\n",
              "       43897.78666667, 23186.26333333, 23227.95333333, 60894.05333333,\n",
              "       69524.24666667, 85480.02666667, 42755.61333333, 43623.73666667,\n",
              "       47896.58666667, 43811.44333333, 48871.94      , 46260.76666667,\n",
              "       26564.93      , 50192.22333333, 47490.99666667, 72976.14666667,\n",
              "       70304.87333333, 27092.86      , 27879.68666667, 41191.01      ,\n",
              "       43930.63333333, 47520.49      ])"
            ]
          },
          "metadata": {},
          "execution_count": 256
        }
      ],
      "source": [
        "np.mean(dataset, axis = 1)                          #valor médio por linha"
      ]
    },
    {
      "cell_type": "code",
      "execution_count": null,
      "metadata": {
        "id": "RpyETIVSltqC",
        "colab": {
          "base_uri": "https://localhost:8080/"
        },
        "outputId": "375391a7-81ca-4758-a056-a4e3f500c5f9"
      },
      "outputs": [
        {
          "output_type": "execute_result",
          "data": {
            "text/plain": [
              "44499.41472868217"
            ]
          },
          "metadata": {},
          "execution_count": 257
        }
      ],
      "source": [
        "np.mean(dataset[:, 1])"
      ]
    },
    {
      "cell_type": "code",
      "execution_count": null,
      "metadata": {
        "id": "_-kpcTI8ltqD",
        "scrolled": true,
        "colab": {
          "base_uri": "https://localhost:8080/"
        },
        "outputId": "5ecd6200-c6e6-4655-8fb7-37f279d951e9"
      },
      "outputs": [
        {
          "output_type": "execute_result",
          "data": {
            "text/plain": [
              "98960.51310077519"
            ]
          },
          "metadata": {},
          "execution_count": 258
        }
      ],
      "source": [
        "np.mean(dataset[:, 2])\n"
      ]
    },
    {
      "cell_type": "markdown",
      "metadata": {
        "id": "71jViVBUltqE"
      },
      "source": [
        "## *np.std()*\n",
        "\n",
        "Retorna o desvio padrão dos elementos do array ao longo do eixo especificado."
      ]
    },
    {
      "cell_type": "code",
      "execution_count": null,
      "metadata": {
        "id": "lEwUbPx2ltqE",
        "scrolled": true,
        "colab": {
          "base_uri": "https://localhost:8080/"
        },
        "outputId": "cff523f5-50f1-4947-9c26-ba2d52eaf591"
      },
      "outputs": [
        {
          "output_type": "execute_result",
          "data": {
            "text/plain": [
              "29754.101150388564"
            ]
          },
          "metadata": {},
          "execution_count": 259
        }
      ],
      "source": [
        "np.std(dataset[:, 2])\n"
      ]
    },
    {
      "cell_type": "markdown",
      "metadata": {
        "id": "JTUH-vAeltqG"
      },
      "source": [
        "## *ndarray.sum()*\n",
        "\n",
        "Retorna a soma dos elementos do array ao longo do eixo especificado."
      ]
    },
    {
      "cell_type": "code",
      "execution_count": null,
      "metadata": {
        "id": "jIi3yoaWltqG",
        "colab": {
          "base_uri": "https://localhost:8080/"
        },
        "outputId": "1b7c7da7-5d5b-404e-8bd8-2a73b595b492"
      },
      "outputs": [
        {
          "output_type": "execute_result",
          "data": {
            "text/plain": [
              "array([  517938.        , 11480849.        , 25531812.37999999])"
            ]
          },
          "metadata": {},
          "execution_count": 260
        }
      ],
      "source": [
        "dataset.sum(axis = 0)"
      ]
    },
    {
      "cell_type": "code",
      "execution_count": null,
      "metadata": {
        "id": "X3QYbdYLltqH",
        "colab": {
          "base_uri": "https://localhost:8080/"
        },
        "outputId": "78870075-abda-4ffe-b8df-f05b0f551a21"
      },
      "outputs": [
        {
          "output_type": "execute_result",
          "data": {
            "text/plain": [
              "11480849.0"
            ]
          },
          "metadata": {},
          "execution_count": 261
        }
      ],
      "source": [
        "dataset[:, 1].sum()"
      ]
    },
    {
      "cell_type": "markdown",
      "metadata": {
        "id": "WbBD5ixaltqH"
      },
      "source": [
        "## *np.sum()*\n",
        "\n",
        "Retorna a soma dos elementos do array ao longo do eixo especificado."
      ]
    },
    {
      "cell_type": "code",
      "execution_count": null,
      "metadata": {
        "id": "omB6kgWgltqH",
        "colab": {
          "base_uri": "https://localhost:8080/"
        },
        "outputId": "fb1f84ea-7fcb-42ee-fd1f-34bf3285be9f"
      },
      "outputs": [
        {
          "output_type": "execute_result",
          "data": {
            "text/plain": [
              "array([  517938.        , 11480849.        , 25531812.37999999])"
            ]
          },
          "metadata": {},
          "execution_count": 262
        }
      ],
      "source": [
        "np.sum(dataset, axis = 0)"
      ]
    },
    {
      "cell_type": "code",
      "execution_count": null,
      "metadata": {
        "id": "LiD4G3kQltqI",
        "colab": {
          "base_uri": "https://localhost:8080/"
        },
        "outputId": "d453cfc7-f672-4e2e-f597-9808e67de538"
      },
      "outputs": [
        {
          "output_type": "execute_result",
          "data": {
            "text/plain": [
              "25531812.38"
            ]
          },
          "metadata": {},
          "execution_count": 263
        }
      ],
      "source": [
        "np.sum(dataset[:, 2])\n"
      ]
    },
    {
      "cell_type": "code",
      "execution_count": null,
      "metadata": {
        "id": "kpakpnntltqJ"
      },
      "outputs": [],
      "source": []
    }
  ],
  "metadata": {
    "colab": {
      "name": "Python_Data_Science_Numpy.ipynb",
      "provenance": [],
      "collapsed_sections": [
        "KdG5NmmGltj0",
        "qaVLKIeultkn",
        "fDBrHWSBltlB",
        "8--bcJ01ltm8",
        "_IZuNE48ltnS",
        "8zMZNsg2ltoU",
        "RtG2-g1ultme",
        "e9r6ryTrltpw"
      ],
      "include_colab_link": true
    },
    "kernelspec": {
      "display_name": "Python 3",
      "language": "python",
      "name": "python3"
    },
    "language_info": {
      "codemirror_mode": {
        "name": "ipython",
        "version": 3
      },
      "file_extension": ".py",
      "mimetype": "text/x-python",
      "name": "python",
      "nbconvert_exporter": "python",
      "pygments_lexer": "ipython3",
      "version": "3.6.5"
    }
  },
  "nbformat": 4,
  "nbformat_minor": 0
}